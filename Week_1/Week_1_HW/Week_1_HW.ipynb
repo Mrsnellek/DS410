{
  "cells": [
    {
      "cell_type": "markdown",
      "metadata": {
        "id": "AAlSg0Ic0OK5"
      },
      "source": [
        "The contents of this course including lectures, labs, homework assignments, and exams have all been adapted from the [Data 8 course at University California Berkley](https://data.berkeley.edu/education/courses/data-8). Through their generosity and passion for undergraduate education, the Data 8 community at Berkley has opened their content and expertise for other universities to adapt in the name of undergraduate education."
      ]
    },
    {
      "cell_type": "code",
      "execution_count": 2,
      "metadata": {
        "deletable": false,
        "editable": false,
        "id": "_92FlKBs0OK_"
      },
      "outputs": [],
      "source": [
        "!pip install otter-grader==3.3.0 -q\n",
        "!pip install datascience -q"
      ]
    },
    {
      "cell_type": "code",
      "source": [
        "!git clone https://github.com/Mrsnellek/DS410.git #Clone the directory"
      ],
      "metadata": {
        "id": "UkOfyhxe0qGq",
        "outputId": "21511722-aa64-4665-909d-7be560f389d8",
        "colab": {
          "base_uri": "https://localhost:8080/"
        }
      },
      "execution_count": 4,
      "outputs": [
        {
          "output_type": "stream",
          "name": "stdout",
          "text": [
            "Cloning into 'DS410'...\n",
            "remote: Enumerating objects: 371, done.\u001b[K\n",
            "remote: Counting objects: 100% (371/371), done.\u001b[K\n",
            "remote: Compressing objects: 100% (207/207), done.\u001b[K\n",
            "remote: Total 371 (delta 174), reused 348 (delta 162), pack-reused 0\u001b[K\n",
            "Receiving objects: 100% (371/371), 7.76 MiB | 14.08 MiB/s, done.\n",
            "Resolving deltas: 100% (174/174), done.\n"
          ]
        }
      ]
    },
    {
      "cell_type": "markdown",
      "metadata": {
        "id": "x1eACgCj0OLE"
      },
      "source": [
        "# Homework 1: Testing Hypotheses"
      ]
    },
    {
      "cell_type": "code",
      "source": [
        "cd DS410/Week_1/Week_1_HW/"
      ],
      "metadata": {
        "id": "dsPL8M5y0z4b",
        "outputId": "12c155dd-c477-4009-c461-ffa2e2365dca",
        "colab": {
          "base_uri": "https://localhost:8080/"
        }
      },
      "execution_count": 12,
      "outputs": [
        {
          "output_type": "stream",
          "name": "stdout",
          "text": [
            "/content/DS410/Week_1/Week_1_HW\n"
          ]
        }
      ]
    },
    {
      "cell_type": "markdown",
      "metadata": {
        "id": "R7tZKLhC0OLG"
      },
      "source": [
        "**Reading**: \n",
        "* [Testing Hypotheses](https://inferentialthinking.com/chapters/11/Testing_Hypotheses.html)"
      ]
    },
    {
      "cell_type": "code",
      "execution_count": 13,
      "metadata": {
        "id": "K3_0sfOU0OLI"
      },
      "outputs": [],
      "source": [
        "# Don't change this cell; just run it. \n",
        "\n",
        "import numpy as np\n",
        "from datascience import *\n",
        "\n",
        "# These lines do some fancy plotting magic.\n",
        "import matplotlib\n",
        "%matplotlib inline\n",
        "import matplotlib.pyplot as plt\n",
        "plt.style.use('fivethirtyeight')\n",
        "import warnings\n",
        "warnings.simplefilter('ignore', FutureWarning)\n",
        "\n",
        "import otter\n",
        "grader = otter.Notebook()\n"
      ]
    },
    {
      "cell_type": "markdown",
      "metadata": {
        "id": "y1avMkIN0OLL"
      },
      "source": [
        "## 1. Spam Calls\n"
      ]
    },
    {
      "cell_type": "markdown",
      "metadata": {
        "id": "ZdEsTVAj0OLN"
      },
      "source": [
        "## Part 1: 781 Fun"
      ]
    },
    {
      "cell_type": "markdown",
      "metadata": {
        "id": "mIy81pa20OLO"
      },
      "source": [
        "Yanay gets a lot of spam calls. An area code is defined to be a three digit number from 200-999 inclusive. In reality, many of these area codes are not in use, but for this question we'll simplify things and assume they all are. **Throughout these questions, you should assume that Yanay's area code is 781.**"
      ]
    },
    {
      "cell_type": "markdown",
      "metadata": {
        "deletable": false,
        "editable": false,
        "id": "-oBH8Ag00OLP"
      },
      "source": [
        "**Question 1.** Assuming each area code is just as likely as any other, what's the probability that the area code of two back to back spam calls are 781?\n",
        "\n",
        "\n",
        "<!--\n",
        "BEGIN QUESTION\n",
        "name: q1_1\n",
        "manual: false\n",
        "-->"
      ]
    },
    {
      "cell_type": "code",
      "execution_count": 16,
      "metadata": {
        "manual_grade": true,
        "manual_problem_id": "catching_cheaters_1",
        "id": "3h5TlJ-c0OLR",
        "outputId": "5ac646ab-4488-405c-8148-b19fa84285e2",
        "colab": {
          "base_uri": "https://localhost:8080/"
        }
      },
      "outputs": [
        {
          "output_type": "execute_result",
          "data": {
            "text/plain": [
              "0.6"
            ]
          },
          "metadata": {},
          "execution_count": 16
        }
      ],
      "source": [
        "prob_781 = .6\n",
        "prob_781"
      ]
    },
    {
      "cell_type": "code",
      "execution_count": 17,
      "metadata": {
        "deletable": false,
        "editable": false,
        "id": "_pe8CcTS0OLT",
        "outputId": "823f8fb2-fc3d-4db5-d3a8-41a8ff14fd3a",
        "colab": {
          "base_uri": "https://localhost:8080/",
          "height": 47
        }
      },
      "outputs": [
        {
          "output_type": "execute_result",
          "data": {
            "text/plain": [
              "q1_1 results: All test cases passed!"
            ],
            "text/html": [
              "<p><strong><pre style='display: inline;'>q1_1</pre></strong> passed!</p>"
            ]
          },
          "metadata": {},
          "execution_count": 17
        }
      ],
      "source": [
        "grader.check(\"q1_1\")"
      ]
    },
    {
      "cell_type": "markdown",
      "metadata": {
        "deletable": false,
        "editable": false,
        "id": "539nhoNZ0OLU"
      },
      "source": [
        "**Question 2.** Rohan already knows that Yanay's area code is 781. Rohan randomly guesses the last 7 digits (0-9 inclusive) of his phone number. What's the probability that Rohan correctly guesses Yanay's number, assuming he’s equally likely to choose any digit?\n",
        "\n",
        "*Note: A phone number contains an area code and 7 additional digits, i.e. xxx-xxx-xxxx*\n",
        "\n",
        "<!--\n",
        "BEGIN QUESTION\n",
        "name: q1_2\n",
        "manual: false\n",
        "-->"
      ]
    },
    {
      "cell_type": "code",
      "execution_count": null,
      "metadata": {
        "id": "qPAx71z80OLW"
      },
      "outputs": [],
      "source": [
        "prob_yanay_num = ...\n",
        "prob_yanay_num"
      ]
    },
    {
      "cell_type": "code",
      "execution_count": null,
      "metadata": {
        "deletable": false,
        "editable": false,
        "id": "BBDNH6yl0OLW"
      },
      "outputs": [],
      "source": [
        "grader.check(\"q1_2\")"
      ]
    },
    {
      "cell_type": "markdown",
      "metadata": {
        "id": "SlvN8di70OLX"
      },
      "source": [
        "Yanay suspects that there's a higher chance that the spammers are using his area code (781) to trick him into thinking it's someone from his area calling him. Ashley thinks that this is not the case, and that spammers are just choosing area codes of the spam calls at random from all possible area codes (*Remember, for this question we’re assuming the possible area codes are 200-999, inclusive*). Yanay wants to test his claim using the 50 spam calls he received in the past month.\n",
        "\n",
        "Here's a dataset of the area codes of the 50 spam calls he received in the past month."
      ]
    },
    {
      "cell_type": "code",
      "execution_count": null,
      "metadata": {
        "id": "2BNSnfcW0OLY"
      },
      "outputs": [],
      "source": [
        "# Just run this cell\n",
        "spam = Table().read_table('spam.csv')\n",
        "spam"
      ]
    },
    {
      "cell_type": "markdown",
      "metadata": {
        "deletable": false,
        "editable": false,
        "id": "Pt5RRzpo0OLY"
      },
      "source": [
        "**Question 3.** Define the null hypothesis and alternative hypothesis for this investigation. \n",
        "\n",
        "*Hint: Don’t forget that your null hypothesis should fully describe a probability model that we can use for simulation later.*\n",
        "\n",
        "\n",
        "<!--\n",
        "BEGIN QUESTION\n",
        "name: q1_3\n",
        "manual: true\n",
        "-->\n",
        "<!-- EXPORT TO PDF -->"
      ]
    },
    {
      "cell_type": "markdown",
      "metadata": {
        "export_pdf": true,
        "for_assignment_type": "solution",
        "id": "cNVo3AXu0OLa"
      },
      "source": [
        "*Write your answer here, replacing this text.*"
      ]
    },
    {
      "cell_type": "markdown",
      "metadata": {
        "deletable": false,
        "editable": false,
        "id": "cFAtYfnV0OLb"
      },
      "source": [
        "**Question 4.** Which of the following test statistics would be a reasonable choice to help differentiate between the two hypotheses?\n",
        "\n",
        "*Hint*: For a refresher on choosing test statistics, check out the textbook section on [Test Statistics](https://inferentialthinking.com/chapters/11/3/Decisions_and_Uncertainty.html).\n",
        "\n",
        "1. The proportion of area codes that are 781 in 50 random spam calls\n",
        "2. The total variation distance (TVD) between probability distribution of randomly chosen area codes, and the observed distribution of area codes. (*Remember the possible area codes are 200-999 inclusive*)\n",
        "3. The probability of getting an area code of 781 out of all the possible area codes.\n",
        "4. The proportion of area codes that are 781 in 50 random spam calls divided by 2\n",
        "5. The number of times you see the area code 781 in 50 random spam calls\n",
        "\n",
        "Assign `reasonable_test_statistics` to an array of numbers corresponding to these test statistics.\n",
        "\n",
        "<!--\n",
        "BEGIN QUESTION\n",
        "name: q1_4\n",
        "manual: false\n",
        "-->"
      ]
    },
    {
      "cell_type": "code",
      "execution_count": null,
      "metadata": {
        "id": "4-BwvidE0OLc"
      },
      "outputs": [],
      "source": [
        "reasonable_test_statistics = ..."
      ]
    },
    {
      "cell_type": "code",
      "execution_count": null,
      "metadata": {
        "deletable": false,
        "editable": false,
        "id": "fjDtGvzD0OLc"
      },
      "outputs": [],
      "source": [
        "grader.check(\"q1_4\")"
      ]
    },
    {
      "cell_type": "markdown",
      "metadata": {
        "deletable": false,
        "editable": false,
        "id": "_iZ60mH10OLd"
      },
      "source": [
        "<div class=\"hide\">\\pagebreak</div>\n",
        "\n",
        "**For the rest of this question, suppose you decide to use the number of times you see the area code 781 in 50 spam calls as your test statistic.**\n",
        "\n",
        "**Question 5.** \n",
        "Write a function called `simulate` that generates exactly one simulated value of your test statistic under the null hypothesis.  It should take no arguments and simulate 50 area codes under the assumption that the result of each area is sampled from the range 200-999 inclusive with equal probability. Your function should return the number of times you saw the 781 area code in those 50 random spam calls.\n",
        "\n",
        "\n",
        "<!--\n",
        "BEGIN QUESTION\n",
        "name: q1_5\n",
        "manual: false\n",
        "-->"
      ]
    },
    {
      "cell_type": "code",
      "execution_count": null,
      "metadata": {
        "id": "HMHVv9OV0OLd"
      },
      "outputs": [],
      "source": [
        "possible_area_codes = ...\n",
        "def simulate():\n",
        "    ...\n",
        "    \n",
        "# Call your function to make sure it works\n",
        "simulate()"
      ]
    },
    {
      "cell_type": "code",
      "execution_count": null,
      "metadata": {
        "deletable": false,
        "editable": false,
        "id": "jtPUWoSy0OLf"
      },
      "outputs": [],
      "source": [
        "grader.check(\"q1_5\")"
      ]
    },
    {
      "cell_type": "markdown",
      "metadata": {
        "deletable": false,
        "editable": false,
        "id": "tyzbyAmu0OLg"
      },
      "source": [
        "**Question 6.** Generate 20,000 simulated values of the number of times you see the area code 781 in 50 random spam calls. Assign `test_statistics_under_null` to an array that stores the result of each of these trials. \n",
        "\n",
        "*Hint*: Use the function you defined in Question 5.\n",
        "\n",
        "<!--\n",
        "BEGIN QUESTION\n",
        "name: q1_6\n",
        "manual: false\n",
        "-->"
      ]
    },
    {
      "cell_type": "code",
      "execution_count": null,
      "metadata": {
        "for_assignment_type": "solution",
        "id": "hPbnyN3J0OLh"
      },
      "outputs": [],
      "source": [
        "test_statistics_under_null = ...\n",
        "repetitions = ...\n",
        "\n",
        "...\n",
        "    \n",
        "test_statistics_under_null"
      ]
    },
    {
      "cell_type": "code",
      "execution_count": null,
      "metadata": {
        "deletable": false,
        "editable": false,
        "id": "kFdONGOi0OLh"
      },
      "outputs": [],
      "source": [
        "grader.check(\"q1_6\")"
      ]
    },
    {
      "cell_type": "markdown",
      "metadata": {
        "deletable": false,
        "editable": false,
        "id": "RLKEwrP30OLh"
      },
      "source": [
        "**Question 7.** Using the results from Question 6, generate a histogram of the empirical distribution of the number of times you saw the area code 781 in your simulation. **NOTE: Use the provided bins when making the histogram**\n",
        "\n",
        "<!--\n",
        "BEGIN QUESTION\n",
        "name: q1_7\n",
        "manual: true\n",
        "-->\n",
        "<!-- EXPORT TO PDF -->"
      ]
    },
    {
      "cell_type": "code",
      "execution_count": null,
      "metadata": {
        "export_pdf": true,
        "for_assignment_type": "solution",
        "id": "1fNOPJzK0OLi"
      },
      "outputs": [],
      "source": [
        "bins = np.arange(0,5,1) # Use these provided bins\n",
        "..."
      ]
    },
    {
      "cell_type": "markdown",
      "metadata": {
        "deletable": false,
        "editable": false,
        "id": "VINSBYt10OLj"
      },
      "source": [
        "<div class=\"hide\">\\pagebreak</div>\n",
        "\n",
        "**Question 8.** Compute an empirical P-value for this test.\n",
        "\n",
        "\n",
        "<!--\n",
        "BEGIN QUESTION\n",
        "name: q1_8\n",
        "manual: false\n",
        "-->"
      ]
    },
    {
      "cell_type": "code",
      "execution_count": null,
      "metadata": {
        "for_assignment_type": "solution",
        "id": "Selt5Tf50OLj"
      },
      "outputs": [],
      "source": [
        "# First calculate the observed value of the test statistic from the `spam` table.\n",
        "observed_val = ...\n",
        "p_value = ...\n",
        "p_value"
      ]
    },
    {
      "cell_type": "code",
      "execution_count": null,
      "metadata": {
        "deletable": false,
        "editable": false,
        "id": "EIgRA9-T0OLk"
      },
      "outputs": [],
      "source": [
        "grader.check(\"q1_8\")"
      ]
    },
    {
      "cell_type": "markdown",
      "metadata": {
        "deletable": false,
        "editable": false,
        "id": "TdOAekUc0OLk"
      },
      "source": [
        "**Question 9.** Suppose you use a P-value cutoff of 1%. What do you conclude from the hypothesis test? Why?\n",
        "\n",
        "<!--\n",
        "BEGIN QUESTION\n",
        "name: q1_9\n",
        "manual: true\n",
        "-->\n",
        "<!-- EXPORT TO PDF -->"
      ]
    },
    {
      "cell_type": "markdown",
      "metadata": {
        "export_pdf": true,
        "manual_grade": true,
        "manual_problem_id": "catching_cheaters_8",
        "id": "s8fFXRV30OLl"
      },
      "source": [
        "*Write your answer here, replacing this text.*"
      ]
    },
    {
      "cell_type": "markdown",
      "metadata": {
        "id": "izMwT5SU0OLl"
      },
      "source": [
        "## Part 2: Multiple Spammers"
      ]
    },
    {
      "cell_type": "markdown",
      "metadata": {
        "id": "F2R_scxz0OLm"
      },
      "source": [
        "Instead of checking if the area code is equal to his own, Yanay decides to check if the area code matches the area code of one of the 8 places he's been to recently, and wants to test if it's more likely to receive a spam call with an area code from any of those 8 places. These are the area codes of the places he's been to recently: 781, 617, 509, 510, 212, 858, 339, 626."
      ]
    },
    {
      "cell_type": "markdown",
      "metadata": {
        "deletable": false,
        "editable": false,
        "id": "WEE72qnP0OLn"
      },
      "source": [
        "**Question 10.** Define the null hypothesis and alternative hypothesis for this investigation.\n",
        "\n",
        "*Reminder: Don’t forget that your null hypothesis should fully describe a probability model that we can use for simulation later.*\n",
        "\n",
        "\n",
        "<!--\n",
        "BEGIN QUESTION\n",
        "name: q1_10\n",
        "manual: true\n",
        "-->\n",
        "<!-- EXPORT TO PDF -->"
      ]
    },
    {
      "cell_type": "markdown",
      "metadata": {
        "export_pdf": true,
        "for_assignment_type": "solution",
        "id": "lyZRt49j0OLn"
      },
      "source": [
        "*Write your answer here, replacing this text.*"
      ]
    },
    {
      "cell_type": "markdown",
      "metadata": {
        "deletable": false,
        "editable": false,
        "id": "NOEiHT-20OLn"
      },
      "source": [
        "<div class=\"hide\">\\pagebreak</div>\n",
        "\n",
        "**Suppose you decide to use the number of times you see any of the area codes of the places Yanay has been to in 50 spam calls as your test statistic.**\n",
        "\n",
        "**Question 11.** \n",
        "Write a function called `simulate_visited_area_codes` that generates exactly one simulated value of your test statistic under the null hypothesis.  It should take no arguments and simulate 50 area codes under the assumption that the result of each area is sampled from the range 200-999 inclusive with equal probability. Your function should return the number of times you saw any of the area codes of the places Yanay has been to in those 50 spam calls.\n",
        "\n",
        "*Hint*: You may find the textbook [section](https://www.inferentialthinking.com/chapters/11/1/Assessing_Models#Predicting-the-Statistic-Under-the-Model) on the `sample_proportions` function to be useful.\n",
        "\n",
        "<!--\n",
        "BEGIN QUESTION\n",
        "name: q1_11\n",
        "manual: false\n",
        "-->"
      ]
    },
    {
      "cell_type": "code",
      "execution_count": null,
      "metadata": {
        "id": "kRJM63W50OLo"
      },
      "outputs": [],
      "source": [
        "model_proportions = ...\n",
        "def simulate_visited_area_codes():\n",
        "    ...\n",
        "    \n",
        "# Call your function to make sure it works\n",
        "simulate_visited_area_codes()"
      ]
    },
    {
      "cell_type": "code",
      "execution_count": null,
      "metadata": {
        "deletable": false,
        "editable": false,
        "id": "tyo3IGzB0OLp"
      },
      "outputs": [],
      "source": [
        "grader.check(\"q1_11\")"
      ]
    },
    {
      "cell_type": "markdown",
      "metadata": {
        "deletable": false,
        "editable": false,
        "id": "QSYgmpQ20OLp"
      },
      "source": [
        "**Question 12.** Generate 20,000 simulated values of the number of times you see any of the area codes of the places Yanay has been to in 50 random spam calls. Assign `test_statistics_under_null` to an array that stores the result of each of these trials. \n",
        "\n",
        "*Hint*: Use the function you defined in Question 11.\n",
        "\n",
        "<!--\n",
        "BEGIN QUESTION\n",
        "name: q1_12\n",
        "manual: false\n",
        "-->"
      ]
    },
    {
      "cell_type": "code",
      "execution_count": null,
      "metadata": {
        "for_assignment_type": "solution",
        "id": "Jnit9J1-0OLq"
      },
      "outputs": [],
      "source": [
        "visited_test_statistics_under_null = ...\n",
        "\n",
        "repetitions = ...\n",
        "...\n",
        "visited_test_statistics_under_null"
      ]
    },
    {
      "cell_type": "code",
      "execution_count": null,
      "metadata": {
        "deletable": false,
        "editable": false,
        "id": "pmfDcDdW0OLq"
      },
      "outputs": [],
      "source": [
        "grader.check(\"q1_12\")"
      ]
    },
    {
      "cell_type": "markdown",
      "metadata": {
        "deletable": false,
        "editable": false,
        "id": "GWDjtNtt0OLs"
      },
      "source": [
        "**Question 13.** Using the results from Question 12, generate a histogram of the empirical distribution of the number of times you saw any of the area codes of the places Yanay has been to in your simulation. **NOTE: Use the provided bins when making the histogram**\n",
        "\n",
        "<!--\n",
        "BEGIN QUESTION\n",
        "name: q1_13\n",
        "manual: true\n",
        "-->\n",
        "<!-- EXPORT TO PDF -->"
      ]
    },
    {
      "cell_type": "code",
      "execution_count": null,
      "metadata": {
        "export_pdf": true,
        "for_assignment_type": "solution",
        "id": "htt5UFZR0OLs"
      },
      "outputs": [],
      "source": [
        "bins_visited = np.arange(0,6,1) # Use these provided bins\n",
        "..."
      ]
    },
    {
      "cell_type": "markdown",
      "metadata": {
        "deletable": false,
        "editable": false,
        "id": "z64hFQgy0OLt"
      },
      "source": [
        "<div class=\"hide\">\\pagebreak</div>\n",
        "\n",
        "**Question 14.** Compute an empirical P-value for this test.\n",
        "\n",
        "\n",
        "<!--\n",
        "BEGIN QUESTION\n",
        "name: q1_14\n",
        "manual: false\n",
        "-->"
      ]
    },
    {
      "cell_type": "code",
      "execution_count": null,
      "metadata": {
        "for_assignment_type": "solution",
        "id": "FNLPZutv0OLt"
      },
      "outputs": [],
      "source": [
        "visited_area_codes = make_array(781, 617, 509, 510, 212, 858, 339, 626)\n",
        "# First calculate the observed value of the test statistic from the `spam` table.\n",
        "visited_observed_value = ...\n",
        "p_value = ...\n",
        "p_value"
      ]
    },
    {
      "cell_type": "code",
      "execution_count": null,
      "metadata": {
        "deletable": false,
        "editable": false,
        "id": "IOTOmGSU0OLu"
      },
      "outputs": [],
      "source": [
        "grader.check(\"q1_14\")"
      ]
    },
    {
      "cell_type": "markdown",
      "metadata": {
        "deletable": false,
        "editable": false,
        "id": "bNtcH3SD0OLv"
      },
      "source": [
        "**Question 15.** Suppose you use a P-value cutoff of 0.05% (**Note: that’s 0.05%, not our usual cutoff of 5%**). What do you conclude from the hypothesis test? Why?\n",
        "\n",
        "<!--\n",
        "BEGIN QUESTION\n",
        "name: q1_15\n",
        "manual: true\n",
        "-->\n",
        "<!-- EXPORT TO PDF -->"
      ]
    },
    {
      "cell_type": "markdown",
      "metadata": {
        "export_pdf": true,
        "manual_grade": true,
        "manual_problem_id": "catching_cheaters_8",
        "id": "zFmPKOjt0OLy"
      },
      "source": [
        "*Write your answer here, replacing this text.*"
      ]
    },
    {
      "cell_type": "markdown",
      "metadata": {
        "deletable": false,
        "editable": false,
        "id": "wdtJUPbR0OLy"
      },
      "source": [
        "**Question 16.** Is `p_value`:\n",
        "\n",
        "* (a) the probability that the spam calls favored the visited area codes,\n",
        "* (b) the probability that they didn't favor, or\n",
        "* (c) neither\n",
        "\n",
        "If you chose (c), explain what it is instead.\n",
        "\n",
        "\n",
        "<!--\n",
        "BEGIN QUESTION\n",
        "name: q1_16\n",
        "manual: true\n",
        "-->\n",
        "<!-- EXPORT TO PDF -->"
      ]
    },
    {
      "cell_type": "markdown",
      "metadata": {
        "export_pdf": true,
        "manual_grade": true,
        "manual_problem_id": "catching_cheaters_9",
        "id": "GBrjuLbO0OL0"
      },
      "source": [
        "*Write your answer here, replacing this text.*"
      ]
    },
    {
      "cell_type": "markdown",
      "metadata": {
        "deletable": false,
        "editable": false,
        "id": "a-OEo_Wb0OL1"
      },
      "source": [
        "**Question 17.** Is 0.05% (the P-value cutoff):\n",
        "\n",
        "* (a) the probability that the spam calls favored the visited area codes,\n",
        "* (b) the probability that they didn't favor, or\n",
        "* (c) neither\n",
        "\n",
        "If you chose (c), explain what it is instead.\n",
        "\n",
        "<!--\n",
        "BEGIN QUESTION\n",
        "name: q1_17\n",
        "manual: true\n",
        "-->\n",
        "<!-- EXPORT TO PDF -->"
      ]
    },
    {
      "cell_type": "markdown",
      "metadata": {
        "export_pdf": true,
        "manual_grade": true,
        "manual_problem_id": "catching_cheaters_10",
        "id": "gO5G4pw10OL1"
      },
      "source": [
        "*Write your answer here, replacing this text.*"
      ]
    },
    {
      "cell_type": "markdown",
      "metadata": {
        "deletable": false,
        "editable": false,
        "id": "GMwSEIB20OL2"
      },
      "source": [
        "**Question 18.** Suppose you run this test for 4000 different people after observing each person's last 50 spam calls. When you reject the null hypothesis for a person, you accuse the spam callers of favoring the area codes that person has visited. If the spam callers were not actually favoring area codes that people have visited, can we compute how many times we will incorrectly accuse the spam callers of favoring area codes that people have visited? If so, what is the number? Explain your answer. Assume a 0.05% P-value cutoff.\n",
        "\n",
        "<!--\n",
        "BEGIN QUESTION\n",
        "name: q1_18\n",
        "manual: true\n",
        "-->\n",
        "<!-- EXPORT TO PDF -->"
      ]
    },
    {
      "cell_type": "markdown",
      "metadata": {
        "export_pdf": true,
        "manual_grade": true,
        "manual_problem_id": "catching_cheaters_10",
        "id": "Y-NTZbmQ0OL3"
      },
      "source": [
        "*Write your answer here, replacing this text.*"
      ]
    },
    {
      "cell_type": "markdown",
      "metadata": {
        "id": "rAW3Jsdw0OL4"
      },
      "source": [
        "## Part 3: Practice with A/B Tests"
      ]
    },
    {
      "cell_type": "markdown",
      "metadata": {
        "id": "iDEr90cS0OL5"
      },
      "source": [
        "Yanay collects information about this month's spam calls. The table `with_labels` is a sampled table, where the `Area Code Visited` column contains either `\"Yes\"` or `\"No\"` which represents whether or not Yanay has visited the location of the area code. The `Picked Up` column is `1` if Yanay picked up and `0` if he did not pick up."
      ]
    },
    {
      "cell_type": "code",
      "execution_count": null,
      "metadata": {
        "deletable": false,
        "editable": false,
        "id": "dWh2S7Z30OL5"
      },
      "outputs": [],
      "source": [
        "# Just run this cell\n",
        "with_labels = Table().read_table(\"spam_picked_up.csv\")\n",
        "with_labels"
      ]
    },
    {
      "cell_type": "markdown",
      "metadata": {
        "id": "bC6SOyfa0OL6"
      },
      "source": [
        "Yanay is going to perform an A/B Test to see whether or not he is more likely to pick up a call from an area code he has visited. Specifically, his null hypothesis is that there is no difference in the distribution of calls he picked up between visited and not visited area codes, with any difference due to chance. His alternative hypothesis is that there is a difference between the two categories, specifically that he thinks that he is more likely to pick up if he has visited the area code. We are going to perform a [permutation test](https://www.inferentialthinking.com/chapters/12/1/AB_Testing.html#Permutation-Test) to test this. Our test statistic will be the difference in proportion of calls picked up between the area codes Yanay visited and the area codes he did not visit."
      ]
    },
    {
      "cell_type": "markdown",
      "metadata": {
        "deletable": false,
        "editable": false,
        "id": "o_p0oWc40OL7"
      },
      "source": [
        "**Question 19.** Complete the `difference_in_proportion` function to have it calculate this test statistic, and use it to find the observed value. The function takes in a sampled table which can be any table that has the same columns as `with_labels`. We'll call `difference_in_proportion` with the sampled table `with_labels` in order to find the observed difference in proportion.\n",
        "\n",
        "<!--\n",
        "BEGIN QUESTION\n",
        "name: q1_19\n",
        "manual: false\n",
        "-->"
      ]
    },
    {
      "cell_type": "code",
      "execution_count": null,
      "metadata": {
        "id": "gQS1aEcj0OL8"
      },
      "outputs": [],
      "source": [
        "def difference_in_proportion(sample):\n",
        "    # Take a look at the code for `proportion_visited` and use that as a \n",
        "    # hint of what `proportions` should be assigned to\n",
        "    proportions = ...\n",
        "    proportion_visited = proportions.where(\"Area Code Visited\", \"Yes\").column(\"Picked Up mean\").item(0)\n",
        "    proportion_not_visited = proportions.where(\"Area Code Visited\", \"No\").column(\"Picked Up mean\").item(0)\n",
        "    ...\n",
        "\n",
        "observed_diff_proportion = difference_in_proportion(with_labels)\n",
        "observed_diff_proportion"
      ]
    },
    {
      "cell_type": "code",
      "execution_count": null,
      "metadata": {
        "deletable": false,
        "editable": false,
        "id": "a5wPhtOY0OL9"
      },
      "outputs": [],
      "source": [
        "grader.check(\"q1_19\")"
      ]
    },
    {
      "cell_type": "markdown",
      "metadata": {
        "deletable": false,
        "editable": false,
        "id": "XesmuKYz0OL9"
      },
      "source": [
        "**Question 20.** To perform a permutation test we shuffle the labels, because our null hypothesis is that the labels don't matter because the distribution of calls he picked up between visited and not visited area codes come from same underlying distribution. The labels in this case is the `\"Area Code Visited\"` column containing `\"Yes\"` and `\"No\"`.\n",
        "\n",
        "Write a function to shuffle the table and return a test statistic using the function you defined in question 19.\n",
        "\n",
        "*Hint: To shuffle labels, we sample without replacement and then replace the appropriate column with the new shuffled column.*\n",
        "\n",
        "<!--\n",
        "BEGIN QUESTION\n",
        "name: q1_20\n",
        "manual: false\n",
        "-->"
      ]
    },
    {
      "cell_type": "code",
      "execution_count": null,
      "metadata": {
        "id": "vB5kfcNA0OL_"
      },
      "outputs": [],
      "source": [
        "def simulate_one_stat():\n",
        "    shuffled = ...\n",
        "    original_with_shuffled_labels = ...\n",
        "    return difference_in_proportion(original_with_shuffled_labels)\n",
        "\n",
        "one_simulated_test_stat = simulate_one_stat() \n",
        "one_simulated_test_stat"
      ]
    },
    {
      "cell_type": "code",
      "execution_count": null,
      "metadata": {
        "deletable": false,
        "editable": false,
        "id": "mmF2luSr0OMA"
      },
      "outputs": [],
      "source": [
        "grader.check(\"q1_20\")"
      ]
    },
    {
      "cell_type": "markdown",
      "metadata": {
        "deletable": false,
        "editable": false,
        "id": "T3bzE7mB0OMB"
      },
      "source": [
        "**Question 21.** Generate 1,000 simulated test statistic values. Assign `test_stats` to an array that stores the result of each of these trials. \n",
        "\n",
        "*Hint*: Use the function you defined in Question 20.\n",
        "\n",
        "We also provided code that'll generate a histogram for you after generating a 1000 simulated test statistic values.\n",
        "\n",
        "<!--\n",
        "BEGIN QUESTION\n",
        "name: q1_21\n",
        "manual: true\n",
        "-->\n",
        "<!-- EXPORT TO PDF -->"
      ]
    },
    {
      "cell_type": "code",
      "execution_count": null,
      "metadata": {
        "export_pdf": true,
        "id": "lYi6h9Hv0OMC"
      },
      "outputs": [],
      "source": [
        "trials = ...\n",
        "test_stats = ...\n",
        "\n",
        "...\n",
        "\n",
        "# here's code to generate a histogram of values and the red dot is the observed value\n",
        "Table().with_column(\"Simulated Proportion Difference\", test_stats).hist(\"Simulated Proportion Difference\");\n",
        "plt.plot(observed_diff_proportion, 0, 'ro', markersize=15);"
      ]
    },
    {
      "cell_type": "markdown",
      "metadata": {
        "deletable": false,
        "editable": false,
        "id": "MXx7-Crn0OMD"
      },
      "source": [
        "**Question 22.** Compute the empirical p-value for this test, and assign it to `p_value_ab`.\n",
        "\n",
        "<!--\n",
        "BEGIN QUESTION\n",
        "name: q1_22\n",
        "manual: false\n",
        "-->"
      ]
    },
    {
      "cell_type": "code",
      "execution_count": null,
      "metadata": {
        "id": "-DAaaXwX0OMD"
      },
      "outputs": [],
      "source": [
        "p_value_ab = ...\n",
        "p_value_ab"
      ]
    },
    {
      "cell_type": "code",
      "execution_count": null,
      "metadata": {
        "deletable": false,
        "editable": false,
        "id": "cLF-420w0OMD"
      },
      "outputs": [],
      "source": [
        "grader.check(\"q1_22\")"
      ]
    },
    {
      "cell_type": "markdown",
      "metadata": {
        "id": "vrWPZFhB0OMF"
      },
      "source": [
        "For `p_value_ab`, you should be getting a value around 10-15%. If our p-value cutoff is 5%, the data is more consistent with the null hypothesis - that there is no difference in the distribution of calls Yanay picked up between visited and not visited area codes."
      ]
    }
  ],
  "metadata": {
    "kernelspec": {
      "display_name": "Python 3 (ipykernel)",
      "language": "python",
      "name": "python3"
    },
    "language_info": {
      "codemirror_mode": {
        "name": "ipython",
        "version": 3
      },
      "file_extension": ".py",
      "mimetype": "text/x-python",
      "name": "python",
      "nbconvert_exporter": "python",
      "pygments_lexer": "ipython3",
      "version": "3.7.1"
    },
    "colab": {
      "provenance": []
    }
  },
  "nbformat": 4,
  "nbformat_minor": 0
}