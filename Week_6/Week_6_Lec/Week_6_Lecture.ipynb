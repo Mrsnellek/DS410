{
  "cells": [
    {
      "cell_type": "markdown",
      "id": "3ccd35ff",
      "metadata": {
        "id": "3ccd35ff"
      },
      "source": [
        "The contents of this course including lectures, labs, homework assignments, and exams have all been adapted from the [Data 8 course at University California Berkley](https://data.berkeley.edu/education/courses/data-8). Through their generosity and passion for undergraduate education, the Data 8 community at Berkley has opened their content and expertise for other universities to adapt in the name of undergraduate education."
      ]
    },
    {
      "cell_type": "code",
      "execution_count": null,
      "id": "cb1c4110",
      "metadata": {
        "id": "cb1c4110"
      },
      "outputs": [],
      "source": [
        "#!pip install datascience\n",
        "from datascience import *\n",
        "import numpy as np\n",
        "\n",
        "from IPython.display import display, Math, Latex\n",
        "\n",
        "%matplotlib inline\n",
        "import matplotlib.pyplot as plots\n",
        "plots.style.use('fivethirtyeight')"
      ]
    },
    {
      "cell_type": "code",
      "source": [
        "!git clone https://github.com/Mrsnellek/DS410.git"
      ],
      "metadata": {
        "id": "B6pWxzlIQV80"
      },
      "execution_count": null,
      "outputs": [],
      "id": "B6pWxzlIQV80"
    },
    {
      "cell_type": "code",
      "source": [
        "cd DS410/Week_6/Week_6_Lec/"
      ],
      "metadata": {
        "id": "ARAh_TtDQX6u"
      },
      "execution_count": null,
      "outputs": [],
      "id": "ARAh_TtDQX6u"
    },
    {
      "cell_type": "markdown",
      "id": "f7c7ea4d",
      "metadata": {
        "id": "f7c7ea4d"
      },
      "source": [
        "# Chapter 16: Inference for Regression\n",
        "\n",
        "Thus far, our analysis of the relation between variables has been purely descriptive. We know how to find the best straight line to draw through a scatter plot. The line is the best in the sense that it has the smallest mean squared error of estimation among all straight lines.\n",
        "\n",
        "* What if our data were only a sample from a larger population? \n",
        "* If in the sample we found a linear relation between the two variables, would the same be true for the population? \n",
        "* Would it be exactly the same linear relation? \n",
        "* Could we predict the response of a new individual who is not in our sample?\n",
        "\n",
        "If we believe that a sample reflects the underlying population we can infer and predict information about the underlying population."
      ]
    },
    {
      "cell_type": "markdown",
      "id": "2d9c223c",
      "metadata": {
        "id": "2d9c223c"
      },
      "source": [
        "Our simulations show that if the regression model holds and the sample size is large, then the regression line is likely to be close to the true line. This allows us to estimate the slope of the true line.\n",
        "\n",
        "We will use our familiar sample of mothers and their newborn babies to develop a method of estimating the slope of the true line."
      ]
    },
    {
      "cell_type": "code",
      "execution_count": null,
      "id": "78695b5c",
      "metadata": {
        "id": "78695b5c"
      },
      "outputs": [],
      "source": [
        "baby = Table.read_table('baby.csv')\n",
        "baby"
      ]
    },
    {
      "cell_type": "code",
      "execution_count": null,
      "id": "3c0c883d",
      "metadata": {
        "id": "3c0c883d"
      },
      "outputs": [],
      "source": [
        "def standard_units(any_numbers):\n",
        "    \"Convert any array of numbers to standard units.\"\n",
        "    return (any_numbers - np.mean(any_numbers))/np.std(any_numbers)  \n",
        "\n",
        "def correlation(t, label_x, label_y):\n",
        "    return np.mean(standard_units(t.column(label_x))*standard_units(t.column(label_y)))\n",
        "\n",
        "def slope(t, label_x, label_y):\n",
        "    r = correlation(t, label_x, label_y)\n",
        "    return r*np.std(t.column(label_y))/np.std(t.column(label_x))\n",
        "\n",
        "def intercept(t, label_x, label_y):\n",
        "    return np.mean(t.column(label_y)) - slope(t, label_x, label_y)*np.mean(t.column(label_x))"
      ]
    },
    {
      "cell_type": "code",
      "execution_count": null,
      "id": "916c81b1",
      "metadata": {
        "id": "916c81b1"
      },
      "outputs": [],
      "source": [
        "baby.scatter('Gestational Days', 'Birth Weight', fit_line=True)"
      ]
    },
    {
      "cell_type": "code",
      "execution_count": null,
      "id": "27be8bb9",
      "metadata": {
        "id": "27be8bb9"
      },
      "outputs": [],
      "source": [
        "correlation(baby, 'Gestational Days', 'Birth Weight')"
      ]
    },
    {
      "cell_type": "code",
      "execution_count": null,
      "id": "0f8f699a",
      "metadata": {
        "id": "0f8f699a"
      },
      "outputs": [],
      "source": [
        "slope(baby, 'Gestational Days', 'Birth Weight')"
      ]
    },
    {
      "cell_type": "markdown",
      "id": "db62d70a",
      "metadata": {
        "id": "db62d70a"
      },
      "source": [
        "But had the scatter plot come out differently, the regression line would have been different and might have had a different slope. How do we figure out how different the slope might have been?\n",
        "\n",
        "We need another sample of points, so that we can draw the regression line through the new scatter plot and find its slope. But from where will get another sample?\n",
        "\n",
        "You have guessed it – we will bootstrap our original sample. That will give us a bootstrapped scatter plot, through which we can draw a regression line.\n",
        "\n",
        "Here is the original scatter diagram from the sample, and four replications of the bootstrap resampling procedure. Notice how the resampled scatter plots are in general a little more sparse than the original. That is because some of the original points do not get selected in the samples."
      ]
    },
    {
      "cell_type": "code",
      "execution_count": null,
      "id": "0efbc6a9",
      "metadata": {
        "id": "0efbc6a9"
      },
      "outputs": [],
      "source": [
        "def one_bootstrap():\n",
        "    resample = baby.sample()\n",
        "    return resample"
      ]
    },
    {
      "cell_type": "code",
      "execution_count": null,
      "id": "fa691a65",
      "metadata": {
        "id": "fa691a65"
      },
      "outputs": [],
      "source": [
        "baby.scatter('Gestational Days', 'Birth Weight')"
      ]
    },
    {
      "cell_type": "code",
      "execution_count": null,
      "id": "c8db6954",
      "metadata": {
        "id": "c8db6954"
      },
      "outputs": [],
      "source": [
        "one_bootstrap().scatter('Gestational Days', 'Birth Weight')"
      ]
    },
    {
      "cell_type": "code",
      "execution_count": null,
      "id": "51dd9182",
      "metadata": {
        "id": "51dd9182"
      },
      "outputs": [],
      "source": [
        "one_bootstrap().scatter('Gestational Days', 'Birth Weight')"
      ]
    },
    {
      "cell_type": "code",
      "execution_count": null,
      "id": "f61516cb",
      "metadata": {
        "id": "f61516cb"
      },
      "outputs": [],
      "source": [
        "one_bootstrap().scatter('Gestational Days', 'Birth Weight')"
      ]
    },
    {
      "cell_type": "code",
      "execution_count": null,
      "id": "67823dae",
      "metadata": {
        "id": "67823dae"
      },
      "outputs": [],
      "source": [
        "one_bootstrap().scatter('Gestational Days', 'Birth Weight')"
      ]
    },
    {
      "cell_type": "code",
      "execution_count": null,
      "id": "7023f612",
      "metadata": {
        "id": "7023f612"
      },
      "outputs": [],
      "source": [
        "slopes = make_array()\n",
        "for i in np.arange(5000):\n",
        "    bootstrap_sample = baby.sample()\n",
        "    bootstrap_slope = slope(bootstrap_sample, 'Gestational Days', 'Birth Weight')\n",
        "    slopes = np.append(slopes, bootstrap_slope)\n",
        "Table().with_column('Bootstrap Slopes', slopes).hist(bins=20)"
      ]
    },
    {
      "cell_type": "markdown",
      "id": "f3782655",
      "metadata": {
        "id": "f3782655"
      },
      "source": [
        "We can then construct an approximate 95% confidence interval for the slope of the true line, using the bootstrap percentile method. The confidence interval extends from the 2.5th percentile to the 97.5th percentile of the 5000 bootstrapped slopes."
      ]
    },
    {
      "cell_type": "code",
      "execution_count": null,
      "id": "6a7498d2",
      "metadata": {
        "id": "6a7498d2"
      },
      "outputs": [],
      "source": [
        "left = percentile(2.5, slopes)\n",
        "right = percentile(97.5, slopes)\n",
        "left, right"
      ]
    },
    {
      "cell_type": "markdown",
      "id": "aec06ead",
      "metadata": {
        "id": "aec06ead"
      },
      "source": [
        "Let's wrap this into one function."
      ]
    },
    {
      "cell_type": "code",
      "execution_count": null,
      "id": "cf6d9081",
      "metadata": {
        "id": "cf6d9081"
      },
      "outputs": [],
      "source": [
        "def bootstrap_slope(table, x, y, repetitions):\n",
        "    \n",
        "    # For each repetition:\n",
        "    # Bootstrap the scatter, get the slope of the regression line,\n",
        "    # augment the list of generated slopes\n",
        "    slopes = make_array()\n",
        "    for i in np.arange(repetitions):\n",
        "        bootstrap_sample = table.sample()\n",
        "        bootstrap_slope = slope(bootstrap_sample, x, y)\n",
        "        slopes = np.append(slopes, bootstrap_slope)\n",
        "    \n",
        "    # Find the endpoints of the 95% confidence interval for the true slope\n",
        "    left = percentile(2.5, slopes)\n",
        "    right = percentile(97.5, slopes)\n",
        "    \n",
        "    # Slope of the regression line from the original sample\n",
        "    observed_slope = slope(table, x, y)\n",
        "    \n",
        "    # Display results\n",
        "    Table().with_column('Bootstrap Slopes', slopes).hist(bins=20)\n",
        "    plots.plot(make_array(left, right), make_array(0, 0), color='yellow', lw=8);\n",
        "    print('Slope of regression line:', observed_slope)\n",
        "    print('Approximate 95%-confidence interval for the true slope:')\n",
        "    print(left, right)"
      ]
    },
    {
      "cell_type": "code",
      "execution_count": null,
      "id": "efb3363a",
      "metadata": {
        "id": "efb3363a"
      },
      "outputs": [],
      "source": [
        "bootstrap_slope(baby, 'Gestational Days', 'Birth Weight', 5000)"
      ]
    },
    {
      "cell_type": "markdown",
      "id": "ec85ba02",
      "metadata": {
        "id": "ec85ba02"
      },
      "source": [
        "What is the slope is zero and there is no correlation between the x and y variables?"
      ]
    },
    {
      "cell_type": "code",
      "execution_count": null,
      "id": "5ded6120",
      "metadata": {
        "id": "5ded6120"
      },
      "outputs": [],
      "source": [
        "baby.scatter('Maternal Age', 'Birth Weight')"
      ]
    },
    {
      "cell_type": "code",
      "execution_count": null,
      "id": "8e664190",
      "metadata": {
        "id": "8e664190"
      },
      "outputs": [],
      "source": [
        "slope(baby, 'Maternal Age', 'Birth Weight')"
      ]
    },
    {
      "cell_type": "markdown",
      "id": "e972284c",
      "metadata": {
        "id": "e972284c"
      },
      "source": [
        "We can come up with a hypothsis test:\n",
        "\n",
        "**Null Hypothesis:** The slope of the true line is 0.\n",
        "\n",
        "**Alternative Hypothesis:** The slope of the true line is not 0."
      ]
    },
    {
      "cell_type": "code",
      "execution_count": null,
      "id": "d2b3af4d",
      "metadata": {
        "id": "d2b3af4d"
      },
      "outputs": [],
      "source": [
        "bootstrap_slope(baby, 'Maternal Age', 'Birth Weight', 5000)"
      ]
    },
    {
      "cell_type": "markdown",
      "id": "a35ca720",
      "metadata": {
        "id": "a35ca720"
      },
      "source": [
        "Because the interval contains 0, we cannot reject the null hypothesis that the slope of the true linear relation between maternal age and baby’s birth weight is 0. Based on this analysis, it would be unwise to predict birth weight based on the regression model with maternal age as the predictor."
      ]
    },
    {
      "cell_type": "markdown",
      "id": "7fd9b5e9",
      "metadata": {
        "id": "7fd9b5e9"
      },
      "source": [
        "We are trying to make predictions on $y$ given a new value of $x$"
      ]
    },
    {
      "cell_type": "code",
      "execution_count": null,
      "id": "813c42f7",
      "metadata": {
        "id": "813c42f7"
      },
      "outputs": [],
      "source": [
        "def fitted_value(table, x, y, given_x):\n",
        "    a = slope(table, x, y)\n",
        "    b = intercept(table, x, y)\n",
        "    return a * given_x  + b"
      ]
    },
    {
      "cell_type": "code",
      "execution_count": null,
      "id": "f7bce88b",
      "metadata": {
        "id": "f7bce88b"
      },
      "outputs": [],
      "source": [
        "fit_300 = fitted_value(baby, 'Gestational Days', 'Birth Weight', 300)\n",
        "fit_300"
      ]
    },
    {
      "cell_type": "markdown",
      "id": "70261deb",
      "metadata": {
        "id": "70261deb"
      },
      "source": [
        "Given a value of 300 gestation days we will predict that the babys weight will be about 129.2 oucnes.  But how does our prediction of $x$ change if the regression line was different?"
      ]
    },
    {
      "cell_type": "markdown",
      "id": "4b542805",
      "metadata": {
        "id": "4b542805"
      },
      "source": [
        "Let us define a function called bootstrap_prediction to do this. The function takes five arguments:\n",
        "\n",
        "   * the name of the table\n",
        "\n",
        "   * the column labels of the predictor and response variables, in that order\n",
        "\n",
        "   * the value of \n",
        "\n",
        "   * at which to make the prediction\n",
        "\n",
        "   * the desired number of bootstrap repetitions\n",
        "\n",
        "In each repetition, the function bootstraps the original scatter plot and finds the predicted value of $y$ based on the specified value of $x$. Specifically, it calls the function fitted_value that we defined earlier in this section to find the fitted value at the specified $x$.\n",
        "\n",
        "Finally, it draws the empirical histogram of all the predicted values, and prints the interval consisting of the “middle 95%” of the predicted values. It also prints the predicted value based on the regression line through the original scatter plot."
      ]
    },
    {
      "cell_type": "code",
      "execution_count": null,
      "id": "c140b552",
      "metadata": {
        "id": "c140b552"
      },
      "outputs": [],
      "source": [
        "# Bootstrap prediction of variable y at new_x\n",
        "# Data contained in table; prediction by regression of y based on x\n",
        "# repetitions = number of bootstrap replications of the original scatter plot\n",
        "\n",
        "def bootstrap_prediction(table, x, y, new_x, repetitions):\n",
        "    \n",
        "    # For each repetition:\n",
        "    # Bootstrap the scatter; \n",
        "    # get the regression prediction at new_x; \n",
        "    # augment the predictions list\n",
        "    predictions = make_array()\n",
        "    for i in np.arange(repetitions):\n",
        "        bootstrap_sample = table.sample()\n",
        "        bootstrap_prediction = fitted_value(bootstrap_sample, x, y, new_x)\n",
        "        predictions = np.append(predictions, bootstrap_prediction)\n",
        "        \n",
        "    # Find the ends of the approximate 95% prediction interval\n",
        "    left = percentile(2.5, predictions)\n",
        "    right = percentile(97.5, predictions)\n",
        "    \n",
        "    # Prediction based on original sample\n",
        "    original = fitted_value(table, x, y, new_x)\n",
        "    \n",
        "    # Display results\n",
        "    Table().with_column('Prediction', predictions).hist(bins=20)\n",
        "    plots.xlabel('predictions at x='+str(new_x))\n",
        "    plots.plot(make_array(left, right), make_array(0, 0), color='yellow', lw=8);\n",
        "    print('Height of regression line at x='+str(new_x)+':', original)\n",
        "    print('Approximate 95%-confidence interval:')\n",
        "    print(left, right)"
      ]
    },
    {
      "cell_type": "code",
      "execution_count": null,
      "id": "ab3a5eb9",
      "metadata": {
        "id": "ab3a5eb9"
      },
      "outputs": [],
      "source": [
        "bootstrap_prediction(baby, 'Gestational Days', 'Birth Weight', 300, 5000)"
      ]
    },
    {
      "cell_type": "markdown",
      "id": "f433c4f2",
      "metadata": {
        "id": "f433c4f2"
      },
      "source": [
        "The interval ranges from about 127 to about 131. The prediction based on the original sample was about 129, which is close to the center of the interval."
      ]
    },
    {
      "cell_type": "markdown",
      "id": "645e09b7",
      "metadata": {
        "id": "645e09b7"
      },
      "source": [
        "Let's predict a baby weight with the mean gestaion days."
      ]
    },
    {
      "cell_type": "code",
      "execution_count": null,
      "id": "f63edf27",
      "metadata": {
        "id": "f63edf27"
      },
      "outputs": [],
      "source": [
        "np.mean(baby.column('Gestational Days'))"
      ]
    },
    {
      "cell_type": "code",
      "execution_count": null,
      "id": "f087991f",
      "metadata": {
        "id": "f087991f"
      },
      "outputs": [],
      "source": [
        "bootstrap_prediction(baby, 'Gestational Days', 'Birth Weight', np.mean(baby.column('Gestational Days')), 5000)"
      ]
    },
    {
      "cell_type": "markdown",
      "id": "59fb35ae",
      "metadata": {
        "id": "59fb35ae"
      },
      "source": [
        "Notice that this interval is narrower than the prediction interval at 300 gestational days. Let us investigate the reason for this."
      ]
    },
    {
      "cell_type": "markdown",
      "id": "17bb24c2",
      "metadata": {
        "id": "17bb24c2"
      },
      "source": [
        "So 279 is closer to the center of the distribution than 300 is. Typically, the regression lines based on the bootstrap samples are closer to each other near the center of the distribution of the predictor variable. Therefore all of the predicted values are closer together as well. This explains the narrower width of the prediction interval."
      ]
    },
    {
      "cell_type": "code",
      "execution_count": null,
      "id": "f0199df0",
      "metadata": {
        "id": "f0199df0"
      },
      "outputs": [],
      "source": [
        "baby.scatter('Gestational Days', 'Birth Weight', fit_line=True)"
      ]
    },
    {
      "cell_type": "code",
      "execution_count": null,
      "id": "851e58a5",
      "metadata": {
        "id": "851e58a5"
      },
      "outputs": [],
      "source": []
    }
  ],
  "metadata": {
    "kernelspec": {
      "display_name": "Python 3 (ipykernel)",
      "language": "python",
      "name": "python3"
    },
    "language_info": {
      "codemirror_mode": {
        "name": "ipython",
        "version": 3
      },
      "file_extension": ".py",
      "mimetype": "text/x-python",
      "name": "python",
      "nbconvert_exporter": "python",
      "pygments_lexer": "ipython3",
      "version": "3.7.1"
    },
    "colab": {
      "provenance": []
    }
  },
  "nbformat": 4,
  "nbformat_minor": 5
}