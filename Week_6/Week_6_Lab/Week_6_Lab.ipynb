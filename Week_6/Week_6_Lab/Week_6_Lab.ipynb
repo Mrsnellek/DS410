{
  "cells": [
    {
      "cell_type": "markdown",
      "metadata": {
        "id": "yLhxGH4DEqVj"
      },
      "source": [
        "The contents of this course including lectures, labs, homework assignments, and exams have all been adapted from the [Data 8 course at University California Berkley](https://data.berkeley.edu/education/courses/data-8). Through their generosity and passion for undergraduate education, the Data 8 community at Berkley has opened their content and expertise for other universities to adapt in the name of undergraduate education."
      ]
    },
    {
      "cell_type": "code",
      "execution_count": null,
      "metadata": {
        "deletable": false,
        "id": "gA7dr6orQLjl"
      },
      "outputs": [],
      "source": [
        "!pip install otter-grader==3.3.0 -q\n",
        "!pip install datascience -q"
      ]
    },
    {
      "cell_type": "code",
      "source": [
        "!git clone https://github.com/Mrsnellek/DS410.git"
      ],
      "metadata": {
        "id": "B6pWxzlIQV80"
      },
      "execution_count": null,
      "outputs": []
    },
    {
      "cell_type": "code",
      "source": [
        "cd DS410/Week_6/Week_6_Lab/"
      ],
      "metadata": {
        "id": "ARAh_TtDQX6u"
      },
      "execution_count": null,
      "outputs": []
    },
    {
      "cell_type": "markdown",
      "metadata": {
        "id": "1iVD2YtyEqVq"
      },
      "source": [
        "## Conditional Probability\n",
        "\n",
        "This lab is an introduction to conditional probabilities.  \n",
        "\n",
        "The lab includes a visualization called an *icon array*. It's meant to be an instructional part of the lab to help build intuitions about conditional probability.  These visualizations do not appear in the textbook and will not appear on any exam."
      ]
    },
    {
      "cell_type": "code",
      "execution_count": null,
      "metadata": {
        "id": "F_nQlcWcEqVs"
      },
      "outputs": [],
      "source": [
        "# Run this cell to set up the notebook, but please don't change it.\n",
        "\n",
        "# These lines import the Numpy and Datascience modules.\n",
        "import numpy as np\n",
        "from datascience import *\n",
        "\n",
        "# These lines do some fancy plotting magic.\n",
        "import matplotlib\n",
        "%matplotlib inline\n",
        "import matplotlib.pyplot as plt\n",
        "plt.style.use('fivethirtyeight')\n",
        "import warnings\n",
        "warnings.simplefilter('ignore', FutureWarning)\n",
        "\n",
        "# This line loads the visualization code for this lab.\n",
        "import visualizations\n",
        "\n",
        "# These lines load the tests.\n",
        "import otter\n",
        "grader = otter.Notebook()\n"
      ]
    },
    {
      "cell_type": "markdown",
      "metadata": {
        "id": "LUNN0DL0EqVu"
      },
      "source": [
        "# 1. What is conditional probability good for?\n",
        "\n",
        "Suppose we have a known population, like all dogs in California.  So far, we've seen 3 ways of *predicting* something about an individual in that population, given incomplete knowledge about the identity of the individual:\n",
        "\n",
        "* If we know nothing about the individual dog, we could predict that its speed is the *average* or *median* of all the speeds in the population.\n",
        "* If we know the dog's height but not its speed, we could use *linear regression* to predict its speed from its height.  The resulting prediction is still imperfect, but it might be more accurate than the population average.\n",
        "* If we know the dog's breed, height, and age, we could use *nearest-neighbor classification* (or *multiple regression*) to predict its speed by comparing it to a collection of dogs with known speed.\n",
        "\n",
        "\n",
        "We can also compute conditional probabilities to make predictions about individuals or events. This technique is different from the previous methods we’ve examined because \n",
        "\n",
        "1. our prediction for each outcome is described by a probability, and \n",
        "2. each probability can be exactly calculated from assumptions, as opposed to estimated from data."
      ]
    },
    {
      "cell_type": "markdown",
      "metadata": {
        "id": "jWR0TxonEqVw"
      },
      "source": [
        "# 2. Icon arrays\n",
        "Parts 3 and 4 of this lab work with a more complex example about disease, but first, let's start with a simple example.\n",
        "\n",
        "Imagine you are a marble.  You don't know what you look like (since you obviously have no eyes), but you know that Samantha drew you **uniformly at random** from a bag that contained the following marbles:\n",
        "* 4 large shiny marbles,\n",
        "* 1 large dull marble,\n",
        "* 6 small shiny marbles, and\n",
        "* 2 small dull marbles."
      ]
    },
    {
      "cell_type": "markdown",
      "metadata": {
        "deletable": false,
        "editable": false,
        "id": "L4ld6T-4EqVy"
      },
      "source": [
        "**Question 2.0.1.** Knowing only what we've told you so far, what's the probability that you're a large shiny marble?\n",
        "\n",
        "<!--\n",
        "BEGIN QUESTION\n",
        "name: q2_0_1\n",
        "-->"
      ]
    },
    {
      "cell_type": "code",
      "execution_count": null,
      "metadata": {
        "id": "T-7eg2wJEqV0"
      },
      "outputs": [],
      "source": [
        "probability_large_shiny = ..."
      ]
    },
    {
      "cell_type": "code",
      "execution_count": null,
      "metadata": {
        "deletable": false,
        "editable": false,
        "id": "WlDGg0JpEqV2"
      },
      "outputs": [],
      "source": [
        "grader.check(\"q2_0_1\")"
      ]
    },
    {
      "cell_type": "markdown",
      "metadata": {
        "id": "mIlfYeUcEqV4"
      },
      "source": [
        "Here's a table with those marbles:"
      ]
    },
    {
      "cell_type": "code",
      "execution_count": null,
      "metadata": {
        "id": "7GNfzM3cEqV6"
      },
      "outputs": [],
      "source": [
        "marbles = Table.read_table(\"marbles.csv\")\n",
        "marbles.show()"
      ]
    },
    {
      "cell_type": "markdown",
      "metadata": {
        "id": "hHbt0PegEqV7"
      },
      "source": [
        "Here are the counts of each type of marble in a pivot table."
      ]
    },
    {
      "cell_type": "code",
      "execution_count": null,
      "metadata": {
        "id": "eKgonI98EqV8"
      },
      "outputs": [],
      "source": [
        "marbles.pivot('surface', 'size')"
      ]
    },
    {
      "cell_type": "markdown",
      "metadata": {
        "id": "RFu-_fRLEqV8"
      },
      "source": [
        "Here are all the different combinations of surface and size, with the count for each surface-size combination. Each type of marble appears in its own row."
      ]
    },
    {
      "cell_type": "code",
      "execution_count": null,
      "metadata": {
        "id": "V6FzBpa1EqV9"
      },
      "outputs": [],
      "source": [
        "marbles.group(['surface', 'size'])"
      ]
    },
    {
      "cell_type": "markdown",
      "metadata": {
        "id": "HmcQKZEZEqV-"
      },
      "source": [
        "We've included some code to display something called an *icon array*.  The functions in the cell below create icon arrays from various kinds of tables. Don't worry about understanding the code; just run this cell."
      ]
    },
    {
      "cell_type": "code",
      "execution_count": null,
      "metadata": {
        "id": "T3V9YE8bEqV_"
      },
      "outputs": [],
      "source": [
        "# Run this cell.\n",
        "\n",
        "#######################################################################\n",
        "# The functions you'll need to actually use are in here.  Each is a\n",
        "# way of making an icon array from a differently-formatted table.\n",
        "#######################################################################\n",
        "\n",
        "def display_icon_array(table, groups, individuals_name):\n",
        "    \"\"\"\n",
        "    Given a table and some columns to group it on, displays an icon array\n",
        "    of the groups.\n",
        "    \n",
        "    groups should be an array of labels of columns in table.\n",
        "    \n",
        "    individuals_name is your name for the individual rows of table.\n",
        "    For example, if we're talking about a population of people,\n",
        "    individuals_name should be \"people\".\n",
        "    \n",
        "    For example:\n",
        "    \n",
        "    display_icon_array(marbles, [\"surface\", \"size\"], \"marbles\")\n",
        "    \"\"\"\n",
        "    display_grouped_icon_array(table.group(groups), individuals_name)\n",
        "\n",
        "def display_grouped_icon_array(grouped_data, individuals_name):\n",
        "    \"\"\"\n",
        "    Given a table with counts for data grouped by 1 or more categories,\n",
        "    displays an icon array of the groups represented in the table.\n",
        "    \n",
        "    grouped_data should be a table of frequencies or counts, such as\n",
        "    a table created by calling the groups method on some table.\n",
        "    \n",
        "    individuals_name is your name for the individual members of the\n",
        "    dataset.  For example, if we're talking about a population of\n",
        "    people, individuals_name should be \"people\".\n",
        "    \n",
        "    For example:\n",
        "    \n",
        "    display_grouped_icon_array(marbles.group([\"surface\", \"size\"]), \"marbles\")\n",
        "    \"\"\"\n",
        "    visualizations.display_combinations(grouped_data, individuals_name=individuals_name)\n",
        "\n",
        "def display_crosstab_icon_array(crosstabulation, x_label, individuals_name):\n",
        "    \"\"\"\n",
        "    Given a crosstabulation table, displays an icon array of the groups\n",
        "    represented in the table.\n",
        "    \n",
        "    crosstabulation should be a table of frequencies or counts created by\n",
        "    calling pivot on some table.\n",
        "    \n",
        "    x_label should be the label of the categories listed as columns (on\n",
        "    the \"x axis\" when the crosstabulation table is printed).\n",
        "    \n",
        "    individuals_name is your name for the individual members of the\n",
        "    dataset.  For example, if we're talking about a population of\n",
        "    people, individuals_name should be \"people\".\n",
        "    \n",
        "    For example:\n",
        "    \n",
        "    display_crosstab_icon_array(marbles.pivot(\"surface\", \"size\"), \"surface\", \"marbles\")\n",
        "    \"\"\"\n",
        "    display_grouped_icon_array(visualizations.pivot_table_to_groups(crosstabulation, x_label), individuals_name)"
      ]
    },
    {
      "cell_type": "markdown",
      "metadata": {
        "id": "57hxBkMhEqWA"
      },
      "source": [
        "Here's an icon array of all the marbles, grouped by surface and size:"
      ]
    },
    {
      "cell_type": "code",
      "execution_count": null,
      "metadata": {
        "id": "tQRn9jG7EqWB"
      },
      "outputs": [],
      "source": [
        "# Run this cell.\n",
        "display_grouped_icon_array(marbles.group([\"surface\", \"size\"]), \"marble\")"
      ]
    },
    {
      "cell_type": "markdown",
      "metadata": {
        "id": "lZpItTzMEqWB"
      },
      "source": [
        "You (the marble) should imagine that you are a random draw from these 13 icons.\n",
        "\n",
        "The following is an icon array of the marbles, grouped **only by their surface (shiny/dull)**."
      ]
    },
    {
      "cell_type": "code",
      "execution_count": null,
      "metadata": {
        "id": "cUgPVu0EEqWC"
      },
      "outputs": [],
      "source": [
        "display_grouped_icon_array(marbles.group(\"surface\"), \"marble\")"
      ]
    },
    {
      "cell_type": "markdown",
      "metadata": {
        "deletable": false,
        "editable": false,
        "id": "vfrSaTYiEqWC"
      },
      "source": [
        "Knowing nothing else about yourself, you're equally likely to be any of the marbles pictured.\n",
        "\n",
        "**Question 2.0.2.** What's the probability that you're a shiny marble?  Calculate this by hand (using Python for arithmetic) by looking at your icon array.\n",
        "\n",
        "<!--\n",
        "BEGIN QUESTION\n",
        "name: q2_0_2\n",
        "-->"
      ]
    },
    {
      "cell_type": "code",
      "execution_count": null,
      "metadata": {
        "id": "b6SvLMBrEqWC"
      },
      "outputs": [],
      "source": [
        "probability_shiny = ..."
      ]
    },
    {
      "cell_type": "code",
      "execution_count": null,
      "metadata": {
        "deletable": false,
        "editable": false,
        "id": "gjAW8CslEqWD"
      },
      "outputs": [],
      "source": [
        "grader.check(\"q2_0_2\")"
      ]
    },
    {
      "cell_type": "markdown",
      "metadata": {
        "id": "KiXMOc_REqWD"
      },
      "source": [
        "## 2.1. Conditional probability\n",
        "\n",
        "Suppose you overhear Samantha say that you're a large marble. Does this somehow change the chance that you're shiny?  Let's find out.\n",
        "\n",
        "Go back to the full icon array, displayed below for convenience."
      ]
    },
    {
      "cell_type": "code",
      "execution_count": null,
      "metadata": {
        "id": "iTmHIYbeEqWE"
      },
      "outputs": [],
      "source": [
        "display_grouped_icon_array(marbles.group([\"surface\", \"size\"]), \"marble\")"
      ]
    },
    {
      "cell_type": "markdown",
      "metadata": {
        "id": "j7mo7aj7EqWE"
      },
      "source": [
        "In question 2.0.2, we assumed you were equally likely to be any of the marbles, because we didn't know any better.  That's why we looked at all the marbles to compute the probability that you were shiny.\n",
        "\n",
        "But assuming that you're a large marble, we can eliminate some of these possibilities.  In particular, you can't be a small shiny marble or a small dull marble.\n",
        "\n",
        "You're still equally likely to be any of the remaining marbles, because you don't know any other information.  So here's an icon array of those remaining possibilities:"
      ]
    },
    {
      "cell_type": "code",
      "execution_count": null,
      "metadata": {
        "id": "R9NzTOtWEqWF"
      },
      "outputs": [],
      "source": [
        "# Just run this cell.\n",
        "display_grouped_icon_array(marbles.where(\"size\", \"large\").group(\"surface\"), \"large marble\")"
      ]
    },
    {
      "cell_type": "markdown",
      "metadata": {
        "deletable": false,
        "editable": false,
        "id": "oPbq3_eOEqWF"
      },
      "source": [
        "**Question 2.1.1.** What's the probability you're a shiny marble, knowing that you're a large marble? \n",
        "\n",
        "*Hint: Use the icon array*\n",
        "\n",
        "<!--\n",
        "BEGIN QUESTION\n",
        "name: q2_1_1\n",
        "-->"
      ]
    },
    {
      "cell_type": "code",
      "execution_count": null,
      "metadata": {
        "id": "JriD8RV5EqWG"
      },
      "outputs": [],
      "source": [
        "probability_shiny_given_large = ..."
      ]
    },
    {
      "cell_type": "code",
      "execution_count": null,
      "metadata": {
        "deletable": false,
        "editable": false,
        "id": "K0W2kVXnEqWG"
      },
      "outputs": [],
      "source": [
        "grader.check(\"q2_1_1\")"
      ]
    },
    {
      "cell_type": "markdown",
      "metadata": {
        "id": "DQa0ZKKMEqWH"
      },
      "source": [
        "You should have found that this is different from the probability that you're a shiny marble given no size information) which you computed earlier.  The distribution of surfaces among the large marbles is a little different from the distribution of surfaces among all the marbles."
      ]
    },
    {
      "cell_type": "markdown",
      "metadata": {
        "deletable": false,
        "editable": false,
        "id": "pIJIE_4UEqWI"
      },
      "source": [
        "**Question 2.1.2.** Suppose instead Samantha had said you're a **shiny** marble (hooray!). What's the probability that you're large? \n",
        "\n",
        "Run the code cell below to display the icon array, then assign `probability_large_given_shiny` to the appropriate value.\n",
        "<!--\n",
        "BEGIN QUESTION\n",
        "name: q2_1_2\n",
        "-->"
      ]
    },
    {
      "cell_type": "code",
      "execution_count": null,
      "metadata": {
        "id": "CNkwL8qnEqWJ"
      },
      "outputs": [],
      "source": [
        "# Run this cell to display the icon array. Then fill in the last line.\n",
        "display_grouped_icon_array(marbles.where(\"surface\", \"shiny\").group(\"size\"), \"shiny marble\")\n",
        "\n",
        "# Now fill in the answer.\n",
        "probability_large_given_shiny = ..."
      ]
    },
    {
      "cell_type": "code",
      "execution_count": null,
      "metadata": {
        "deletable": false,
        "editable": false,
        "id": "X5xWFHItEqWJ"
      },
      "outputs": [],
      "source": [
        "grader.check(\"q2_1_2\")"
      ]
    },
    {
      "cell_type": "markdown",
      "metadata": {
        "id": "z-o48obvEqWK"
      },
      "source": [
        "**Question 2.1.3.** Can you answer the previous two questions just by looking at the full icon array?  (You can run the cell below to see it again.)."
      ]
    },
    {
      "cell_type": "code",
      "execution_count": null,
      "metadata": {
        "id": "dHiu2qEkEqWK"
      },
      "outputs": [],
      "source": [
        "# Just run this cell.  The next cell is where you should write your answer.\n",
        "display_grouped_icon_array(marbles.group([\"surface\", \"size\"]), \"marble\")"
      ]
    },
    {
      "cell_type": "markdown",
      "metadata": {
        "deletable": false,
        "editable": false,
        "id": "_gYty4ntEqWK"
      },
      "source": [
        "If you can, how? If not, why not? Check with your lab peers to see if you are on the right track. \n",
        "\n",
        "<!--\n",
        "BEGIN QUESTION\n",
        "name: q2_1_3\n",
        "-->"
      ]
    },
    {
      "cell_type": "markdown",
      "metadata": {
        "manual_problem_id": "2_full_icon_arr",
        "id": "YmvlD4uYEqWL"
      },
      "source": [
        "*Write your answer here, replacing this text.*"
      ]
    },
    {
      "cell_type": "markdown",
      "metadata": {
        "id": "N0N3kwEJEqWL"
      },
      "source": [
        "# 3. Cancer screening\n",
        "Hopefully the icon arrays from the previous portion helped you build intuition for why conditional probabilities can be helpful. Now, let’s look at a real life application.\n",
        "\n",
        "### Background\n",
        "Medical tests are an important but surprisingly controversial topic.  For years, women have been advised to get regular mammograms, which test for breast cancer.  Today, there is controversy over whether the tests are useful at all.\n",
        "\n",
        "Part of the problem with such tests is that they are not perfectly reliable.  Someone without cancer, or with only a benign form of cancer, can see a positive result on a test for cancer.  Someone with cancer can receive a negative result.  (\"Positive\" means \"pointing toward cancer,\" so in this context it's bad!)  Doctors and patients often deal poorly with the first case, called *false positives*.  For example, a patient may receive dangerous treatment like chemotherapy or radiation despite having no cancer or, as happens more frequently, having a cancer that would not have impacted their health.\n",
        "\n",
        "Conditional probability is a good way to think about such situations.  For example, you can compute the chance that you have cancer **given the results of a diagnostic test** by combining information from different probability distributions.  You'll see that the chance you have cancer can be far from 100% even if you have a positive test result from a test that is usually accurate."
      ]
    },
    {
      "cell_type": "markdown",
      "metadata": {
        "id": "0RdGZpacEqWM"
      },
      "source": [
        "## 3.1. Basic cancer statistics\n",
        "Suppose that in a representative group of 10,000 people who are tested for cancer (\"representative\" meaning that the frequencies of different events are the same as the frequencies in the whole population):\n",
        "1. 100 people have cancer.\n",
        "2. Among the 100 people that have cancer, 90 have positive results on a cancer test and 10 have negative results.  (\"Negative\" means \"not pointing toward cancer.\")\n",
        "3. The other 9,900 people don't have cancer.\n",
        "4. Among these 9,900 people, 198 have positive results on a cancer test and the other 9,702 have negative results.  (So 198 see \"false positive\" results.)\n",
        "\n",
        "Below we've generated a table with data from these 10,000 hypothetical people."
      ]
    },
    {
      "cell_type": "code",
      "execution_count": null,
      "metadata": {
        "id": "owHDnlqNEqWM"
      },
      "outputs": [],
      "source": [
        "people = Table().with_columns(\n",
        "    \"cancer status\", [\"sick\", \"sick\", \"healthy\", \"healthy\"],\n",
        "    \"test status\", [\"positive\", \"negative\", \"positive\", \"negative\"],\n",
        "    \"count\", [90, 10, 198, 9702])\n",
        "people"
      ]
    },
    {
      "cell_type": "markdown",
      "metadata": {
        "deletable": false,
        "editable": false,
        "id": "aNWYhNMPEqWN"
      },
      "source": [
        "One way to visualize this dataset is with a contingency table, which you've seen before.\n",
        "\n",
        "**Question 3.1.1.** Create a contingency table that looks like this:\n",
        "\n",
        "|cancer status|negative|positive|\n",
        "|-|-|-|\n",
        "|healthy|||\n",
        "|sick||||\n",
        "\n",
        "...with the **count** of each group filled in, according to what we've told you above.  The counts in the 4 boxes should sum to 10,000.\n",
        "\n",
        "*Hint:* Use `pivot` with the `sum` function.\n",
        "\n",
        "<!--\n",
        "BEGIN QUESTION\n",
        "name: q3_1_1\n",
        "-->"
      ]
    },
    {
      "cell_type": "code",
      "execution_count": null,
      "metadata": {
        "id": "bpj3HjpoEqWN"
      },
      "outputs": [],
      "source": [
        "cancer = ...\n",
        "cancer"
      ]
    },
    {
      "cell_type": "code",
      "execution_count": null,
      "metadata": {
        "deletable": false,
        "editable": false,
        "id": "TC1D_KR0EqWP"
      },
      "outputs": [],
      "source": [
        "grader.check(\"q3_1_1\")"
      ]
    },
    {
      "cell_type": "markdown",
      "metadata": {
        "id": "y7SaTwW3EqWQ"
      },
      "source": [
        "Here is the `people` data in an icon array."
      ]
    },
    {
      "cell_type": "code",
      "execution_count": null,
      "metadata": {
        "id": "ItRgYOSfEqWQ"
      },
      "outputs": [],
      "source": [
        "display_grouped_icon_array(people, \"people who've taken a cancer test\")"
      ]
    },
    {
      "cell_type": "markdown",
      "metadata": {
        "id": "1aoRJUu7EqWR"
      },
      "source": [
        "Now let's think about how you can use this kind of information when you're tested for cancer.\n",
        "\n",
        "Before you know any information about yourself, you could imagine yourself as a **uniform random sample** of one of the 10,000 people in this imaginary population of people who have been tested.\n",
        "\n",
        "What's the chance that you have cancer, knowing nothing else about yourself?  It's $\\frac{100}{10000}$, or 1%.  We can see that more directly with this icon array:"
      ]
    },
    {
      "cell_type": "code",
      "execution_count": null,
      "metadata": {
        "id": "UCxOsXoLEqWR"
      },
      "outputs": [],
      "source": [
        "by_health = people.select(0, 2).group(0, sum).relabeled(1, 'count')\n",
        "display_grouped_icon_array(by_health, \"people who've taken a cancer test\")"
      ]
    },
    {
      "cell_type": "markdown",
      "metadata": {
        "deletable": false,
        "editable": false,
        "id": "7eKnxZOHEqWR"
      },
      "source": [
        "**Question 3.1.2.** What's the chance that you have a positive test result, knowing nothing else about yourself?\n",
        "Run the next code cell to dispaly an icon array, then assign `probability_positive_test` to this value.\n",
        "<!--\n",
        "BEGIN QUESTION\n",
        "name: q3_1_2\n",
        "-->"
      ]
    },
    {
      "cell_type": "code",
      "execution_count": null,
      "metadata": {
        "id": "lHDjwgxNEqWT"
      },
      "outputs": [],
      "source": [
        "# Run this cell to display an icon array. Then fill in the probability of a positive test result in the last line.\n",
        "by_test = people.select(1, 2).group(0, sum).relabeled(1, 'count')\n",
        "display_grouped_icon_array(by_test, \"people who've taken a cancer test\")\n",
        "\n",
        "# Now fill in the probability of a positive test result\n",
        "probability_positive_test = ..."
      ]
    },
    {
      "cell_type": "code",
      "execution_count": null,
      "metadata": {
        "deletable": false,
        "editable": false,
        "id": "JM8uS2XdEqWT"
      },
      "outputs": [],
      "source": [
        "grader.check(\"q3_1_2\")"
      ]
    },
    {
      "cell_type": "markdown",
      "metadata": {
        "id": "mJIvQMtTEqWT"
      },
      "source": [
        "## 3.2. Interpreting test results\n",
        "Suppose you have a positive test result.  This means that you can now narrow yourself down to being part of just one of the two following groups:\n",
        "1. The people with cancer who have a positive test result.\n",
        "2. The people without cancer who have a positive test result.\n",
        "\n",
        "Here's an icon array for those two groups:"
      ]
    },
    {
      "cell_type": "code",
      "execution_count": null,
      "metadata": {
        "id": "MCgudeqpEqWU"
      },
      "outputs": [],
      "source": [
        "# Just run this cell.\n",
        "display_grouped_icon_array(people.where(\"test status\", are.equal_to(\"positive\")).drop(1), \"people who have a positive test result\")"
      ]
    },
    {
      "cell_type": "markdown",
      "metadata": {
        "deletable": false,
        "editable": false,
        "id": "qajSyu3tEqWV"
      },
      "source": [
        "The *conditional probability* that you **have cancer given your positive test result** is the chance that you're in the first group (cancer), assuming you have a positive test result.\n",
        "\n",
        "**Question 3.2.1.** Eyeballing the icon array above, is the conditional probability that you have cancer **given your positive test result** closest to:\n",
        "\n",
        "1. 9/10\n",
        "\n",
        "2. 2/3\n",
        "\n",
        "3. 1/2\n",
        "\n",
        "4. 1/3\n",
        "\n",
        "5. 1/100\n",
        "\n",
        "Assign `rough_prob_sick_given_positive` to the number corresponding to your answer.\n",
        "\n",
        "<!--\n",
        "BEGIN QUESTION\n",
        "name: q3_2_1\n",
        "-->"
      ]
    },
    {
      "cell_type": "code",
      "execution_count": null,
      "metadata": {
        "id": "pK_-J5yNEqWW"
      },
      "outputs": [],
      "source": [
        "# Set this to one of the probabilities above.\n",
        "rough_prob_sick_given_positive = ..."
      ]
    },
    {
      "cell_type": "code",
      "execution_count": null,
      "metadata": {
        "deletable": false,
        "editable": false,
        "id": "C6jMkIHQEqWX"
      },
      "outputs": [],
      "source": [
        "grader.check(\"q3_2_1\")"
      ]
    },
    {
      "cell_type": "markdown",
      "metadata": {
        "deletable": false,
        "editable": false,
        "id": "_Q5YrPxiEqWY"
      },
      "source": [
        "**Question 3.2.2.** Now write code to calculate that probability exactly, using the original contingency table you wrote (the `cancer` table).\n",
        "\n",
        "Run the next code cell to see the `cancer` table, then fill in `prob_sick_given_positive` with your code.\n",
        "\n",
        "<!--\n",
        "BEGIN QUESTION\n",
        "name: q3_2_2\n",
        "-->"
      ]
    },
    {
      "cell_type": "code",
      "execution_count": null,
      "metadata": {
        "id": "XwveHscxEqWY"
      },
      "outputs": [],
      "source": [
        "prob_sick_given_positive = ...\n",
        "prob_sick_given_positive\n",
        "\n",
        "# Run this cell first to see the cancer table. Then fill in the first line of this cell.\n",
        "print(cancer)\n",
        "\n",
        "print('Probability of cancer given positive test result: {}'.format(prob_sick_given_positive))"
      ]
    },
    {
      "cell_type": "code",
      "execution_count": null,
      "metadata": {
        "deletable": false,
        "editable": false,
        "id": "h_hLQcZCEqWZ"
      },
      "outputs": [],
      "source": [
        "grader.check(\"q3_2_2\")"
      ]
    },
    {
      "cell_type": "markdown",
      "metadata": {
        "deletable": false,
        "editable": false,
        "id": "nrkfKVtEEqWZ"
      },
      "source": [
        "**Question 3.2.3.** Look at the full icon array again.  Using that, how would you compute the conditional probability of cancer given a positive test?\n",
        "\n",
        "Run the next code cell to see the full icon array. \n",
        "\n",
        "<!--\n",
        "BEGIN QUESTION\n",
        "name: q3_2_3\n",
        "-->"
      ]
    },
    {
      "cell_type": "markdown",
      "metadata": {
        "manual_problem_id": "cancer_given_positive",
        "id": "iGEbN4DIEqWZ"
      },
      "source": [
        "*Write your answer here, replacing this text.*"
      ]
    },
    {
      "cell_type": "code",
      "execution_count": null,
      "metadata": {
        "id": "2DhpqfgpEqWa"
      },
      "outputs": [],
      "source": [
        "# The full icon array is given here for your convenience.\n",
        "# Write your answer in the previous cell.\n",
        "display_grouped_icon_array(people, \"people who've taken a cancer test\")"
      ]
    },
    {
      "cell_type": "markdown",
      "metadata": {
        "deletable": false,
        "editable": false,
        "id": "j53_9JuAEqWa"
      },
      "source": [
        "**Question 3.2.4.** Is your answer to question 3.2.2 bigger than the overall proportion of people in the population who have cancer (given as 1% in 3.1.1)?  Does that make sense? Check with your peers in lab to see if you have the right idea. \n",
        "\n",
        "<!--\n",
        "BEGIN QUESTION\n",
        "name: q3_2_4\n",
        "-->"
      ]
    },
    {
      "cell_type": "markdown",
      "metadata": {
        "manual_problem_id": "q_3.2.4",
        "id": "ql6XE8CaEqWb"
      },
      "source": [
        "*Write your answer here, replacing this text.*"
      ]
    },
    {
      "cell_type": "markdown",
      "metadata": {
        "id": "vfwZJ6EfEqWc"
      },
      "source": [
        "Congratulations, you're done with the lab!"
      ]
    }
  ],
  "metadata": {
    "anaconda-cloud": {},
    "celltoolbar": "Edit Metadata",
    "kernelspec": {
      "display_name": "Python 3 (ipykernel)",
      "language": "python",
      "name": "python3"
    },
    "language_info": {
      "codemirror_mode": {
        "name": "ipython",
        "version": 3
      },
      "file_extension": ".py",
      "mimetype": "text/x-python",
      "name": "python",
      "nbconvert_exporter": "python",
      "pygments_lexer": "ipython3",
      "version": "3.7.1"
    },
    "timetravel": {
      "allowedContentTypes": [
        "text/plain"
      ],
      "enabled": true,
      "version": "1.0"
    },
    "colab": {
      "provenance": []
    }
  },
  "nbformat": 4,
  "nbformat_minor": 0
}