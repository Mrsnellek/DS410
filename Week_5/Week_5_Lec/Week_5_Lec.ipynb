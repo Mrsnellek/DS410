{
  "cells": [
    {
      "cell_type": "markdown",
      "id": "3ccd35ff",
      "metadata": {
        "id": "3ccd35ff"
      },
      "source": [
        "The contents of this course including lectures, labs, homework assignments, and exams have all been adapted from the [Data 8 course at University California Berkley](https://data.berkeley.edu/education/courses/data-8). Through their generosity and passion for undergraduate education, the Data 8 community at Berkley has opened their content and expertise for other universities to adapt in the name of undergraduate education."
      ]
    },
    {
      "cell_type": "code",
      "execution_count": null,
      "id": "cb1c4110",
      "metadata": {
        "id": "cb1c4110"
      },
      "outputs": [],
      "source": [
        "!pip install datascience -q\n",
        "from datascience import *\n",
        "import numpy as np\n",
        "\n",
        "from IPython.display import display, Math, Latex\n",
        "\n",
        "%matplotlib inline\n",
        "import matplotlib.pyplot as plots\n",
        "plots.style.use('fivethirtyeight')"
      ]
    },
    {
      "cell_type": "code",
      "source": [
        "!git clone https://github.com/Mrsnellek/DS410.git"
      ],
      "metadata": {
        "id": "7TlwEeSN5Crt"
      },
      "execution_count": null,
      "outputs": [],
      "id": "7TlwEeSN5Crt"
    },
    {
      "cell_type": "code",
      "source": [
        "cd DS410/Week_5/Week_5_Lec/"
      ],
      "metadata": {
        "id": "9VcJvTMl5IDJ"
      },
      "execution_count": null,
      "outputs": [],
      "id": "9VcJvTMl5IDJ"
    },
    {
      "cell_type": "markdown",
      "id": "f7c7ea4d",
      "metadata": {
        "id": "f7c7ea4d"
      },
      "source": [
        "# Chapter 15: Prediction\n",
        "\n",
        "An important aspect of data science is to find out what data can tell us about the future. What do data about climate and pollution say about temperatures a few decades from now? Based on a person’s internet profile, which websites are likely to interest them? How can a patient’s medical history be used to judge how well he or she will respond to a treatment?"
      ]
    },
    {
      "cell_type": "markdown",
      "id": "ef28f1cd",
      "metadata": {
        "id": "ef28f1cd"
      },
      "source": [
        "Let's load the Francis Galton data set on family and children heights that we have seen before. The table *heights* contains data on the midparent height and child’s height (all in inches) for a population of 934 adult “children”. Recall that the midparent height is an average of the heights of the two parents."
      ]
    },
    {
      "cell_type": "code",
      "execution_count": null,
      "id": "5ebe8208",
      "metadata": {
        "id": "5ebe8208"
      },
      "outputs": [],
      "source": [
        "# Data on heights of parents and their adult children\n",
        "original = Table.read_table('galton.csv')\n",
        "heights = Table().with_columns(\n",
        "    'MidParent', original.column('midparentHeight'),\n",
        "    'Child', original.column('childHeight')\n",
        "    )"
      ]
    },
    {
      "cell_type": "code",
      "execution_count": null,
      "id": "700fc092",
      "metadata": {
        "id": "700fc092"
      },
      "outputs": [],
      "source": [
        "heights"
      ]
    },
    {
      "cell_type": "code",
      "execution_count": null,
      "id": "a1676372",
      "metadata": {
        "id": "a1676372"
      },
      "outputs": [],
      "source": [
        "heights.scatter('MidParent')"
      ]
    },
    {
      "cell_type": "markdown",
      "id": "7a69a519",
      "metadata": {
        "id": "7a69a519"
      },
      "source": [
        "A primary reason for studying the data was to be able to predict the adult height of a child born to parents who were similar to those in the dataset. We made these predictions in Section 8.1, after noticing the positive association between the two variables."
      ]
    },
    {
      "cell_type": "code",
      "execution_count": null,
      "id": "678cd54d",
      "metadata": {
        "id": "678cd54d"
      },
      "outputs": [],
      "source": [
        "def predict_child(mpht):\n",
        "    \"\"\"Return a prediction of the height of a child \n",
        "    whose parents have a midparent height of mpht.\n",
        "    \n",
        "    The prediction is the average height of the children \n",
        "    whose midparent height is in the range mpht plus or minus 0.5 inches.\n",
        "    \"\"\"\n",
        "    \n",
        "    close_points = heights.where('MidParent', are.between(mpht-0.5, mpht + 0.5))\n",
        "    return close_points.column('Child').mean()                       "
      ]
    },
    {
      "cell_type": "code",
      "execution_count": null,
      "id": "b230ea5e",
      "metadata": {
        "id": "b230ea5e"
      },
      "outputs": [],
      "source": [
        "# Apply predict_child to all the midparent heights\n",
        "heights_with_predictions = heights.with_column(\n",
        "    'Prediction', heights.apply(predict_child, 'MidParent')\n",
        "    )"
      ]
    },
    {
      "cell_type": "code",
      "source": [
        "heights_with_predictions"
      ],
      "metadata": {
        "id": "jShpuilTICrB"
      },
      "id": "jShpuilTICrB",
      "execution_count": null,
      "outputs": []
    },
    {
      "cell_type": "code",
      "execution_count": null,
      "id": "58f1b6ce",
      "metadata": {
        "id": "58f1b6ce"
      },
      "outputs": [],
      "source": [
        "# Draw the original scatter plot along with the predicted values\n",
        "heights_with_predictions.scatter('MidParent')"
      ]
    },
    {
      "cell_type": "markdown",
      "id": "68548a60",
      "metadata": {
        "id": "68548a60"
      },
      "source": [
        "The prediction at a given midparent height lies roughly at the center of the vertical strip of points at the given height. This method of prediction is called regression. "
      ]
    },
    {
      "cell_type": "markdown",
      "id": "c4ab975f",
      "metadata": {
        "id": "c4ab975f"
      },
      "source": [
        "### Correlation\n",
        "* In this section we will develop a measure of how tightly clustered a scatter diagram is about a straight line. Formally, this is called measuring linear association.\n",
        "\n",
        "The table hybrid contains data on hybrid passenger cars sold in the United States from 1997 to 2013. The data were adapted from the online data archive of Prof. Larry Winner of the University of Florida. The columns:\n",
        "\n",
        "   * vehicle: model of the car\n",
        "\n",
        "   * year: year of manufacture\n",
        "\n",
        "   * msrp: manufacturer’s suggested retail price in 2013 dollars\n",
        "\n",
        "   * acceleration: acceleration rate in km per hour per second\n",
        "\n",
        "   * mpg: fuel econonmy in miles per gallon\n",
        "\n",
        "   * class: the model’s class.\n"
      ]
    },
    {
      "cell_type": "code",
      "execution_count": null,
      "id": "3fc9496f",
      "metadata": {
        "id": "3fc9496f"
      },
      "outputs": [],
      "source": [
        "hybrid = Table.read_table('hybrid.csv')\n",
        "hybrid"
      ]
    },
    {
      "cell_type": "code",
      "execution_count": null,
      "id": "9e9a0b07",
      "metadata": {
        "id": "9e9a0b07"
      },
      "outputs": [],
      "source": [
        "hybrid.scatter('acceleration', 'msrp')"
      ]
    },
    {
      "cell_type": "code",
      "execution_count": null,
      "id": "031d858c",
      "metadata": {
        "id": "031d858c"
      },
      "outputs": [],
      "source": [
        "hybrid.scatter('mpg', 'msrp')"
      ]
    },
    {
      "cell_type": "markdown",
      "id": "e934c5fb",
      "metadata": {
        "id": "e934c5fb"
      },
      "source": [
        "The above plot appears to be non-linear"
      ]
    },
    {
      "cell_type": "code",
      "execution_count": null,
      "id": "31b268e8",
      "metadata": {
        "id": "31b268e8"
      },
      "outputs": [],
      "source": [
        "# Selecting \n",
        "suv = hybrid.where('class', 'SUV')\n",
        "suv.scatter('mpg', 'msrp')"
      ]
    },
    {
      "cell_type": "markdown",
      "id": "a6feb58b",
      "metadata": {
        "id": "a6feb58b"
      },
      "source": [
        "When selecting only SUVs the data is more linearly correlated."
      ]
    },
    {
      "cell_type": "code",
      "execution_count": null,
      "id": "0292af4d",
      "metadata": {
        "id": "0292af4d"
      },
      "outputs": [],
      "source": [
        "suv.scatter('acceleration', 'msrp')"
      ]
    },
    {
      "cell_type": "markdown",
      "id": "1b691fdf",
      "metadata": {
        "id": "1b691fdf"
      },
      "source": [
        "We can derive useful information from the general orientation and shape of a scatter diagram even without paying attention to the units in which the variables were measured.\n",
        "\n",
        "We can plot all the variables in standard units and the plots would look the same. This gives us a way to compare the degree of linearity in two scatter diagrams.\n",
        "\n",
        "Recall that in an earlier section we defined the function standard_units to convert an array of numbers to standard units."
      ]
    },
    {
      "cell_type": "code",
      "execution_count": null,
      "id": "2630559d",
      "metadata": {
        "id": "2630559d"
      },
      "outputs": [],
      "source": [
        "def standard_units(any_numbers):\n",
        "    \"Convert any array of numbers to standard units.\"\n",
        "    return (any_numbers - np.mean(any_numbers))/np.std(any_numbers)  "
      ]
    },
    {
      "cell_type": "code",
      "execution_count": null,
      "id": "1b2df255",
      "metadata": {
        "id": "1b2df255"
      },
      "outputs": [],
      "source": [
        "Table().with_columns(\n",
        "    'mpg (standard units)',  standard_units(suv.column('mpg')), \n",
        "    'msrp (standard units)', standard_units(suv.column('msrp'))\n",
        ").scatter(0, 1)\n",
        "plots.xlim(-3, 3)\n",
        "plots.ylim(-3, 3);"
      ]
    },
    {
      "cell_type": "code",
      "execution_count": null,
      "id": "cc5bb75c",
      "metadata": {
        "id": "cc5bb75c"
      },
      "outputs": [],
      "source": [
        "Table().with_columns(\n",
        "    'acceleration (standard units)', standard_units(suv.column('acceleration')), \n",
        "    'msrp (standard units)',         standard_units(suv.column('msrp'))\n",
        ").scatter(0, 1)\n",
        "plots.xlim(-3, 3)\n",
        "plots.ylim(-3, 3);"
      ]
    },
    {
      "cell_type": "markdown",
      "id": "d6d832e1",
      "metadata": {
        "id": "d6d832e1"
      },
      "source": [
        "We will now define a measure that uses standard units to quantify the kinds of association that we have seen.\n",
        "\n",
        "### The Correlation Coefficient\n",
        "\n",
        "* The correlation coefficient measures how clustered the scatter diagram is around a straight line.\n",
        "\n",
        "The term correlation coefficient isn’t easy to say, so it is usually shortened to correlation and denoted by $r$.\n",
        "\n",
        "Here are some mathematical facts about $r$ that we will just observe by simulation.\n",
        "\n",
        "* The correlation coefficient is a number between $-1$ and $1$.\n",
        "\n",
        "* $r$ measures the extent to which the scatter plot clusters around a straight line.\n",
        "\n",
        "* $r=1$ if the scatter diagram is a perfect straight line sloping upwards, and $r=-1$ if the scatter diagram is a perfect straight line sloping downwards.\n",
        "\n",
        "Formula for $r$ is the average of the products of the two variables, when both variables are measured in standard units.\n",
        "\n",
        "Here are the steps in the calculation. We will apply the steps to a simple table of values of $x$ and $y$."
      ]
    },
    {
      "cell_type": "code",
      "execution_count": null,
      "id": "da77229e",
      "metadata": {
        "id": "da77229e"
      },
      "outputs": [],
      "source": [
        "x = np.arange(1, 7, 1)\n",
        "y = make_array(2, 3, 1, 5, 2, 7)\n",
        "t = Table().with_columns(\n",
        "        'x', x,\n",
        "        'y', y\n",
        "    )\n",
        "t"
      ]
    },
    {
      "cell_type": "markdown",
      "id": "2b21321a",
      "metadata": {
        "id": "2b21321a"
      },
      "source": [
        "Based on the scatter diagram, we expect that $r$ will be positive but not equal to 1."
      ]
    },
    {
      "cell_type": "code",
      "execution_count": null,
      "id": "873400df",
      "metadata": {
        "id": "873400df"
      },
      "outputs": [],
      "source": [
        "t.scatter(0, 1, s=30, color='red')"
      ]
    },
    {
      "cell_type": "markdown",
      "id": "798c4c6e",
      "metadata": {
        "id": "798c4c6e"
      },
      "source": [
        "**Step 1.** Convert each variable to standard units."
      ]
    },
    {
      "cell_type": "code",
      "execution_count": null,
      "id": "b68ae05d",
      "metadata": {
        "id": "b68ae05d"
      },
      "outputs": [],
      "source": [
        "t_su = t.with_columns(\n",
        "        'x (standard units)', standard_units(x),\n",
        "        'y (standard units)', standard_units(y)\n",
        "    )\n",
        "t_su"
      ]
    },
    {
      "cell_type": "markdown",
      "id": "d7e9bc41",
      "metadata": {
        "id": "d7e9bc41"
      },
      "source": [
        "**Step 2.** Multiply each pair of standard units."
      ]
    },
    {
      "cell_type": "code",
      "execution_count": null,
      "id": "893024c2",
      "metadata": {
        "id": "893024c2"
      },
      "outputs": [],
      "source": [
        "t_product = t_su.with_column('product of standard units', t_su.column(2) * t_su.column(3))\n",
        "t_product"
      ]
    },
    {
      "cell_type": "markdown",
      "id": "72e7241a",
      "metadata": {
        "id": "72e7241a"
      },
      "source": [
        "**Step 3.** is the average of the products computed in Step 2."
      ]
    },
    {
      "cell_type": "code",
      "execution_count": null,
      "id": "18c62b43",
      "metadata": {
        "id": "18c62b43"
      },
      "outputs": [],
      "source": [
        "# r is the average of the products of standard units\n",
        "r = np.mean(t_product.column(4))\n",
        "r"
      ]
    },
    {
      "cell_type": "markdown",
      "id": "c000bae6",
      "metadata": {
        "id": "c000bae6"
      },
      "source": [
        "As expected, $r$ is positive but not equal to 1."
      ]
    },
    {
      "cell_type": "markdown",
      "id": "29398146",
      "metadata": {
        "id": "29398146"
      },
      "source": [
        "### Properties of $r$"
      ]
    },
    {
      "cell_type": "markdown",
      "id": "58b8b74e",
      "metadata": {
        "id": "58b8b74e"
      },
      "source": [
        "* $r$ is a pure number. It has no units.\n",
        "\n",
        "* $r$ is based on standard units.\n",
        "\n",
        "* $r$ is unaffected by changing the units on either axis. \n",
        "\n",
        "* $r$ is unaffected by switching the axes. Algebraically, this is because the product of standard units does not depend on which variable is called $x$ and which $y$. Geometrically, switching axes reflects the scatter plot about the line $y=x$, but does not change the amount of clustering nor the sign of the association."
      ]
    },
    {
      "cell_type": "code",
      "execution_count": null,
      "id": "5279c92e",
      "metadata": {
        "id": "5279c92e"
      },
      "outputs": [],
      "source": [
        "t.scatter('y', 'x', s=30, color='red')"
      ]
    },
    {
      "cell_type": "markdown",
      "id": "7c53301c",
      "metadata": {
        "id": "7c53301c"
      },
      "source": [
        "We are going to be calculating correlations repeatedly so lets define a function that computes it by performing all the steps described above."
      ]
    },
    {
      "cell_type": "code",
      "execution_count": null,
      "id": "3ca774ef",
      "metadata": {
        "id": "3ca774ef"
      },
      "outputs": [],
      "source": [
        "def correlation(t, x, y):\n",
        "    return np.mean(standard_units(t.column(x))*standard_units(t.column(y)))"
      ]
    },
    {
      "cell_type": "code",
      "execution_count": null,
      "id": "d38ed07b",
      "metadata": {
        "id": "d38ed07b"
      },
      "outputs": [],
      "source": [
        "correlation(t, 'x', 'y')"
      ]
    },
    {
      "cell_type": "code",
      "execution_count": null,
      "id": "bbf7ee71",
      "metadata": {
        "id": "bbf7ee71"
      },
      "outputs": [],
      "source": [
        "correlation(t, 'y', 'x')"
      ]
    },
    {
      "cell_type": "code",
      "execution_count": null,
      "id": "1c08b7d6",
      "metadata": {
        "id": "1c08b7d6"
      },
      "outputs": [],
      "source": [
        "correlation(suv, 'mpg', 'msrp')"
      ]
    },
    {
      "cell_type": "code",
      "execution_count": null,
      "id": "97b58b2b",
      "metadata": {
        "id": "97b58b2b"
      },
      "outputs": [],
      "source": [
        "correlation(suv, 'acceleration', 'msrp')"
      ]
    },
    {
      "cell_type": "markdown",
      "id": "92132889",
      "metadata": {
        "id": "92132889"
      },
      "source": [
        "#### Association is not Causation¶\n",
        "Correlation only measures association. Correlation does not imply causation. Though the correlation between the weight and the math ability of children in a school district may be positive, that does not mean that doing math makes children heavier or that putting on weight improves the children’s math skills. Age is a confounding variable: older children are both heavier and better at math than younger children, on average."
      ]
    },
    {
      "cell_type": "markdown",
      "id": "913960f7",
      "metadata": {
        "id": "913960f7"
      },
      "source": [
        "Correlation measures only one kind of association – linear. Variables that have strong non-linear association might have very low correlation. Here is an example of variables that have a perfect quadratic relation $y=x^2$ but have correlation equal to 0."
      ]
    },
    {
      "cell_type": "code",
      "execution_count": null,
      "id": "09022cdd",
      "metadata": {
        "id": "09022cdd"
      },
      "outputs": [],
      "source": [
        "new_x = np.arange(-4, 4.1, 0.5)\n",
        "nonlinear = Table().with_columns(\n",
        "        'x', new_x,\n",
        "        'y', new_x**2\n",
        "    )\n",
        "nonlinear.scatter('x', 'y', s=30, color='r')"
      ]
    },
    {
      "cell_type": "code",
      "execution_count": null,
      "id": "0d8a8311",
      "metadata": {
        "id": "0d8a8311"
      },
      "outputs": [],
      "source": [
        "correlation(nonlinear, 'x', 'y')"
      ]
    },
    {
      "cell_type": "markdown",
      "id": "9200f70a",
      "metadata": {
        "id": "9200f70a"
      },
      "source": [
        "Outliers can have a big effect on correlation. Here is an example where a scatter plot for which $r=1$ is turned into a plot for which $r=0$, by the addition of just one outlying point."
      ]
    },
    {
      "cell_type": "code",
      "execution_count": null,
      "id": "98b5a188",
      "metadata": {
        "id": "98b5a188"
      },
      "outputs": [],
      "source": [
        "line = Table().with_columns(\n",
        "        'x', make_array(1, 2, 3, 4),\n",
        "        'y', make_array(1, 2, 3, 4)\n",
        "    )\n",
        "line.scatter('x', 'y', s=30, color='r')"
      ]
    },
    {
      "cell_type": "code",
      "execution_count": null,
      "id": "0ec79d5d",
      "metadata": {
        "id": "0ec79d5d"
      },
      "outputs": [],
      "source": [
        "correlation(line, 'x', 'y')"
      ]
    },
    {
      "cell_type": "code",
      "execution_count": null,
      "id": "d8f97234",
      "metadata": {
        "id": "d8f97234"
      },
      "outputs": [],
      "source": [
        "outlier = Table().with_columns(\n",
        "        'x', make_array(1, 2, 3, 4, 5),\n",
        "        'y', make_array(1, 2, 3, 4, 0)\n",
        "    )\n",
        "outlier.scatter('x', 'y', s=30, color='r')"
      ]
    },
    {
      "cell_type": "code",
      "execution_count": null,
      "id": "891bfac8",
      "metadata": {
        "id": "891bfac8"
      },
      "outputs": [],
      "source": [
        "correlation(outlier, 'x', 'y')"
      ]
    },
    {
      "cell_type": "markdown",
      "id": "1e62e4e8",
      "metadata": {
        "id": "1e62e4e8"
      },
      "source": [
        "### Ecological Correlations\n",
        "\n",
        "Correlations based on aggregated data can be misleading. As an example, here are data on the Critical Reading and Math SAT scores in 2014. \n",
        "\n",
        "* All 50 states and Washington, D.C. \n",
        "* Participation Rate contains the percent of high school seniors who took the test\n"
      ]
    },
    {
      "cell_type": "code",
      "execution_count": null,
      "id": "84814d4c",
      "metadata": {
        "id": "84814d4c"
      },
      "outputs": [],
      "source": [
        "sat2014 = Table.read_table('sat2014.csv').sort('Participation Rate', descending = True)\n",
        "sat2014"
      ]
    },
    {
      "cell_type": "code",
      "source": [
        "sat2014.scatter('Participation Rate', 'Combined')\n",
        "correlation(sat2014, 'Participation Rate', 'Combined')"
      ],
      "metadata": {
        "id": "j0uSDJWtL7kd"
      },
      "id": "j0uSDJWtL7kd",
      "execution_count": null,
      "outputs": []
    },
    {
      "cell_type": "code",
      "execution_count": null,
      "id": "dde95653",
      "metadata": {
        "id": "dde95653"
      },
      "outputs": [],
      "source": [
        "sat2014.scatter('Critical Reading', 'Math')"
      ]
    },
    {
      "cell_type": "code",
      "execution_count": null,
      "id": "abcd4ee0",
      "metadata": {
        "id": "abcd4ee0"
      },
      "outputs": [],
      "source": [
        "correlation(sat2014, 'Critical Reading', 'Math')"
      ]
    },
    {
      "cell_type": "markdown",
      "id": "a1049d51",
      "metadata": {
        "id": "a1049d51"
      },
      "source": [
        "The data in the table have been created by lumping all the students in each state into a single point at the average values of the two variables in that state. But not all students in the state will be at that point, as students vary in their performance. If you plot a point for each student instead of just one for each state, there will be a cloud of points around each point in the figure above. The overall picture will be more fuzzy. The correlation between the Math and Critical Reading scores of the students will be lower than the value calculated based on state averages.\n",
        "\n",
        "Correlations based on aggregates and averages are called ecological correlations and are frequently reported. As we have just seen, they must be interpreted with care."
      ]
    },
    {
      "cell_type": "markdown",
      "id": "5b155c84",
      "metadata": {
        "id": "5b155c84"
      },
      "source": [
        "In 2012, a [paper](https://www.biostat.jhsph.edu/courses/bio621/misc/Chocolate%20consumption%20cognitive%20function%20and%20nobel%20laurates%20(NEJM).pdf) in the respected New England Journal of Medicine examined the relation between chocolate consumption and Nobel Prizes in a group of countries. The following graph, provided in the paper, should motivate you to go and take a look.\n",
        "\n",
        "<img src=\"https://github.com/Mrsnellek/DS410/blob/main/Week_5/Week_5_Lec/Correlation_65_0.png?raw=1\" width=600 height=600 />"
      ]
    },
    {
      "cell_type": "markdown",
      "id": "1baca815",
      "metadata": {
        "id": "1baca815"
      },
      "source": [
        "Let's go back to the parent/child height data"
      ]
    },
    {
      "cell_type": "code",
      "execution_count": null,
      "id": "40ed0f33",
      "metadata": {
        "id": "40ed0f33"
      },
      "outputs": [],
      "source": [
        "heights_with_predictions.scatter('MidParent')"
      ]
    },
    {
      "cell_type": "markdown",
      "id": "17d4e98f",
      "metadata": {
        "id": "17d4e98f"
      },
      "source": [
        "We can convert the data into standard units and create a plot that looks exaclty like the one above"
      ]
    },
    {
      "cell_type": "code",
      "execution_count": null,
      "id": "9e6f6cf2",
      "metadata": {
        "id": "9e6f6cf2"
      },
      "outputs": [],
      "source": [
        "def standard_units(xyz):\n",
        "    \"Convert any array of numbers to standard units.\"\n",
        "    return (xyz - np.mean(xyz))/np.std(xyz)  "
      ]
    },
    {
      "cell_type": "code",
      "execution_count": null,
      "id": "7ea4e8f4",
      "metadata": {
        "id": "7ea4e8f4"
      },
      "outputs": [],
      "source": [
        "heights_SU = Table().with_columns(\n",
        "    'MidParent SU', standard_units(heights.column('MidParent')),\n",
        "    'Child SU', standard_units(heights.column('Child'))\n",
        ")\n",
        "heights_SU"
      ]
    },
    {
      "cell_type": "code",
      "execution_count": null,
      "id": "5f1d6c85",
      "metadata": {
        "id": "5f1d6c85"
      },
      "outputs": [],
      "source": [
        "sd_midparent = np.std(heights.column(0))\n",
        "sd_midparent"
      ]
    },
    {
      "cell_type": "code",
      "execution_count": null,
      "id": "aa7afb64",
      "metadata": {
        "id": "aa7afb64"
      },
      "outputs": [],
      "source": [
        "def predict_child_su(mpht_su):\n",
        "    \"\"\"Return a prediction of the height (in standard units) of a child \n",
        "    whose parents have a midparent height of mpht_su in standard units.\n",
        "    \"\"\"\n",
        "    close = 0.5/sd_midparent\n",
        "    close_points = heights_SU.where('MidParent SU', are.between(mpht_su-close, mpht_su + close))\n",
        "    return close_points.column('Child SU').mean()   "
      ]
    },
    {
      "cell_type": "code",
      "execution_count": null,
      "id": "ebe488da",
      "metadata": {
        "id": "ebe488da"
      },
      "outputs": [],
      "source": [
        "heights_with_su_predictions = heights_SU.with_column(\n",
        "    'Prediction SU', heights_SU.apply(predict_child_su, 'MidParent SU')\n",
        "    )"
      ]
    },
    {
      "cell_type": "code",
      "execution_count": null,
      "id": "2443a0b1",
      "metadata": {
        "id": "2443a0b1"
      },
      "outputs": [],
      "source": [
        "heights_with_su_predictions.scatter('MidParent SU')"
      ]
    },
    {
      "cell_type": "markdown",
      "id": "b1635e28",
      "metadata": {
        "id": "b1635e28"
      },
      "source": [
        "### The Equation of the Regression Line"
      ]
    },
    {
      "cell_type": "markdown",
      "id": "270e0107",
      "metadata": {
        "id": "270e0107"
      },
      "source": [
        "In regression, we use the value of one variable (which we will call $x$) to predict the value of another (which we will call $y$). When the variables and are measured in standard units, the regression line for predicting $y$ based on $x$ has slope $r$ and passes through the origin. Thus the equation of the regression line can be written as: $\\mbox{estimate of }y ~=~ r \\cdot x ~~~\n",
        "\\mbox{when both variables are measured in standard units} $\n",
        "\n",
        "In the original units of the data, this becomes \n",
        "\n",
        "$ \\frac{\\mbox{estimate of}~y ~-~\\mbox{average of}~y}{\\mbox{SD of}~y} ~=~ r \\times \\frac{\\mbox{the given}~x ~-~\\mbox{average of}~x}{\\mbox{SD of}~x}$\n",
        "\n",
        "<img src=\"https://github.com/Mrsnellek/DS410/blob/main/Week_5/Week_5_Lec/regline.png?raw=1\" width=600 height=600 />\n",
        "\n",
        "The slope and intercept of the regression line in original units can be derived from the diagram above.\n",
        "\n",
        "$\\mathbf{\\mbox{slope of the regression line}} ~=~ r \\cdot\n",
        "\\frac{\\mbox{SD of }y}{\\mbox{SD of }x} $\n",
        "\n",
        "$\\mathbf{\\mbox{intercept of the regression line}} ~=~\n",
        "\\mbox{average of }y ~-~ \\mbox{slope} \\cdot \\mbox{average of }x\n",
        "$\n",
        "\n",
        "The three functions below compute the correlation, slope, and intercept."
      ]
    },
    {
      "cell_type": "code",
      "execution_count": null,
      "id": "c855a9e9",
      "metadata": {
        "id": "c855a9e9"
      },
      "outputs": [],
      "source": [
        "def correlation(t, label_x, label_y):\n",
        "    return np.mean(standard_units(t.column(label_x))*standard_units(t.column(label_y)))\n",
        "\n",
        "def slope(t, label_x, label_y):\n",
        "    r = correlation(t, label_x, label_y)\n",
        "    return r*np.std(t.column(label_y))/np.std(t.column(label_x))\n",
        "\n",
        "def intercept(t, label_x, label_y):\n",
        "    return np.mean(t.column(label_y)) - slope(t, label_x, label_y)*np.mean(t.column(label_x))"
      ]
    },
    {
      "cell_type": "code",
      "execution_count": null,
      "id": "d8ea30ea",
      "metadata": {
        "id": "d8ea30ea"
      },
      "outputs": [],
      "source": [
        "family_r = correlation(heights, 'MidParent', 'Child')\n",
        "family_r"
      ]
    },
    {
      "cell_type": "code",
      "execution_count": null,
      "id": "65180486",
      "metadata": {
        "id": "65180486"
      },
      "outputs": [],
      "source": [
        "family_slope = slope(heights, 'MidParent', 'Child')\n",
        "family_intercept = intercept(heights, 'MidParent', 'Child')\n",
        "family_slope, family_intercept"
      ]
    },
    {
      "cell_type": "markdown",
      "id": "5cf93129",
      "metadata": {
        "id": "5cf93129"
      },
      "source": [
        "The equation of the regression line is\n",
        "\n",
        "$  \\mbox{estimate of child's height} ~=~ 0.64 \\cdot \\mbox{midparent height} ~+~ 22.64 $\n",
        "\n",
        "This is also known as the regression equation. The principal use of the regression equation is to predict $y$ based on $x$.\n",
        "\n",
        "For example, for a midparent height of 70.48 inches, the regression equation predicts the child’s height to be 67.56 inches."
      ]
    },
    {
      "cell_type": "code",
      "execution_count": null,
      "id": "28a7eb28",
      "metadata": {
        "id": "28a7eb28"
      },
      "outputs": [],
      "source": [
        "family_slope * 70.48 + family_intercept"
      ]
    },
    {
      "cell_type": "markdown",
      "id": "91d7f490",
      "metadata": {
        "id": "91d7f490"
      },
      "source": [
        "Our original prediction, created by taking the average height of all children who had midparent heights close to 70.48, came out to be pretty close: 67.63 inches compared to the regression line’s prediction of 67.55 inches."
      ]
    },
    {
      "cell_type": "code",
      "execution_count": null,
      "id": "f2c67aaa",
      "metadata": {
        "id": "f2c67aaa"
      },
      "outputs": [],
      "source": [
        "heights_with_predictions.where('MidParent', are.equal_to(70.48))"
      ]
    },
    {
      "cell_type": "code",
      "execution_count": null,
      "id": "84ae5240",
      "metadata": {
        "id": "84ae5240"
      },
      "outputs": [],
      "source": [
        "heights_with_predictions = heights_with_predictions.with_column(\n",
        "    'Regression Prediction', family_slope * heights.column('MidParent') + family_intercept\n",
        ")\n",
        "heights_with_predictions"
      ]
    },
    {
      "cell_type": "code",
      "execution_count": null,
      "id": "b3a5bc8c",
      "metadata": {
        "id": "b3a5bc8c"
      },
      "outputs": [],
      "source": [
        "heights_with_predictions.scatter('MidParent')"
      ]
    },
    {
      "cell_type": "markdown",
      "id": "cd8fc61f",
      "metadata": {
        "id": "cd8fc61f"
      },
      "source": [
        "The blue dots show the regression predictions"
      ]
    },
    {
      "cell_type": "markdown",
      "id": "e3e748d8",
      "metadata": {
        "id": "e3e748d8"
      },
      "source": [
        "The predictions all lie on the line and are known as the “fitted values”. The function ***fit*** takes the name of the table and the labels of $x$ and $y$, and returns an array of fitted values."
      ]
    },
    {
      "cell_type": "code",
      "execution_count": null,
      "id": "1a88b236",
      "metadata": {
        "id": "1a88b236"
      },
      "outputs": [],
      "source": [
        "def fit(table, x, y):\n",
        "    \"\"\"Return the height of the regression line at each x value.\"\"\"\n",
        "    a = slope(table, x, y)\n",
        "    b = intercept(table, x, y)\n",
        "    return a * table.column(x) + b"
      ]
    },
    {
      "cell_type": "code",
      "execution_count": null,
      "id": "8fd4a832",
      "metadata": {
        "id": "8fd4a832"
      },
      "outputs": [],
      "source": [
        "heights.with_column('Fitted', fit(heights, 'MidParent', 'Child')).scatter('MidParent')"
      ]
    },
    {
      "cell_type": "markdown",
      "id": "e4c60300",
      "metadata": {
        "id": "e4c60300"
      },
      "source": [
        "Another way to draw the line is to use the option ***fit_line=True*** with the Table method ***scatter***."
      ]
    },
    {
      "cell_type": "code",
      "execution_count": null,
      "id": "d9d27e9d",
      "metadata": {
        "id": "d9d27e9d"
      },
      "outputs": [],
      "source": [
        "heights.scatter('MidParent', fit_line=True)"
      ]
    },
    {
      "cell_type": "markdown",
      "id": "1859f337",
      "metadata": {
        "id": "1859f337"
      },
      "source": [
        "The slope is a ratio, and it worth taking a moment to study the units in which it is measured."
      ]
    },
    {
      "cell_type": "code",
      "execution_count": null,
      "id": "d841f1f6",
      "metadata": {
        "id": "d841f1f6"
      },
      "outputs": [],
      "source": [
        "slope(heights, 'MidParent', 'Child')"
      ]
    },
    {
      "cell_type": "markdown",
      "id": "554e8346",
      "metadata": {
        "id": "554e8346"
      },
      "source": [
        "The slope of the regression line is about 0.64 child inches per midparent height in inches. This means that for parents whos mid-heights are 1 inch apart our prediction of child height will differ by about 0.64 inches."
      ]
    },
    {
      "cell_type": "markdown",
      "id": "c108cfcf",
      "metadata": {
        "id": "c108cfcf"
      },
      "source": [
        "### The Method of Least Squares\n",
        "\n",
        "We will use the text “Little Women” to estimate the number of characters (that is, letters, spaces punctuation marks, and so on) based on the number of periods."
      ]
    },
    {
      "cell_type": "code",
      "execution_count": null,
      "id": "a606f4e3",
      "metadata": {
        "id": "a606f4e3"
      },
      "outputs": [],
      "source": [
        "little_women = Table.read_table('little_women.csv')\n",
        "little_women = little_women.move_to_start('Periods')\n",
        "little_women.show(3)"
      ]
    },
    {
      "cell_type": "code",
      "execution_count": null,
      "id": "71ff2763",
      "metadata": {
        "id": "71ff2763"
      },
      "outputs": [],
      "source": [
        "little_women.scatter('Periods', 'Characters')"
      ]
    },
    {
      "cell_type": "code",
      "execution_count": null,
      "id": "b146ec3a",
      "metadata": {
        "id": "b146ec3a"
      },
      "outputs": [],
      "source": [
        "correlation(little_women, 'Periods', 'Characters')"
      ]
    },
    {
      "cell_type": "markdown",
      "id": "70b98761",
      "metadata": {
        "id": "70b98761"
      },
      "source": [
        "The scatter plot is remarkably close to linear, and the correlation is more than 0.92."
      ]
    },
    {
      "cell_type": "code",
      "execution_count": null,
      "id": "9b9cdf79",
      "metadata": {
        "id": "9b9cdf79"
      },
      "outputs": [],
      "source": [
        "lw_with_predictions = little_women.with_column('Linear Prediction', fit(little_women, 'Periods', 'Characters'))\n",
        "lw_with_predictions.scatter('Periods')"
      ]
    },
    {
      "cell_type": "markdown",
      "id": "f26a6ff1",
      "metadata": {
        "id": "f26a6ff1"
      },
      "source": [
        "Corresponding to each point on the scatter plot, there is an error of prediction calculated as the actual value minus the predicted value. It is the vertical distance between the point and the line, with a negative sign if the point is below the line."
      ]
    },
    {
      "cell_type": "code",
      "execution_count": null,
      "id": "3ed30623",
      "metadata": {
        "id": "3ed30623"
      },
      "outputs": [],
      "source": [
        "actual = lw_with_predictions.column('Characters')\n",
        "predicted = lw_with_predictions.column('Linear Prediction')\n",
        "errors = actual - predicted"
      ]
    },
    {
      "cell_type": "code",
      "execution_count": null,
      "id": "8ff96b54",
      "metadata": {
        "id": "8ff96b54"
      },
      "outputs": [],
      "source": [
        "lw_with_predictions.with_column('Error', errors)"
      ]
    },
    {
      "cell_type": "markdown",
      "id": "25766a32",
      "metadata": {
        "id": "25766a32"
      },
      "source": [
        "We can use slope and intercept to calculate the slope and intercept of the fitted line. The graphs below shows the line of fit for a few possible regression lines. The errors corresponding to four of the points are shown in red. There is nothing special about those four points. They were just chosen for clarity of the display. "
      ]
    },
    {
      "cell_type": "code",
      "execution_count": null,
      "id": "f844c45a",
      "metadata": {
        "id": "f844c45a"
      },
      "outputs": [],
      "source": [
        "lw_reg_slope = slope(little_women, 'Periods', 'Characters')\n",
        "lw_reg_intercept = intercept(little_women, 'Periods', 'Characters')\n",
        "print(\"slope:\", lw_reg_slope,  \"intercept:\", lw_reg_intercept)"
      ]
    },
    {
      "cell_type": "markdown",
      "id": "2c95cb21",
      "metadata": {
        "id": "2c95cb21"
      },
      "source": [
        "<img src=\"https://github.com/Mrsnellek/DS410/blob/main/Week_5/Week_5_Lec/Method_of_Least_Squares_17_1.png?raw=1\" width=400 height=400 />"
      ]
    },
    {
      "cell_type": "markdown",
      "id": "3e4b624c",
      "metadata": {
        "id": "3e4b624c"
      },
      "source": [
        "<img src=\"https://github.com/Mrsnellek/DS410/blob/main/Week_5/Week_5_Lec/Method_of_Least_Squares_19_0.png?raw=1\" width=400 height=400 />"
      ]
    },
    {
      "cell_type": "markdown",
      "id": "dcd6c413",
      "metadata": {
        "id": "dcd6c413"
      },
      "source": [
        "<img src=\"https://github.com/Mrsnellek/DS410/blob/main/Week_5/Week_5_Lec/Method_of_Least_Squares_20_0.png?raw=1\" width=400 height=400 />"
      ]
    },
    {
      "cell_type": "markdown",
      "id": "1aab7282",
      "metadata": {
        "id": "1aab7282"
      },
      "source": [
        "If you use any arbitrary line to calculate your estimates, then some of your errors are likely to be positive and others negative. To avoid cancellation when measuring the rough size of the errors, we will take the mean of the squared errors rather than the mean of the errors themselves.\n",
        "\n",
        "The mean squared error of estimation is a measure of roughly how big the squared errors are, but as we have noted earlier, its units are hard to interpret. Taking the square root yields the root mean square error (rmse), which is in the same units as the variable being predicted and therefore much easier to understand."
      ]
    },
    {
      "cell_type": "markdown",
      "id": "43f0e4b2",
      "metadata": {
        "id": "43f0e4b2"
      },
      "source": [
        "* To get estimates of $y$ based on $x$, you can use any line you want.\n",
        "\n",
        "* Every line has a root mean squared error of estimation.\n",
        "\n",
        "* “Better” lines have smaller errors.\n",
        "\n",
        "If we use the line\n",
        "\n",
        "$\\mbox{prediction} ~=~ ax + b$\n",
        "\n",
        "it will have an mse that depends on the slope and the intercept . The function lw_mse takes the slope and intercept as its arguments and returns the corresponding mse.\n"
      ]
    },
    {
      "cell_type": "code",
      "execution_count": null,
      "id": "f47428a8",
      "metadata": {
        "id": "f47428a8"
      },
      "outputs": [],
      "source": [
        "def lw_rmse(any_slope, any_intercept):\n",
        "    x = little_women.column('Periods')\n",
        "    y = little_women.column('Characters')\n",
        "    fitted = any_slope*x + any_intercept\n",
        "    return np.mean((y - fitted) ** 2)**0.5"
      ]
    },
    {
      "cell_type": "markdown",
      "id": "991f665b",
      "metadata": {
        "id": "991f665b"
      },
      "source": [
        "Let’s check that lw_mse gets the right answer for the root mean squared error of the regression line. "
      ]
    },
    {
      "cell_type": "code",
      "execution_count": null,
      "id": "2866ac80",
      "metadata": {
        "id": "2866ac80"
      },
      "outputs": [],
      "source": [
        "print(\"slope:\", lw_reg_slope,  \"intercept:\", lw_reg_intercept)"
      ]
    },
    {
      "cell_type": "code",
      "execution_count": null,
      "id": "2e12335e",
      "metadata": {
        "id": "2e12335e"
      },
      "outputs": [],
      "source": [
        "lw_rmse(lw_reg_slope, lw_reg_intercept)"
      ]
    },
    {
      "cell_type": "code",
      "execution_count": null,
      "id": "8117c44f",
      "metadata": {
        "id": "8117c44f"
      },
      "outputs": [],
      "source": [
        "lw_rmse(-100, 50000)"
      ]
    },
    {
      "cell_type": "code",
      "execution_count": null,
      "id": "ebc526fb",
      "metadata": {
        "id": "ebc526fb"
      },
      "outputs": [],
      "source": [
        "lw_rmse(90, 4000)"
      ]
    },
    {
      "cell_type": "markdown",
      "id": "652ae71f",
      "metadata": {
        "id": "652ae71f"
      },
      "source": [
        "**The regression line is the unique straight line that minimizes the mean squared error of estimation among all straight lines.**"
      ]
    },
    {
      "cell_type": "markdown",
      "id": "c53f7984",
      "metadata": {
        "id": "c53f7984"
      },
      "source": [
        "If we experiment with different values, we can find a low-error slope and intercept through trial and error, but that would take a while. Fortunately, there is a Python function that does all the trial and error for us."
      ]
    },
    {
      "cell_type": "markdown",
      "id": "135d8624",
      "metadata": {
        "id": "135d8624"
      },
      "source": [
        "The ***minimize*** function can be used to find the arguments of a function for which the function returns its minimum value. Python uses a similar trial-and-error approach, following the changes that lead to incrementally lower output values. \n",
        "\n",
        "The argument of minimize is a function that itself takes numerical arguments and returns a numerical value. For example, the function lw_mse takes a numerical slope and intercept as its arguments and returns the corresponding mse."
      ]
    },
    {
      "cell_type": "code",
      "execution_count": null,
      "id": "b2f0a72e",
      "metadata": {
        "id": "b2f0a72e"
      },
      "outputs": [],
      "source": [
        "best = minimize(lw_rmse)\n",
        "best"
      ]
    },
    {
      "cell_type": "code",
      "execution_count": null,
      "id": "ef1052b3",
      "metadata": {
        "id": "ef1052b3"
      },
      "outputs": [],
      "source": [
        "print(\"slope from formula:        \", lw_reg_slope)\n",
        "print(\"slope from minimize:       \", best.item(0))\n",
        "print(\"intercept from formula:    \", lw_reg_intercept)\n",
        "print(\"intercept from minimize:   \", best.item(1))"
      ]
    },
    {
      "cell_type": "markdown",
      "id": "d5724420",
      "metadata": {
        "id": "d5724420"
      },
      "source": [
        "We have found not only that the regression line minimizes root mean squared error, but also that minimizing mean squared error gives us the regression line. The regression line is the only line that minimizes mean squared error.\n",
        "\n",
        "That is why the regression line is sometimes called the “least squares line.”"
      ]
    },
    {
      "cell_type": "markdown",
      "id": "7f5711ad",
      "metadata": {
        "id": "7f5711ad"
      },
      "source": [
        "### Nonlinear Regression\n",
        "\n",
        "Sometimes data may be curved and it is better to fit a curve than a straight line. The [study](https://digitalcommons.wku.edu/ijes/vol6/iss2/10/) postulated a quadratic relation between the weight lifted and the shot put distance. So let’s use quadratic functions as our predictors and see if we can find the best one.\n",
        "\n",
        "We have to find the best quadratic function among all quadratic functions, instead of the best straight line among all straight lines. The method of least squares allows us to do this.\n",
        "\n",
        "The mathematics of this minimization is complicated and not easy to see just by examining the scatter plot. But numerical minimization is just as easy as it was with linear predictors! We can get the best quadratic predictor by once again using minimize. Let’s see how this works.\n",
        "\n",
        "Recall that a quadratic function has the form\n",
        "\n",
        "$f(x) ~=~ ax^2 + bx + c$\n",
        "\n",
        "\n",
        "for constants $a$, $b$, and $c$.\n",
        "\n",
        "To find the best quadratic function to predict distance based on weight lifted, using the criterion of least squares, we will first write a function that takes the three constants as its arguments, calculates the fitted values by using the quadratic function above, and then returns the mean squared error.\n",
        "\n",
        "The function is called shotput_quadratic_mse. Notice that the definition is analogous to that of lw_mse, except that the fitted values are based on a quadratic function instead of linear."
      ]
    },
    {
      "cell_type": "code",
      "execution_count": null,
      "id": "030e3682",
      "metadata": {
        "id": "030e3682"
      },
      "outputs": [],
      "source": [
        "shotput = Table.read_table('shotput.csv')\n",
        "shotput.show(3)"
      ]
    },
    {
      "cell_type": "code",
      "execution_count": null,
      "id": "18d7d018",
      "metadata": {
        "id": "18d7d018"
      },
      "outputs": [],
      "source": [
        "def shotput_quadratic_mse(a, b, c):\n",
        "    x = shotput.column('Weight Lifted')\n",
        "    y = shotput.column('Shot Put Distance')\n",
        "    fitted = a*(x**2) + b*x + c\n",
        "    return np.mean((y - fitted) ** 2)**0.5"
      ]
    },
    {
      "cell_type": "code",
      "execution_count": null,
      "id": "e179466f",
      "metadata": {
        "id": "e179466f"
      },
      "outputs": [],
      "source": [
        "best = minimize(shotput_quadratic_mse)\n",
        "best"
      ]
    },
    {
      "cell_type": "markdown",
      "id": "48068009",
      "metadata": {
        "id": "48068009"
      },
      "source": [
        "Our prediction of the shot put distance for an athlete who lifts $x$ kilograms is about\n",
        "\n",
        "$-0.00104x^2 ~+~ 0.2827x - 1.5318$\n",
        "\n",
        "meters. For example, if the athlete can lift 100 kilograms, the predicted distance is 16.33 meters. On the scatter plot, that’s near the center of a vertical strip around 100 kilograms."
      ]
    },
    {
      "cell_type": "code",
      "execution_count": null,
      "id": "2a5d20c4",
      "metadata": {
        "id": "2a5d20c4"
      },
      "outputs": [],
      "source": [
        "(-0.00104)*(100**2) + 0.2827*100 - 1.5318"
      ]
    },
    {
      "cell_type": "code",
      "execution_count": null,
      "id": "c05a1cf3",
      "metadata": {
        "id": "c05a1cf3"
      },
      "outputs": [],
      "source": [
        "x = shotput.column(0)\n",
        "shotput_fit = best.item(0)*(x**2) + best.item(1)*x + best.item(2)"
      ]
    },
    {
      "cell_type": "code",
      "execution_count": null,
      "id": "c642599b",
      "metadata": {
        "id": "c642599b"
      },
      "outputs": [],
      "source": [
        "shotput.with_column('Best Quadratic Curve', shotput_fit).scatter(0)"
      ]
    },
    {
      "cell_type": "markdown",
      "id": "d7b85f79",
      "metadata": {
        "id": "d7b85f79"
      },
      "source": [
        "### Visual Diagnostics"
      ]
    },
    {
      "cell_type": "markdown",
      "id": "e5c4bd32",
      "metadata": {
        "id": "e5c4bd32"
      },
      "source": [
        "Suppose a data scientist has decided to use linear regression to estimate values of one variable (called the response variable) based on another variable (called the predictor). To see how well this method of estimation performs, the data scientist must measure how far off the estimates are from the actual values. These differences are called residuals.\n",
        "\n",
        "$\\mbox{residual} ~=~ \\mbox{observed value} ~-~ \\mbox{regression estimate}$\n",
        "\n",
        "\n",
        "Residuals are the vertical distances of the points from the regression line. There is one residual for each point in the scatter plot. \n",
        "\n",
        "$\\mbox{residual} ~~ = ~~ y ~-~\n",
        "\\mbox{fitted value of }y\n",
        "~~ = ~~ y ~-~\n",
        "\\mbox{height of regression line at }x$\n",
        "\n",
        "The function residual calculates the residuals. The calculation assumes all the relevant functions we have already defined: standard_units, correlation, slope, intercept, and fit."
      ]
    },
    {
      "cell_type": "code",
      "execution_count": null,
      "id": "b247e1fe",
      "metadata": {
        "id": "b247e1fe"
      },
      "outputs": [],
      "source": [
        "def residual(table, x, y):\n",
        "    return table.column(y) - fit(table, x, y)"
      ]
    },
    {
      "cell_type": "code",
      "execution_count": null,
      "id": "dca2bdd0",
      "metadata": {
        "id": "dca2bdd0"
      },
      "outputs": [],
      "source": [
        "heights = heights.with_columns(\n",
        "        'Fitted Value', fit(heights, 'MidParent', 'Child'),\n",
        "        'Residual', residual(heights, 'MidParent', 'Child')\n",
        "    )\n",
        "heights"
      ]
    },
    {
      "cell_type": "markdown",
      "id": "34611091",
      "metadata": {
        "id": "34611091"
      },
      "source": [
        "It is better to plot the data."
      ]
    },
    {
      "cell_type": "code",
      "execution_count": null,
      "id": "6cfbadcc",
      "metadata": {
        "id": "6cfbadcc"
      },
      "outputs": [],
      "source": [
        "def scatter_fit(table, x, y):\n",
        "    table.scatter(x, y, s=15)\n",
        "    plots.plot(table.column(x), fit(table, x, y), lw=4, color='gold')\n",
        "    plots.xlabel(x)\n",
        "    plots.ylabel(y)"
      ]
    },
    {
      "cell_type": "code",
      "execution_count": null,
      "id": "50ada982",
      "metadata": {
        "id": "50ada982"
      },
      "outputs": [],
      "source": [
        "scatter_fit(heights, 'MidParent', 'Child')"
      ]
    },
    {
      "cell_type": "code",
      "execution_count": null,
      "id": "9dd3443c",
      "metadata": {
        "id": "9dd3443c"
      },
      "outputs": [],
      "source": [
        "def residual_plot(table, x, y):\n",
        "    x_array = table.column(x)\n",
        "    t = Table().with_columns(\n",
        "            x, x_array,\n",
        "            'residuals', residual(table, x, y)\n",
        "        )\n",
        "    t.scatter(x, 'residuals', color='r')\n",
        "    xlims = make_array(min(x_array), max(x_array))\n",
        "    plots.plot(xlims, make_array(0, 0), color='darkblue', lw=4)\n",
        "    plots.title('Residual Plot')"
      ]
    },
    {
      "cell_type": "code",
      "execution_count": null,
      "id": "31b23140",
      "metadata": {
        "id": "31b23140"
      },
      "outputs": [],
      "source": [
        "residual_plot(heights, 'MidParent', 'Child')"
      ]
    },
    {
      "cell_type": "markdown",
      "id": "a77b5f87",
      "metadata": {
        "id": "a77b5f87"
      },
      "source": [
        "The midparent heights are on the horizontal axis, as in the original scatter plot. But now the vertical axis shows the residuals. Notice that the plot appears to be centered around the horizontal line at the level 0 (shown in dark blue). Notice also that the plot shows no upward or downward trend. We will observe later that this lack of trend is true of all regressions."
      ]
    },
    {
      "cell_type": "markdown",
      "id": "fe3b5d41",
      "metadata": {
        "id": "fe3b5d41"
      },
      "source": [
        "**The residual plot of a good regression shows no pattern. The residuals look about the same, above and below the horizontal line at 0, across the range of the predictor variable.**"
      ]
    },
    {
      "cell_type": "markdown",
      "id": "2ab970f6",
      "metadata": {
        "id": "2ab970f6"
      },
      "source": [
        "The function regression_diagnostic_plots draws the original scatter plot as well as the residual plot for ease of comparison."
      ]
    },
    {
      "cell_type": "code",
      "execution_count": null,
      "id": "97a372b8",
      "metadata": {
        "id": "97a372b8"
      },
      "outputs": [],
      "source": [
        "def regression_diagnostic_plots(table, x, y):\n",
        "    scatter_fit(table, x, y)\n",
        "    residual_plot(table, x, y)"
      ]
    },
    {
      "cell_type": "code",
      "execution_count": null,
      "id": "013d60c3",
      "metadata": {
        "id": "013d60c3"
      },
      "outputs": [],
      "source": [
        "regression_diagnostic_plots(heights, 'MidParent', 'Child')"
      ]
    },
    {
      "cell_type": "code",
      "execution_count": null,
      "id": "dcd839af",
      "metadata": {
        "id": "dcd839af"
      },
      "outputs": [],
      "source": [
        "regression_diagnostic_plots(shotput, 'Weight Lifted', 'Shot Put Distance')"
      ]
    },
    {
      "cell_type": "markdown",
      "id": "9c76dd58",
      "metadata": {
        "id": "9c76dd58"
      },
      "source": [
        "When a residual plot shows a pattern or heteroscedasticity (uneven spread), there may be a non-linear relation between the variables."
      ]
    }
  ],
  "metadata": {
    "kernelspec": {
      "display_name": "Python 3 (ipykernel)",
      "language": "python",
      "name": "python3"
    },
    "language_info": {
      "codemirror_mode": {
        "name": "ipython",
        "version": 3
      },
      "file_extension": ".py",
      "mimetype": "text/x-python",
      "name": "python",
      "nbconvert_exporter": "python",
      "pygments_lexer": "ipython3",
      "version": "3.7.1"
    },
    "colab": {
      "provenance": []
    }
  },
  "nbformat": 4,
  "nbformat_minor": 5
}