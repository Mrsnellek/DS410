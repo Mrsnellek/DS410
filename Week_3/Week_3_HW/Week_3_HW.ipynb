{
  "cells": [
    {
      "cell_type": "markdown",
      "metadata": {
        "id": "GCpLfBXSroW6"
      },
      "source": [
        "The contents of this course including lectures, labs, homework assignments, and exams have all been adapted from the [Data 8 course at University California Berkley](https://data.berkeley.edu/education/courses/data-8). Through their generosity and passion for undergraduate education, the Data 8 community at Berkley has opened their content and expertise for other universities to adapt in the name of undergraduate education."
      ]
    },
    {
      "cell_type": "code",
      "execution_count": null,
      "metadata": {
        "deletable": false,
        "id": "OiGqP0RSroW9"
      },
      "outputs": [],
      "source": [
        "!pip install otter-grader==3.3.0 -q\n",
        "!pip install datascience -q"
      ]
    },
    {
      "cell_type": "code",
      "source": [
        "!git clone https://github.com/Mrsnellek/DS410.git"
      ],
      "metadata": {
        "id": "l01hk2PCvXR7"
      },
      "execution_count": null,
      "outputs": []
    },
    {
      "cell_type": "code",
      "source": [
        "cd DS410/Week_3/Week_3_HW/"
      ],
      "metadata": {
        "id": "mRt8i3KuvZwy"
      },
      "execution_count": null,
      "outputs": []
    },
    {
      "cell_type": "code",
      "source": [
        "import otter\n",
        "grader = otter.Notebook()"
      ],
      "metadata": {
        "id": "ztaJnxDave5w"
      },
      "execution_count": null,
      "outputs": []
    },
    {
      "cell_type": "markdown",
      "metadata": {
        "id": "ZumqhVgyroXA"
      },
      "source": [
        "# Week 3 HW: Confidence Intervals"
      ]
    },
    {
      "cell_type": "markdown",
      "metadata": {
        "id": "Dau5gFxiroXC"
      },
      "source": [
        "**Reading**: \n",
        "* [Estimation](https://www.inferentialthinking.com/chapters/13/Estimation.html)"
      ]
    },
    {
      "cell_type": "code",
      "execution_count": null,
      "metadata": {
        "id": "pkZ6J7KoroXF"
      },
      "outputs": [],
      "source": [
        "# Don't change this cell; just run it. \n",
        "\n",
        "import numpy as np\n",
        "from datascience import *\n",
        "\n",
        "# These lines do some fancy plotting magic.\n",
        "import matplotlib\n",
        "%matplotlib inline\n",
        "import matplotlib.pyplot as plt\n",
        "plt.style.use('fivethirtyeight')\n",
        "import warnings\n",
        "warnings.simplefilter('ignore', FutureWarning)"
      ]
    },
    {
      "cell_type": "markdown",
      "metadata": {
        "id": "CQsb2YNVroXG"
      },
      "source": [
        "## 1. Thai Restaurants\n"
      ]
    },
    {
      "cell_type": "markdown",
      "metadata": {
        "id": "4IbaU1GcroXI"
      },
      "source": [
        "Ben and Frank are trying see what the best Thai restaurant in Berkeley is. They survey 1500 UC Berkeley students selected uniformly at random, and ask each student what Thai restaurant is the best (*Note: this data is fabricated for the purposes of this homework*). The choices of Thai restaurant are Lucky House, Imm Thai, Thai Temple, and Thai Basil. After compiling the results, Ben and Frank release the following percentages from their sample:\n",
        "\n",
        "|Thai Restaurant  | Percentage|\n",
        "|:------------:|:------------:|\n",
        "|Lucky House | 8% |\n",
        "|Imm Thai | 52% |\n",
        "|Thai Temple | 25% |\n",
        "|Thai Basil | 15% |\n",
        "\n",
        "These percentages represent a uniform random sample of the population of UC Berkeley students. We will attempt to estimate the corresponding *parameters*, or the percentage of the votes that each restaurant will receive from the entire population (the entire population is all UC Berkeley students). We will use confidence intervals to compute a range of values that reflects the uncertainty of our estimates.\n",
        "\n",
        "The table `votes` contains the results of the survey."
      ]
    },
    {
      "cell_type": "code",
      "execution_count": null,
      "metadata": {
        "deletable": false,
        "editable": false,
        "id": "HYXydDD8roXK"
      },
      "outputs": [],
      "source": [
        "# Just run this cell\n",
        "votes = Table.read_table('votes.csv')\n",
        "votes"
      ]
    },
    {
      "cell_type": "markdown",
      "metadata": {
        "deletable": false,
        "editable": false,
        "id": "w45DjHnmroXM"
      },
      "source": [
        "**Question 1.** Complete the function `one_resampled_percentage` below. It should return Imm Thai's **percentage** of votes after simulating one bootstrap sample of `tbl`.\n",
        "\n",
        "**Note:** `tbl` will always be in the same format as `votes`.\n",
        "\n",
        "<!--\n",
        "BEGIN QUESTION\n",
        "name: q1_1\n",
        "manual: false\n",
        "-->"
      ]
    },
    {
      "cell_type": "code",
      "execution_count": null,
      "metadata": {
        "id": "fKZ2NTb1roXN"
      },
      "outputs": [],
      "source": [
        "def one_resampled_percentage(tbl):\n",
        "    ...\n",
        "\n",
        "one_resampled_percentage(votes)"
      ]
    },
    {
      "cell_type": "code",
      "execution_count": null,
      "metadata": {
        "deletable": false,
        "editable": false,
        "id": "YZTiETufroXP"
      },
      "outputs": [],
      "source": [
        "grader.check(\"q1_1\")"
      ]
    },
    {
      "cell_type": "markdown",
      "metadata": {
        "deletable": false,
        "editable": false,
        "id": "fKv6Cfh0roXQ"
      },
      "source": [
        "**Question 2.** Complete the `percentages_in_resamples` function such that it returns an array of 2500 bootstrapped estimates of the percentage of voters who will vote for Imm Thai. You should use the `one_resampled_percentage` function you wrote above.\n",
        "\n",
        "*Note:* There are no public tests for this question, the autograder cell below will return 0.0% passed. \n",
        "\n",
        "<!--\n",
        "BEGIN QUESTION\n",
        "name: q1_2\n",
        "manual: false\n",
        "-->"
      ]
    },
    {
      "cell_type": "code",
      "execution_count": null,
      "metadata": {
        "for_assignment_type": "solution",
        "id": "Bye6DdPCroXQ"
      },
      "outputs": [],
      "source": [
        "def percentages_in_resamples():\n",
        "    percentage_imm = make_array()\n",
        "    ..."
      ]
    },
    {
      "cell_type": "code",
      "execution_count": null,
      "metadata": {
        "deletable": false,
        "editable": false,
        "id": "tQzkJ4GTroXS"
      },
      "outputs": [],
      "source": [
        "grader.check(\"q1_2\")"
      ]
    },
    {
      "cell_type": "markdown",
      "metadata": {
        "id": "wouEQFJzroXS"
      },
      "source": [
        "In the following cell, we run the function you just defined, `percentages_in_resamples`, and create a histogram of the calculated statistic for the 2,500 bootstrap estimates of the percentage of voters who voted for Imm Thai. Based on what the original Thai restaurant percentages were, does the graph seem reasonable?"
      ]
    },
    {
      "cell_type": "code",
      "execution_count": null,
      "metadata": {
        "id": "WKOL67ysroXT"
      },
      "outputs": [],
      "source": [
        "resampled_percentages = percentages_in_resamples()\n",
        "Table().with_column('Estimated Percentage', resampled_percentages).hist(\"Estimated Percentage\")"
      ]
    },
    {
      "cell_type": "markdown",
      "metadata": {
        "deletable": false,
        "editable": false,
        "id": "n3kwCiViroXT"
      },
      "source": [
        "**Question 3.** Using the array `resampled_percentages`, find the values at the two edges of the middle 95% of the bootstrapped percentage estimates. (Compute the lower and upper ends of the interval, named `imm_lower_bound` and `imm_upper_bound`, respectively.)\n",
        "\n",
        "<!--\n",
        "BEGIN QUESTION\n",
        "name: q1_3\n",
        "manual: false\n",
        "-->"
      ]
    },
    {
      "cell_type": "code",
      "execution_count": null,
      "metadata": {
        "id": "qF5oGKuyroXU"
      },
      "outputs": [],
      "source": [
        "imm_lower_bound = ...\n",
        "imm_upper_bound = ...\n",
        "print(\"Bootstrapped 95% confidence interval for the percentage of Imm Thai voters in the population: [{:f}, {:f}]\".format(imm_lower_bound, imm_upper_bound))"
      ]
    },
    {
      "cell_type": "code",
      "execution_count": null,
      "metadata": {
        "deletable": false,
        "editable": false,
        "id": "KrM1xu-VroXU"
      },
      "outputs": [],
      "source": [
        "grader.check(\"q1_3\")"
      ]
    },
    {
      "cell_type": "markdown",
      "metadata": {
        "deletable": false,
        "editable": false,
        "id": "mFdaRxJDroXV"
      },
      "source": [
        "**Question 4.** The survey results seem to indicate that Imm Thai is beating all the other Thai restaurants combined among voters. We would like to use confidence intervals to determine a range of likely values for Imm Thai's true lead over all the other restaurants combined. The calculation for Imm Thai's lead over Lucky House, Thai Temple, and Thai Basil combined is:\n",
        "\n",
        "$$\\text{Imm Thai's % of the vote} - \\text{(Lucky House's % of the vote + Thai Temple's % of the vote + Thai Basil's % of the vote)}$$\n",
        "\n",
        "Define the function `one_resampled_difference` that returns **exactly one value** of Imm Thai's percentage lead over Lucky House, Thai Temple, and Thai Basil combined from one bootstrap sample of `tbl`.\n",
        "\n",
        "<!--\n",
        "BEGIN QUESTION\n",
        "name: q1_4\n",
        "manual: false\n",
        "-->"
      ]
    },
    {
      "cell_type": "code",
      "execution_count": null,
      "metadata": {
        "id": "wagYi7j_roXW"
      },
      "outputs": [],
      "source": [
        "def one_resampled_difference(tbl):\n",
        "    bootstrap = ...\n",
        "    imm_percentage = ...\n",
        "    lh_percentage = ...\n",
        "    tt_percentage = ...\n",
        "    tb_percentage = ...\n",
        "    ..."
      ]
    },
    {
      "cell_type": "code",
      "execution_count": null,
      "metadata": {
        "deletable": false,
        "editable": false,
        "id": "kNIdwgmDroXW"
      },
      "outputs": [],
      "source": [
        "grader.check(\"q1_4\")"
      ]
    },
    {
      "cell_type": "markdown",
      "metadata": {
        "deletable": false,
        "editable": false,
        "id": "-kCt_TXqroXW"
      },
      "source": [
        "**Question 5.**\n",
        "Write a function called `leads_in_resamples` that finds 2,500 bootstrapped estimates (the result of calling `one_resampled_difference`) of Imm Thai's lead over Lucky House, Thai Temple, and Thai Basil combined. Plot a histogram of the resulting samples. \n",
        "\n",
        "**Note:** Imm Thai's lead can be negative.\n",
        "\n",
        "<!--\n",
        "BEGIN QUESTION\n",
        "name: q1_5\n",
        "manual: true\n",
        "-->\n",
        "<!-- EXPORT TO PDF -->"
      ]
    },
    {
      "cell_type": "code",
      "execution_count": null,
      "metadata": {
        "export_pdf": true,
        "for_assignment_type": "solution",
        "id": "vi1I1Kj-roXY"
      },
      "outputs": [],
      "source": [
        "def leads_in_resamples():\n",
        "    ...\n",
        "\n",
        "sampled_leads = leads_in_resamples()\n",
        "Table().with_column('Estimated Lead', sampled_leads).hist(\"Estimated Lead\")"
      ]
    },
    {
      "cell_type": "markdown",
      "metadata": {
        "collapsed": true,
        "deletable": false,
        "editable": false,
        "for_assignment_type": "solution",
        "id": "KPwXDQ_troXY"
      },
      "source": [
        "**Question 6.** Use the simulated data from Question 5 to compute an approximate 95% confidence interval for Imm Thai's true lead over Lucky House, Thai Temple, and Thai Basil combined.\n",
        "\n",
        "<!--\n",
        "BEGIN QUESTION\n",
        "name: q1_6\n",
        "manual: false\n",
        "-->"
      ]
    },
    {
      "cell_type": "code",
      "execution_count": null,
      "metadata": {
        "id": "-FNsqlz-roXZ"
      },
      "outputs": [],
      "source": [
        "diff_lower_bound = ...\n",
        "diff_upper_bound = ...\n",
        "print(\"Bootstrapped 95% confidence interval for Imm Thai's true lead over Lucky House, Thai Temple, and Thai Basil combined: [{:f}, {:f}]\".format(diff_lower_bound, diff_upper_bound))"
      ]
    },
    {
      "cell_type": "code",
      "execution_count": null,
      "metadata": {
        "deletable": false,
        "editable": false,
        "id": "Upif3hm7roXZ"
      },
      "outputs": [],
      "source": [
        "grader.check(\"q1_6\")"
      ]
    },
    {
      "cell_type": "markdown",
      "metadata": {
        "id": "5qmhSzR1roXZ"
      },
      "source": [
        "## 2. Interpreting Confidence Intervals\n"
      ]
    },
    {
      "cell_type": "markdown",
      "metadata": {
        "id": "NP9m9XNvroXZ"
      },
      "source": [
        "The staff computed the following 95% confidence interval for the percentage of Imm Thai voters: \n",
        "\n",
        "$$[49.40, 54.47]$$\n",
        "\n",
        "(Your answer may have been a bit different; that doesn't mean it was wrong!)"
      ]
    },
    {
      "cell_type": "markdown",
      "metadata": {
        "deletable": false,
        "editable": false,
        "id": "r4_9XD1jroXb"
      },
      "source": [
        "#### Question 1\n",
        "Can we say there is a 95% probability that the interval [49.40, 54.47] contains the true percentage of the population that votes for Imm Thai as the best Berkeley Thai restaurant? Answer \"yes\" or \"no\" and explain your reasoning. \n",
        "\n",
        "*Note:* ambiguous answers using language like \"sometimes\" or \"maybe\" will not receive credit.\n",
        "\n",
        "<!--\n",
        "BEGIN QUESTION\n",
        "name: q2_1\n",
        "manual: true\n",
        "-->\n",
        "<!-- EXPORT TO PDF -->"
      ]
    },
    {
      "cell_type": "markdown",
      "metadata": {
        "export_pdf": true,
        "manual_problem_id": "interpreting_2",
        "id": "CChTNxmMroXb"
      },
      "source": [
        "*Write your answer here, replacing this text.*"
      ]
    },
    {
      "cell_type": "markdown",
      "metadata": {
        "deletable": false,
        "editable": false,
        "id": "bfR5W9CaroXb"
      },
      "source": [
        "**Question 2**\n",
        "\n",
        "The staff also created 70%, 90%, and 99% confidence intervals from the same sample, but we forgot to label which confidence interval represented which percentages! Match each confidence level (70%, 90%, 99%) with its corresponding interval in the cell below (e.g. __ % CI: [49.87, 54.0] $\\rightarrow$ replace the blank with one of the three confidence levels). **Then**, explain your thought process and how you came up with your answers.\n",
        "\n",
        "The intervals are below:\n",
        "\n",
        "* [49.87, 54.00]\n",
        "* [50.67, 53.27]\n",
        "* [48.80, 55.40]\n",
        "\n",
        "<!--\n",
        "BEGIN QUESTION\n",
        "name: q2_2\n",
        "manual: true\n",
        "-->\n",
        "<!-- EXPORT TO PDF -->"
      ]
    },
    {
      "cell_type": "markdown",
      "metadata": {
        "export_pdf": true,
        "for_assignment_type": "solution",
        "id": "8-_nSs6sroXb"
      },
      "source": [
        "*Write your answer here, replacing this text.*"
      ]
    },
    {
      "cell_type": "markdown",
      "metadata": {
        "deletable": false,
        "editable": false,
        "id": "h0VPCznqroXd"
      },
      "source": [
        "#### Question 3\n",
        "Suppose we produced 5,000 new samples (each one a uniform random sample of 1,500 voters/students) from the population and created a 95% confidence interval from each one. Roughly how many of those 5,000 intervals do you expect will actually contain the true percentage of the population?\n",
        "\n",
        "Assign your answer to `true_percentage_intervals`.\n",
        "\n",
        "<!--\n",
        "BEGIN QUESTION\n",
        "name: q2_3\n",
        "manual: false\n",
        "-->"
      ]
    },
    {
      "cell_type": "code",
      "execution_count": null,
      "metadata": {
        "id": "ZNfQJ2zgroXd"
      },
      "outputs": [],
      "source": [
        "true_percentage_intervals = ..."
      ]
    },
    {
      "cell_type": "code",
      "execution_count": null,
      "metadata": {
        "deletable": false,
        "editable": false,
        "id": "HU1Fr5wproXe"
      },
      "outputs": [],
      "source": [
        "grader.check(\"q2_3\")"
      ]
    },
    {
      "cell_type": "markdown",
      "metadata": {
        "deletable": false,
        "editable": false,
        "id": "4pXUPvvVroXe"
      },
      "source": [
        "Recall the second bootstrap confidence interval you created, which estimated Imm Thai's lead over Lucky House, Thai Temple, and Thai Basil combined. Among\n",
        "voters in the sample, Imm Thai's lead was 4%. The staff's 95% confidence interval for the true lead (in the population of all voters) was\n",
        "\n",
        "$$[-0.80, 8.80]$$\n",
        "\n",
        "Suppose we are interested in testing a simple yes-or-no question:\n",
        "\n",
        "> \"Is the percentage of votes for Imm Thai tied with the percentage of votes for Lucky House, Thai Temple, and Thai Basil combined?\"\n",
        "\n",
        "Our null hypothesis is that the percentages are equal, or equivalently, that Imm Thai's lead is exactly 0. Our alternative hypothesis is that Imm Thai's lead is not equal to 0.  In the questions below, don't compute any confidence interval yourself - use only the staff's 95% confidence interval.\n",
        "\n",
        "\n",
        "**Question 4** \n",
        "\n",
        "Say we use a 5% P-value cutoff.  Do we reject the null, fail to reject the null, or are we unable to tell using our staff confidence interval?\n",
        "\n",
        "Assign `restaurants_tied` to the number corresponding to the correct answer.\n",
        "\n",
        "1. Reject the null / Data is consistent with the alternative hypothesis\n",
        "2. Fail to reject the null / Data is consistent with the null hypothesis\n",
        "3. Unable to tell using our staff confidence interval\n",
        "\n",
        "*Hint:* If you're confused, take a look at [this chapter](https://www.inferentialthinking.com/chapters/13/4/using-confidence-intervals.html) of the textbook.\n",
        "\n",
        "<!--\n",
        "BEGIN QUESTION\n",
        "name: q2_4\n",
        "manual: false\n",
        "-->"
      ]
    },
    {
      "cell_type": "code",
      "execution_count": null,
      "metadata": {
        "id": "_ueoXBtJroXf"
      },
      "outputs": [],
      "source": [
        "restaurants_tied = ..."
      ]
    },
    {
      "cell_type": "code",
      "execution_count": null,
      "metadata": {
        "deletable": false,
        "editable": false,
        "id": "bT6fp0l9roXf"
      },
      "outputs": [],
      "source": [
        "grader.check(\"q2_4\")"
      ]
    },
    {
      "cell_type": "markdown",
      "metadata": {
        "deletable": false,
        "editable": false,
        "id": "aJYYWv2LroXg"
      },
      "source": [
        "#### Question 5\n",
        "What if, instead, we use a P-value cutoff of 1%? Do we reject the null, fail to reject the null, or are we unable to tell using our staff confidence interval?\n",
        "\n",
        "Assign `cutoff_one_percent` to the number corresponding to the correct answer.\n",
        "\n",
        "1. Reject the null / Data is consistent with the alternative hypothesis\n",
        "2. Fail to reject the null / Data is consistent with the null hypothesis\n",
        "3. Unable to tell using our staff confidence interval\n",
        "\n",
        "<!--\n",
        "BEGIN QUESTION\n",
        "name: q2_5\n",
        "manual: false\n",
        "-->"
      ]
    },
    {
      "cell_type": "code",
      "execution_count": null,
      "metadata": {
        "id": "rEPbqQcaroXg"
      },
      "outputs": [],
      "source": [
        "cutoff_one_percent = ..."
      ]
    },
    {
      "cell_type": "code",
      "execution_count": null,
      "metadata": {
        "deletable": false,
        "editable": false,
        "id": "mnxTpP2lroXh"
      },
      "outputs": [],
      "source": [
        "grader.check(\"q2_5\")"
      ]
    },
    {
      "cell_type": "markdown",
      "metadata": {
        "deletable": false,
        "editable": false,
        "id": "MELUAI4SroXh"
      },
      "source": [
        "#### Question 6\n",
        "What if we use a P-value cutoff of 10%? Do we reject, fail to reject, or are we unable to tell using our confidence interval?\n",
        "\n",
        "Assign `cutoff_ten_percent` to the number corresponding to the correct answer.\n",
        "\n",
        "1. Reject the null / Data is consistent with the alternative hypothesis\n",
        "2. Fail to reject the null / Data is consistent with the null hypothesis\n",
        "3. Unable to tell using our staff confidence interval\n",
        "\n",
        "<!--\n",
        "BEGIN QUESTION\n",
        "name: q2_6\n",
        "manual: false\n",
        "-->"
      ]
    },
    {
      "cell_type": "code",
      "execution_count": null,
      "metadata": {
        "id": "gBdMf1FjroXh"
      },
      "outputs": [],
      "source": [
        "cutoff_ten_percent = ..."
      ]
    },
    {
      "cell_type": "code",
      "execution_count": null,
      "metadata": {
        "deletable": false,
        "editable": false,
        "id": "C1-MG6vProXi"
      },
      "outputs": [],
      "source": [
        "grader.check(\"q2_6\")"
      ]
    }
  ],
  "metadata": {
    "kernelspec": {
      "display_name": "Python 3 (ipykernel)",
      "language": "python",
      "name": "python3"
    },
    "language_info": {
      "codemirror_mode": {
        "name": "ipython",
        "version": 3
      },
      "file_extension": ".py",
      "mimetype": "text/x-python",
      "name": "python",
      "nbconvert_exporter": "python",
      "pygments_lexer": "ipython3",
      "version": "3.7.1"
    },
    "colab": {
      "provenance": []
    }
  },
  "nbformat": 4,
  "nbformat_minor": 0
}