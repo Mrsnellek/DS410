{
  "cells": [
    {
      "cell_type": "markdown",
      "id": "3ccd35ff",
      "metadata": {
        "id": "3ccd35ff"
      },
      "source": [
        "The contents of this course including lectures, labs, homework assignments, and exams have all been adapted from the [Data 8 course at University California Berkley](https://data.berkeley.edu/education/courses/data-8). Through their generosity and passion for undergraduate education, the Data 8 community at Berkley has opened their content and expertise for other universities to adapt in the name of undergraduate education."
      ]
    },
    {
      "cell_type": "code",
      "execution_count": null,
      "id": "cb1c4110",
      "metadata": {
        "id": "cb1c4110"
      },
      "outputs": [],
      "source": [
        "#!pip install datascience\n",
        "from datascience import *\n",
        "import numpy as np\n",
        "\n",
        "%matplotlib inline\n",
        "import matplotlib.pyplot as plots\n",
        "plots.style.use('fivethirtyeight')"
      ]
    },
    {
      "cell_type": "markdown",
      "id": "f7c7ea4d",
      "metadata": {
        "id": "f7c7ea4d"
      },
      "source": [
        "# Chapter 12 Comparing Two Samples\n",
        "\n",
        "In this chapter, we develop a way of using Python to compare two random samples and answer questions about the similarities and differences between them. You will see that the methods we develop have diverse applications. Our examples are from medicine and public health.\n",
        "\n",
        "* In modern data analytics, deciding whether two numerical samples come from the same underlying distribution is called A/B testing.\n",
        "\n",
        "We will develop the method in the context of an example. The data come from a sample of newborns in a large hospital system. We will treat it as if it were a simple random sample though the sampling was done in multiple stages. [Stat Labs](https://www.stat.berkeley.edu/~statlabs/) by Deborah Nolan and Terry Speed has details about a larger dataset from which this set is drawn.\n",
        "\n",
        "* The table births contains the following variables for 1,174 mother-baby pairs\n",
        "    * The baby’s birth weight in ounces\n",
        "    * The number of gestational days\n",
        "    * The mother’s age in completed years\n",
        "    * The mother’s height in inches\n",
        "    * Pregnancy weight in pounds\n",
        "    * Whether or not the mother smoked during pregnancy."
      ]
    },
    {
      "cell_type": "code",
      "execution_count": null,
      "id": "f45bfab6",
      "metadata": {
        "id": "f45bfab6"
      },
      "outputs": [],
      "source": [
        "births = Table.read_table('baby.csv')\n",
        "births"
      ]
    },
    {
      "cell_type": "markdown",
      "id": "5c8ceb47",
      "metadata": {
        "id": "5c8ceb47"
      },
      "source": [
        "Lets do some EDA (Exploratory Data Analysis) on this data set. Are there any associations that jump out?"
      ]
    },
    {
      "cell_type": "code",
      "execution_count": null,
      "id": "be077657",
      "metadata": {
        "id": "be077657"
      },
      "outputs": [],
      "source": [
        "births.scatter('Maternal Pregnancy Weight', 'Birth Weight', group = 'Maternal Smoker')"
      ]
    },
    {
      "cell_type": "code",
      "execution_count": null,
      "id": "025353e1",
      "metadata": {
        "id": "025353e1"
      },
      "outputs": [],
      "source": [
        "births.scatter('Gestational Days', 'Birth Weight', group = 'Maternal Smoker')"
      ]
    },
    {
      "cell_type": "code",
      "execution_count": null,
      "id": "301d88e6",
      "metadata": {
        "id": "301d88e6"
      },
      "outputs": [],
      "source": [
        "births.scatter('Maternal Age', 'Birth Weight', group = 'Maternal Smoker')"
      ]
    },
    {
      "cell_type": "markdown",
      "id": "5423ce52",
      "metadata": {
        "id": "5423ce52"
      },
      "source": [
        "We’ll start by selecting just Birth Weight and Maternal Smoker. There are 715 non-smokers among the women in the sample, and 459 smokers."
      ]
    },
    {
      "cell_type": "code",
      "execution_count": null,
      "id": "02848512",
      "metadata": {
        "id": "02848512"
      },
      "outputs": [],
      "source": [
        "smoking_and_birthweight = births.select('Maternal Smoker', 'Birth Weight')\n",
        "smoking_and_birthweight"
      ]
    },
    {
      "cell_type": "code",
      "execution_count": null,
      "id": "1e5c01de",
      "metadata": {
        "id": "1e5c01de"
      },
      "outputs": [],
      "source": [
        "smoking_and_birthweight.group('Maternal Smoker')"
      ]
    },
    {
      "cell_type": "markdown",
      "id": "8636ee14",
      "metadata": {
        "id": "8636ee14"
      },
      "source": [
        "Let’s look at the distribution of the birth weights of the babies of the non-smoking mothers compared to those of the smoking mothers."
      ]
    },
    {
      "cell_type": "code",
      "execution_count": null,
      "id": "22c0c68d",
      "metadata": {
        "id": "22c0c68d"
      },
      "outputs": [],
      "source": [
        "smoking_and_birthweight.hist('Birth Weight', group = 'Maternal Smoker')"
      ]
    },
    {
      "cell_type": "markdown",
      "id": "8366c86f",
      "metadata": {
        "id": "8366c86f"
      },
      "source": [
        "* The distribution of smokers appears to be based slightly to the left of the distribution corresponding to non-smoking mothers. \n",
        "* This raises the question of whether the difference reflects just chance variation or a difference in the distributions in the larger population. \n",
        "* We can try to answer this question by a test of hypotheses. \n",
        "* The **null hypthosis** says that there is no underlying difference in the populations; the distributions in the samples are different just due to chance.\n",
        "\n",
        "**Null hypothesis:** In the population, the distribution of birth weights of babies is the same for mothers who don’t smoke as for mothers who do. The difference in the sample is due to chance.\n",
        "\n",
        "**Alternative hypothesis:** In the population, the babies of the mothers who smoke have a lower birth weight, on average, than the babies of the non-smokers."
      ]
    },
    {
      "cell_type": "code",
      "execution_count": null,
      "id": "b8908da7",
      "metadata": {
        "id": "b8908da7"
      },
      "outputs": [],
      "source": [
        "means_table = smoking_and_birthweight.group('Maternal Smoker', np.average)\n",
        "means_table"
      ]
    },
    {
      "cell_type": "code",
      "execution_count": null,
      "id": "628007d6",
      "metadata": {
        "id": "628007d6"
      },
      "outputs": [],
      "source": [
        "means = means_table.column(1)\n",
        "observed_difference = means.item(1) - means.item(0)\n",
        "observed_difference"
      ]
    },
    {
      "cell_type": "markdown",
      "id": "b9afe590",
      "metadata": {
        "id": "b9afe590"
      },
      "source": [
        "Let's wrap it into a function so we can simulate the difference repeatedely.  "
      ]
    },
    {
      "cell_type": "code",
      "execution_count": null,
      "id": "95d3dfa9",
      "metadata": {
        "id": "95d3dfa9"
      },
      "outputs": [],
      "source": [
        "def difference_of_means(table, group_label):\n",
        "    \"\"\"Takes: name of table,\n",
        "    column label that indicates the group to which the row belongs\n",
        "    Returns: Difference of mean birth weights of the two groups\"\"\"\n",
        "    reduced = table.select('Birth Weight', group_label)\n",
        "    means_table = reduced.group(group_label, np.average)\n",
        "    means = means_table.column(1)\n",
        "    return means.item(1) - means.item(0)"
      ]
    },
    {
      "cell_type": "code",
      "execution_count": null,
      "id": "0e1c1cc0",
      "metadata": {
        "id": "0e1c1cc0"
      },
      "outputs": [],
      "source": [
        "difference_of_means(births, 'Maternal Smoker')"
      ]
    },
    {
      "cell_type": "markdown",
      "id": "ca6d1909",
      "metadata": {
        "id": "ca6d1909"
      },
      "source": [
        "* To see how the statistic should vary under the null hypothesis, we have to figure out how to simulate the statistic under that hypothesis.\n",
        "* If there were no difference between the two distributions in the underlying population, then whether a birth weight has the label True or False with respect to maternal smoking should make no difference to the average. \n",
        "* The idea, then, is to shuffle all the labels randomly among the mothers. \n",
        "    * This is called random permutation.\n",
        "\n",
        "* Shuffling ensures that the count of True and False labels does not change.\n",
        "* We will reduced the table to have just the columns that we need."
      ]
    },
    {
      "cell_type": "code",
      "execution_count": null,
      "id": "b9b44024",
      "metadata": {
        "id": "b9b44024"
      },
      "outputs": [],
      "source": [
        "smoking_and_birthweight"
      ]
    },
    {
      "cell_type": "markdown",
      "id": "835ce4ce",
      "metadata": {
        "id": "835ce4ce"
      },
      "source": [
        "* To shuffle all the labels, we will draw a random sample of 1,174 rows without replacement. T\n",
        "* The sample will include all the rows of the table, in random order.\n",
        "* We can use the Table method *sample* with the optional *with_replacement=False* argument. We don’t have to specify a sample size, because by default, sample draws as many times as there are rows in the table."
      ]
    },
    {
      "cell_type": "code",
      "execution_count": null,
      "id": "262c3c23",
      "metadata": {
        "id": "262c3c23"
      },
      "outputs": [],
      "source": [
        "shuffled_labels = smoking_and_birthweight.sample(with_replacement = False).column(0)\n",
        "original_and_shuffled = smoking_and_birthweight.with_column('Shuffled Label', shuffled_labels)\n",
        "original_and_shuffled"
      ]
    },
    {
      "cell_type": "markdown",
      "id": "e2642ccd",
      "metadata": {
        "id": "e2642ccd"
      },
      "source": [
        "Let’s see how different the average weights are in the two randomly labeled groups."
      ]
    },
    {
      "cell_type": "code",
      "execution_count": null,
      "id": "5c41c1e4",
      "metadata": {
        "id": "5c41c1e4"
      },
      "outputs": [],
      "source": [
        "shuffled_only = original_and_shuffled.select('Birth Weight','Shuffled Label')\n",
        "shuffled_group_means = shuffled_only.group('Shuffled Label', np.average)\n",
        "shuffled_group_means"
      ]
    },
    {
      "cell_type": "code",
      "execution_count": null,
      "id": "65f56787",
      "metadata": {
        "id": "65f56787"
      },
      "outputs": [],
      "source": [
        "difference_of_means(original_and_shuffled, 'Shuffled Label')"
      ]
    },
    {
      "cell_type": "code",
      "execution_count": null,
      "id": "92510071",
      "metadata": {
        "id": "92510071"
      },
      "outputs": [],
      "source": [
        "difference_of_means(original_and_shuffled, 'Maternal Smoker')"
      ]
    },
    {
      "cell_type": "markdown",
      "id": "2378959e",
      "metadata": {
        "id": "2378959e"
      },
      "source": [
        "* Could a different shuffle have resulted in a larger difference between the group averages? \n",
        "* To get a sense of the variability, we must simulate the difference many times.\n",
        "* As always, we will start by defining a function that simulates one value of the test statistic under the null hypothesis. "
      ]
    },
    {
      "cell_type": "code",
      "execution_count": null,
      "id": "fae2dc3f",
      "metadata": {
        "id": "fae2dc3f"
      },
      "outputs": [],
      "source": [
        "def one_simulated_difference_of_means():\n",
        "    \"\"\"Returns: Difference between mean birthweights\n",
        "    of babies of smokers and non-smokers after shuffling labels\"\"\"\n",
        "    \n",
        "    # array of shuffled labels\n",
        "    shuffled_labels = births.sample(with_replacement=False).column('Maternal Smoker')\n",
        "    \n",
        "    # table of birth weights and shuffled labels\n",
        "    shuffled_table = births.select('Birth Weight').with_column(\n",
        "        'Shuffled Label', shuffled_labels)\n",
        "    \n",
        "    return difference_of_means(shuffled_table, 'Shuffled Label')   "
      ]
    },
    {
      "cell_type": "code",
      "execution_count": null,
      "id": "81dddd7a",
      "metadata": {
        "id": "81dddd7a"
      },
      "outputs": [],
      "source": [
        "one_simulated_difference_of_means()"
      ]
    },
    {
      "cell_type": "markdown",
      "id": "31a4d456",
      "metadata": {
        "id": "31a4d456"
      },
      "source": [
        "Tests based on random permutations of the data are called permutation tests. We are performing one in this example. In the cell below, we will simulate our test statistic – the difference between the average birth weight of the two randomly formed groups – many times and collect the differences in an array."
      ]
    },
    {
      "cell_type": "code",
      "execution_count": null,
      "id": "b468f14a",
      "metadata": {
        "id": "b468f14a"
      },
      "outputs": [],
      "source": [
        "differences = make_array()\n",
        "\n",
        "repetitions = 5000\n",
        "for i in np.arange(repetitions):\n",
        "    new_difference = one_simulated_difference_of_means()\n",
        "    differences = np.append(differences, new_difference)                               "
      ]
    },
    {
      "cell_type": "code",
      "execution_count": null,
      "id": "c84051de",
      "metadata": {
        "id": "c84051de"
      },
      "outputs": [],
      "source": [
        "differences"
      ]
    },
    {
      "cell_type": "code",
      "execution_count": null,
      "id": "69464098",
      "metadata": {
        "id": "69464098"
      },
      "outputs": [],
      "source": [
        "Table().with_column('Difference Between Group Means', differences).hist()\n",
        "print('Observed Difference:', observed_difference)\n",
        "plots.title('Prediction Under the Null Hypothesis');"
      ]
    },
    {
      "cell_type": "code",
      "execution_count": null,
      "id": "355bf471",
      "metadata": {
        "id": "355bf471"
      },
      "outputs": [],
      "source": [
        "Table().with_column('Difference Between Group Means', differences)"
      ]
    },
    {
      "cell_type": "markdown",
      "id": "f7fe0884",
      "metadata": {
        "id": "f7fe0884"
      },
      "source": [
        "* The distribution is centered roughly around 0.\n",
        "* The difference between the group averages should be around 0.\n",
        "* The observed difference in the original sample doesn’t even appear on the horizontal scale of the histogram. \n",
        "* The observed value of the statistic and the predicted behavior of the statistic under the null hypothesis are inconsistent.\n",
        "\n",
        "The conclusion of the test is that the data favor the alternative over the null. It supports the hypothesis that the average birth weight of babies born to mothers who smoke is less than the average birth weight of babies born to non-smokers.\n",
        "\n",
        "* Compute an empirical p-value\n",
        "    * Remember that low values of the statistic favor the alternative hypothesis."
      ]
    },
    {
      "cell_type": "code",
      "execution_count": null,
      "id": "93103905",
      "metadata": {
        "id": "93103905"
      },
      "outputs": [],
      "source": [
        "empirical_p = np.count_nonzero(differences <= observed_difference) / repetitions\n",
        "empirical_p"
      ]
    },
    {
      "cell_type": "code",
      "execution_count": null,
      "id": "291229f4",
      "metadata": {
        "id": "291229f4"
      },
      "outputs": [],
      "source": [
        "np.count_nonzero(differences <= observed_difference)"
      ]
    },
    {
      "cell_type": "markdown",
      "id": "8469c4dd",
      "metadata": {
        "id": "8469c4dd"
      },
      "source": [
        "* We can use the same method to compare other attributes of the smokers and the non-smokers, such as their ages. \n",
        "* Histograms of the ages of the two groups show that in the sample, the mothers who smoked tended to be younger."
      ]
    },
    {
      "cell_type": "code",
      "execution_count": null,
      "id": "4cbddc83",
      "metadata": {
        "id": "4cbddc83"
      },
      "outputs": [],
      "source": [
        "smoking_and_age = births.select('Maternal Smoker', 'Maternal Age')\n",
        "smoking_and_age.hist('Maternal Age', group = 'Maternal Smoker')"
      ]
    },
    {
      "cell_type": "code",
      "execution_count": null,
      "id": "c775bd73",
      "metadata": {
        "id": "c775bd73"
      },
      "outputs": [],
      "source": [
        "def difference_of_means(table, group_label):\n",
        "    \"\"\"Takes: name of table,\n",
        "    column label that indicates the group to which the row belongs\n",
        "    Returns: Difference of mean ages of the two groups\"\"\"\n",
        "    reduced = table.select('Maternal Age', group_label)\n",
        "    means_table = reduced.group(group_label, np.average)\n",
        "    means = means_table.column(1)\n",
        "    return means.item(1) - means.item(0)"
      ]
    },
    {
      "cell_type": "code",
      "execution_count": null,
      "id": "5a5e22bc",
      "metadata": {
        "id": "5a5e22bc"
      },
      "outputs": [],
      "source": [
        "observed_age_difference = difference_of_means(births, 'Maternal Smoker')\n",
        "observed_age_difference"
      ]
    },
    {
      "cell_type": "code",
      "execution_count": null,
      "id": "4090c9e0",
      "metadata": {
        "id": "4090c9e0"
      },
      "outputs": [],
      "source": [
        "def one_simulated_difference_of_means():\n",
        "    \"\"\"Returns: Difference between mean ages\n",
        "    of smokers and non-smokers after shuffling labels\"\"\"\n",
        "    \n",
        "    # array of shuffled labels\n",
        "    shuffled_labels = births.sample(with_replacement=False).column('Maternal Smoker')\n",
        "    \n",
        "    # table of ages and shuffled labels\n",
        "    shuffled_table = births.select('Maternal Age').with_column(\n",
        "        'Shuffled Label', shuffled_labels)\n",
        "    \n",
        "    return difference_of_means(shuffled_table, 'Shuffled Label')   "
      ]
    },
    {
      "cell_type": "code",
      "execution_count": null,
      "id": "3a15f1e1",
      "metadata": {
        "id": "3a15f1e1"
      },
      "outputs": [],
      "source": [
        "shuffled_labels = births.sample(with_replacement=False).column('Maternal Smoker')\n",
        "shuffled_table = births.select('Maternal Age').with_column(\n",
        "        'Shuffled Label', shuffled_labels)\n",
        "births"
      ]
    },
    {
      "cell_type": "code",
      "execution_count": null,
      "id": "4e23b878",
      "metadata": {
        "id": "4e23b878"
      },
      "outputs": [],
      "source": [
        "age_differences = make_array()\n",
        "\n",
        "repetitions = 5000\n",
        "for i in np.arange(repetitions):\n",
        "    new_difference = one_simulated_difference_of_means()\n",
        "    age_differences = np.append(age_differences, new_difference)"
      ]
    },
    {
      "cell_type": "code",
      "execution_count": null,
      "id": "1f844196",
      "metadata": {
        "id": "1f844196"
      },
      "outputs": [],
      "source": [
        "Table().with_column(\n",
        "    'Difference Between Group Means', age_differences).hist(\n",
        "    right_end = observed_age_difference)\n",
        "# Plotting parameters; you can ignore the code below\n",
        "plots.ylim(-0.1, 1.2)\n",
        "plots.scatter(observed_age_difference, 0, color='red', s=40, zorder=3)\n",
        "plots.title('Prediction Under the Null Hypothesis')\n",
        "print('Observed Difference:', observed_age_difference)"
      ]
    },
    {
      "cell_type": "code",
      "execution_count": null,
      "id": "6dadd1e4",
      "metadata": {
        "id": "6dadd1e4"
      },
      "outputs": [],
      "source": [
        "empirical_p = np.count_nonzero(age_differences <= observed_age_difference) / 5000\n",
        "empirical_p"
      ]
    },
    {
      "cell_type": "markdown",
      "id": "5af3ffb4",
      "metadata": {
        "id": "5af3ffb4"
      },
      "source": [
        "The empirical p-value is around 1% and therefore the result is statistically significant. The test supports the hypothesis that the smokers were younger on average."
      ]
    },
    {
      "cell_type": "markdown",
      "id": "fe91138e",
      "metadata": {
        "id": "fe91138e"
      },
      "source": [
        "## Another example: Treating Chronic Back Pain: A Randomized Controlled Trial"
      ]
    },
    {
      "cell_type": "markdown",
      "id": "62d09ef3",
      "metadata": {
        "id": "62d09ef3"
      },
      "source": [
        "* A randomized controlled trial (RCT) examined the effect of using Botulinum Toxin A (BTA) as a treatment for lower back pain. \n",
        "* Thirty one patients with low-back pain were randomized into treatment and control groups\n",
        "* 15 in the treatment group\n",
        "* 16 in control were given saline solution \n",
        "* Trials were run double-blind so that neither doctors nor patients knew which group they were in\n",
        "\n",
        "* 9 of the 15 in the treatment group and 2 of the 16 in the control group had pain relief \n",
        "* These data are in the table bta and appear to show that the treatment has a clear benefit."
      ]
    },
    {
      "cell_type": "code",
      "execution_count": null,
      "id": "cd395871",
      "metadata": {
        "id": "cd395871"
      },
      "outputs": [],
      "source": [
        "bta = Table.read_table('bta.csv')\n",
        "bta.show()"
      ]
    },
    {
      "cell_type": "code",
      "execution_count": null,
      "id": "f8767a6a",
      "metadata": {
        "id": "f8767a6a"
      },
      "outputs": [],
      "source": [
        "bta.group('Group', sum)"
      ]
    },
    {
      "cell_type": "code",
      "execution_count": null,
      "id": "98e8e789",
      "metadata": {
        "id": "98e8e789"
      },
      "outputs": [],
      "source": [
        "bta.group('Group', np.average)"
      ]
    },
    {
      "cell_type": "markdown",
      "id": "6f2e4538",
      "metadata": {
        "id": "6f2e4538"
      },
      "source": [
        "* The indications are that botulinum toxin A did better than the saline\n",
        "* But the conclusion isn’t yet a slam-dunk\n",
        "* Patients were assigned at random into the two groups, so perhaps the difference could just be due to chance?"
      ]
    },
    {
      "cell_type": "markdown",
      "id": "06077f6c",
      "metadata": {
        "id": "06077f6c"
      },
      "source": [
        "* There are 31 potential treatment outcomes \n",
        "* And 31 potential control outcomes\n",
        "* Are these two groups the same, or are they different?\n",
        "\n",
        "The table *observed_outcomes* collects the information about every patient’s potential outcomes, leaving the unobserved half of each “ticket” blank. (It’s just another way of thinking about the bta table, carrying the same information.)"
      ]
    },
    {
      "cell_type": "code",
      "execution_count": null,
      "id": "d77f7731",
      "metadata": {
        "id": "d77f7731"
      },
      "outputs": [],
      "source": [
        "observed_outcomes = Table.read_table(\"observed_outcomes.csv\")\n",
        "observed_outcomes.show()"
      ]
    },
    {
      "cell_type": "markdown",
      "id": "8f2892cf",
      "metadata": {
        "id": "8f2892cf"
      },
      "source": [
        "The question is whether the treatment does anything. In terms of the table observed_outcomes, the question is whether the distribution of the 31 “treatment” values in Column 2 (including the unknown ones) is different from the distribution of the 31 “control” values in Column 3 (again including the unknown ones).\n",
        "\n",
        "**Null Hypothesis**: The distribution of all 31 potential “treatment” outcomes is the same as that of all 31 potential “control” outcomes. Botulinum toxin A does nothing different from saline; the difference in the two samples is just due to chance.\n",
        "\n",
        "**Alternative Hypothesis**: The distribution of 31 potential “treatment” outcomes is different from that of the 31 control outcomes. The treatment does something different from the control.\n",
        "\n",
        "There are 31 observed outcomes jointly in the two groups. If the null hypothesis were true, it wouldn’t matter which of those 31 outcomes were labeled “treatment” and which “control.” Any random subset of 16 out of the 31 values could be called “control” and the remaining 15 “treatment”.\n",
        "\n",
        "We can simulate this. We can randomly permute the 31 values, split them into two groups of 16 and 15, and see how different the distributions in the two groups are. Since the data are zeros and ones, we can just see how different the two proportions are.\n",
        "\n",
        "That’s exactly what we did for A/B testing in the previous section. Sample A is now the control group and Sample B the treatment group. We will carry out the test below showing the details of all the steps. You should confirm that they are the same as the steps carried out for A/B testing."
      ]
    },
    {
      "cell_type": "code",
      "execution_count": null,
      "id": "471d3169",
      "metadata": {
        "id": "471d3169"
      },
      "outputs": [],
      "source": [
        "bta.group('Group', np.average)"
      ]
    },
    {
      "cell_type": "code",
      "execution_count": null,
      "id": "a7addfc7",
      "metadata": {
        "id": "a7addfc7"
      },
      "outputs": [],
      "source": [
        "observed_proportions = bta.group('Group', np.average).column(1)\n",
        "observed_distance = abs(observed_proportions.item(0) - observed_proportions.item(1))\n",
        "observed_distance"
      ]
    },
    {
      "cell_type": "code",
      "execution_count": null,
      "id": "034e523d",
      "metadata": {
        "id": "034e523d"
      },
      "outputs": [],
      "source": [
        "def distance(table, group_label):\n",
        "    reduced = table.select('Result', group_label)\n",
        "    proportions = reduced.group(group_label, np.average).column(1)\n",
        "    return abs(proportions.item(1) - proportions.item(0))"
      ]
    },
    {
      "cell_type": "code",
      "execution_count": null,
      "id": "73119efe",
      "metadata": {
        "id": "73119efe"
      },
      "outputs": [],
      "source": [
        "from scipy import stats"
      ]
    },
    {
      "cell_type": "code",
      "execution_count": null,
      "id": "41a3c972",
      "metadata": {
        "id": "41a3c972"
      },
      "outputs": [],
      "source": [
        "stats.ttest_ind(bta.where('Group', 'Treatment').column('Result'), bta.where('Group', 'Control').column('Result'))"
      ]
    },
    {
      "cell_type": "code",
      "execution_count": null,
      "id": "b73249b6",
      "metadata": {
        "id": "b73249b6"
      },
      "outputs": [],
      "source": [
        "bta.select('Group', 'Result').hist(group = 'Group')"
      ]
    },
    {
      "cell_type": "code",
      "execution_count": null,
      "id": "43ae9922",
      "metadata": {
        "id": "43ae9922"
      },
      "outputs": [],
      "source": [
        "np.count_nonzero(distances >= observed_distance) / repetitions"
      ]
    },
    {
      "cell_type": "code",
      "execution_count": null,
      "id": "7c98fed7",
      "metadata": {
        "id": "7c98fed7"
      },
      "outputs": [],
      "source": [
        "distance(bta, 'Group')"
      ]
    },
    {
      "cell_type": "code",
      "execution_count": null,
      "id": "12c96e11",
      "metadata": {
        "id": "12c96e11"
      },
      "outputs": [],
      "source": [
        "shuffled_labels = bta.sample(with_replacement=False).column(0)"
      ]
    },
    {
      "cell_type": "code",
      "execution_count": null,
      "id": "072c4a64",
      "metadata": {
        "id": "072c4a64"
      },
      "outputs": [],
      "source": [
        "stats.ttest_ind(bta_with_shuffled_labels.where('Shuffled Label', 'Treatment').column('Result'), bta_with_shuffled_labels.where('Shuffled Label', 'Control').column('Result'))"
      ]
    },
    {
      "cell_type": "code",
      "execution_count": null,
      "id": "f9124216",
      "metadata": {
        "id": "f9124216"
      },
      "outputs": [],
      "source": [
        "bta_with_shuffled_labels = bta.with_column('Shuffled Label', shuffled_labels)\n",
        "bta_with_shuffled_labels.show()"
      ]
    },
    {
      "cell_type": "code",
      "execution_count": null,
      "id": "a112e345",
      "metadata": {
        "id": "a112e345"
      },
      "outputs": [],
      "source": [
        "distance(bta_with_shuffled_labels, 'Shuffled Label')"
      ]
    },
    {
      "cell_type": "code",
      "execution_count": null,
      "id": "2ad35f22",
      "metadata": {
        "id": "2ad35f22"
      },
      "outputs": [],
      "source": [
        "def one_simulated_distance():\n",
        "    shuffled_labels = bta.sample(with_replacement = False).column('Group')\n",
        "    shuffled_table = bta.select('Result').with_column(\n",
        "        'Shuffled Label', shuffled_labels)\n",
        "    return distance(shuffled_table, 'Shuffled Label'), stats.ttest_ind(shuffled_table.where('Shuffled Label', 'Treatment').column('Result'), shuffled_table.where('Shuffled Label', 'Control').column('Result'))[1]\n"
      ]
    },
    {
      "cell_type": "code",
      "execution_count": null,
      "id": "9d3f4e43",
      "metadata": {
        "id": "9d3f4e43"
      },
      "outputs": [],
      "source": [
        "one_simulated_distance()"
      ]
    },
    {
      "cell_type": "code",
      "execution_count": null,
      "id": "f5b39449",
      "metadata": {
        "id": "f5b39449"
      },
      "outputs": [],
      "source": [
        "distances = make_array()\n",
        "p_vals = make_array()\n",
        "repetitions = 20\n",
        "for i in np.arange(repetitions):\n",
        "    new_distance = one_simulated_distance()\n",
        "    distances = np.append(distances, new_distance[0])\n",
        "    p_vals = np.append(p_vals, new_distance[1])"
      ]
    },
    {
      "cell_type": "code",
      "execution_count": null,
      "id": "1b596f9a",
      "metadata": {
        "id": "1b596f9a"
      },
      "outputs": [],
      "source": [
        "Table().with_column('Pvals', p_vals).hist()\n",
        "plots.scatter(0.05, 0, color='red', s=40, zorder=3)"
      ]
    },
    {
      "cell_type": "code",
      "execution_count": null,
      "id": "e77103a1",
      "metadata": {
        "id": "e77103a1"
      },
      "outputs": [],
      "source": [
        "np.count_nonzero(p_vals <= 0.05) / repetitions"
      ]
    },
    {
      "cell_type": "code",
      "execution_count": null,
      "id": "2c6b5613",
      "metadata": {
        "id": "2c6b5613"
      },
      "outputs": [],
      "source": [
        "Table().with_column('Distance', distances).hist(\n",
        "    bins = np.arange(0, 0.7, 0.1), left_end = observed_distance)\n",
        "# Plotting parameters; you can ignore the code below\n",
        "plots.ylim(-0.1, 5.5)\n",
        "plots.scatter(observed_distance, 0, color='red', s=40, zorder=3)\n",
        "plots.title('Prediction Under the Null Hypothesis')\n",
        "print('Observed Distance', observed_distance)"
      ]
    },
    {
      "cell_type": "code",
      "execution_count": null,
      "id": "1aaad01f",
      "metadata": {
        "id": "1aaad01f"
      },
      "outputs": [],
      "source": [
        "empirical_p = np.count_nonzero(distances >= observed_distance) / repetitions\n",
        "empirical_p"
      ]
    },
    {
      "cell_type": "markdown",
      "id": "d26797af",
      "metadata": {
        "id": "d26797af"
      },
      "source": [
        "This is a small p-value. The observed statistic is in the tail of the empirical histogram of the test statistic generated under the null hypothesis.\n",
        "\n",
        "The result is statistically significant. The test favors the alternative hypothesis over the null. The evidence supports the hypothesis that the treatment is doing something.\n",
        "\n",
        "The study reports a P-value of 0.009, or 0.9%, which is not far from our empirical value.\n",
        "\n",
        "Because the trials were randomized, the test is evidence that the treatment causes the difference. The random assignment of patients to the two groups ensures that there is no confounding variable that could affect the conclusion of causality.\n",
        "\n",
        "If the treatment had not been randomly assigned, our test would still point toward an association between the treatment and back pain outcomes among our 31 patients. **But beware**: without randomization, this association would not imply that the treatment caused a change in back pain outcomes. For example, if the patients themselves had chosen whether to administer the treatment, perhaps the patients experiencing more pain would be more likely to choose the treatment and more likely to experience some reduction in pain even without medication. Pre-existing pain would then be a confounding factor in the analysis."
      ]
    }
  ],
  "metadata": {
    "kernelspec": {
      "display_name": "Python 3 (ipykernel)",
      "language": "python",
      "name": "python3"
    },
    "language_info": {
      "codemirror_mode": {
        "name": "ipython",
        "version": 3
      },
      "file_extension": ".py",
      "mimetype": "text/x-python",
      "name": "python",
      "nbconvert_exporter": "python",
      "pygments_lexer": "ipython3",
      "version": "3.7.1"
    },
    "colab": {
      "provenance": []
    }
  },
  "nbformat": 4,
  "nbformat_minor": 5
}