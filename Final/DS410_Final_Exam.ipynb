{
  "cells": [
    {
      "cell_type": "markdown",
      "metadata": {
        "id": "view-in-github",
        "colab_type": "text"
      },
      "source": [
        "<a href=\"https://colab.research.google.com/github/Mrsnellek/DS410/blob/main/Final/DS410_Final_Exam.ipynb\" target=\"_parent\"><img src=\"https://colab.research.google.com/assets/colab-badge.svg\" alt=\"Open In Colab\"/></a>"
      ]
    },
    {
      "cell_type": "code",
      "source": [
        "!pip install datascience -q"
      ],
      "metadata": {
        "id": "6Rt27odVH-b3"
      },
      "id": "6Rt27odVH-b3",
      "execution_count": null,
      "outputs": []
    },
    {
      "cell_type": "code",
      "source": [
        "!git clone https://github.com/Mrsnellek/DS410.git"
      ],
      "metadata": {
        "id": "JPpT96jhIA68"
      },
      "id": "JPpT96jhIA68",
      "execution_count": null,
      "outputs": []
    },
    {
      "cell_type": "code",
      "source": [
        "cd DS410/Final"
      ],
      "metadata": {
        "id": "tHKk4OVxIE2l"
      },
      "id": "tHKk4OVxIE2l",
      "execution_count": null,
      "outputs": []
    },
    {
      "cell_type": "code",
      "execution_count": null,
      "id": "4ff336ac",
      "metadata": {
        "id": "4ff336ac"
      },
      "outputs": [],
      "source": [
        "# Just run this sell to install and import the necessay libraries\n",
        "from datascience import *\n",
        "import numpy as np\n",
        "\n",
        "%matplotlib inline\n",
        "import matplotlib.pyplot as plots\n",
        "plots.style.use('fivethirtyeight')"
      ]
    },
    {
      "cell_type": "markdown",
      "id": "9892484c",
      "metadata": {
        "id": "9892484c"
      },
      "source": [
        "# DS 410 Final Exam\n",
        "\n",
        "## You must work alone on this exam. You may not receive any help from any person or by posting questions to a message board.  Receiving any help from a person or a message board will be considered a violation of the Regis University academic integraty policy. Dot not download and distribute the exam to any person or website.\n",
        "\n",
        "\n",
        "<font color='red'>Double click then replace this sentence with your full name indicating you have read and will adhear to the policies outlined above.</font>"
      ]
    },
    {
      "cell_type": "markdown",
      "id": "65f51ea4",
      "metadata": {
        "id": "65f51ea4"
      },
      "source": [
        "## The following section tests A/B testing, hypothesis,  p-values, and 95% CI."
      ]
    },
    {
      "cell_type": "code",
      "source": [],
      "metadata": {
        "id": "OwFUuiMnF6qH"
      },
      "id": "OwFUuiMnF6qH",
      "execution_count": null,
      "outputs": []
    },
    {
      "cell_type": "code",
      "execution_count": null,
      "id": "135c63a7",
      "metadata": {
        "id": "135c63a7"
      },
      "outputs": [],
      "source": [
        "# Question 1:  Import the diabetes.csv data as diabetes\n",
        "diabetes = ...\n",
        "diabetes"
      ]
    },
    {
      "cell_type": "code",
      "execution_count": null,
      "id": "0e46a62c",
      "metadata": {
        "id": "0e46a62c"
      },
      "outputs": [],
      "source": [
        "#Question 2: Plot a histogram (distribution) showing the BMI of males and females (gender) column:\n",
        "..."
      ]
    },
    {
      "cell_type": "code",
      "execution_count": null,
      "id": "ff95a3f5",
      "metadata": {
        "id": "ff95a3f5"
      },
      "outputs": [],
      "source": [
        "# Question 3: Write a Null Hypothesis and Alternative Hypothesis that will test if there is an underlining \n",
        "# difference between the BMI of males and females in this study.\n",
        "\n",
        "Null_Hypothesis = ...\n",
        "Alternative_Hypothosis = ..."
      ]
    },
    {
      "cell_type": "code",
      "execution_count": null,
      "id": "1b4514ff",
      "metadata": {
        "id": "1b4514ff"
      },
      "outputs": [],
      "source": [
        "# Question 4: Calcuate the observed_difference between the BMI of the males and females in the study.\n",
        "\n",
        "observed_difference = ...\n",
        "observed_difference"
      ]
    },
    {
      "cell_type": "code",
      "execution_count": null,
      "id": "26d503b2",
      "metadata": {
        "id": "26d503b2"
      },
      "outputs": [],
      "source": [
        "# Question 5: Wrap the above calculations in Qustion 4 into a function called 'differnce_of_means'.  \n",
        "# It should take two agruments: data_table and gourp_label\n",
        "\n",
        "..."
      ]
    },
    {
      "cell_type": "code",
      "execution_count": null,
      "id": "42f7f4a2",
      "metadata": {
        "id": "42f7f4a2"
      },
      "outputs": [],
      "source": [
        "# Question 6: Create a data table called 'bmi_gender_shuffeld' with the following columns: BMI, Gender, Shuffled_Gender.\n",
        "# The Shuffled_Gender column should have a random shuffling of the Gender column.\n",
        "\n",
        "bmi_gender_shuffled = ...\n",
        "bmi_gender_shuffled"
      ]
    },
    {
      "cell_type": "code",
      "execution_count": null,
      "id": "22c850a7",
      "metadata": {
        "id": "22c850a7"
      },
      "outputs": [],
      "source": [
        "# Question 7: Use your previouse defined difference_of_means function to calculate the observed difference \n",
        "# of the shuffled lables.\n",
        "\n",
        "..."
      ]
    },
    {
      "cell_type": "code",
      "execution_count": null,
      "id": "b73f2983",
      "metadata": {
        "id": "b73f2983"
      },
      "outputs": [],
      "source": [
        "# Question 8: Wrap the above calculations in Questions 5 and 6 into a function called simulated_difference. \n",
        "# It should take no agurments but create a new shuffled table and return the difference_of_means from the shuffled labels.\n",
        "# Run the simulated_difference function to make sure a new simulated difference is returned each time. \n",
        "\n",
        "..."
      ]
    },
    {
      "cell_type": "code",
      "execution_count": null,
      "id": "afd99269",
      "metadata": {
        "id": "afd99269"
      },
      "outputs": [],
      "source": [
        "# Question 9: Create a permutation test and run the simulated differnce 5000 times.  Store the resutls in an \n",
        "# array called differnces.\n",
        "\n",
        "...\n",
        "differences"
      ]
    },
    {
      "cell_type": "code",
      "execution_count": null,
      "id": "c71216b3",
      "metadata": {
        "id": "c71216b3"
      },
      "outputs": [],
      "source": [
        "# Question 10: Plot a histrogram of the differences calculated above in Question 9.\n",
        "\n",
        "..."
      ]
    },
    {
      "cell_type": "code",
      "execution_count": null,
      "id": "63e3ae4f",
      "metadata": {
        "id": "63e3ae4f"
      },
      "outputs": [],
      "source": [
        "# Question 11: Calcualte the p_value of the calcualted differences and the observed difference.\n",
        "\n",
        "p_value = ...\n",
        "p_value"
      ]
    },
    {
      "cell_type": "code",
      "execution_count": null,
      "id": "ddb0a33e",
      "metadata": {
        "id": "ddb0a33e"
      },
      "outputs": [],
      "source": [
        "# Question 11 continued:  Calcualte the 95% confidence interval for the differences of the BMI of the \n",
        "# males of females in the study.\n",
        "\n",
        "..."
      ]
    },
    {
      "cell_type": "markdown",
      "id": "c0701910",
      "metadata": {
        "id": "c0701910"
      },
      "source": [
        "###### Question 12: Write two sentences explaning if the p_value and 95% CI support your Null or Alternative hypothesis.\n",
        "\n",
        "<font color='red'>Double click then replace this sentence with your answer.</font>"
      ]
    },
    {
      "cell_type": "markdown",
      "id": "620044f1",
      "metadata": {
        "id": "620044f1"
      },
      "source": [
        "## The following section tests correlation."
      ]
    },
    {
      "cell_type": "code",
      "execution_count": null,
      "id": "430ca006",
      "metadata": {
        "id": "430ca006"
      },
      "outputs": [],
      "source": [
        "# Here are a number of functions we developed in the class. You may use these functions to answer the following questions.\n",
        "\n",
        "def standard_units(xyz):\n",
        "    return (xyz - np.mean(xyz))/np.std(xyz)  \n",
        "\n",
        "def correlation(t, label_x, label_y):\n",
        "    return np.mean(standard_units(t.column(label_x))*standard_units(t.column(label_y)))\n",
        "\n",
        "def slope(t, label_x, label_y):\n",
        "    r = correlation(t, label_x, label_y)\n",
        "    return r*np.std(t.column(label_y))/np.std(t.column(label_x))\n",
        "\n",
        "def intercept(t, label_x, label_y):\n",
        "    return np.mean(t.column(label_y)) - slope(t, label_x, label_y)*np.mean(t.column(label_x))\n",
        "\n",
        "def fit(table, x, y):\n",
        "    a = slope(table, x, y)\n",
        "    b = intercept(table, x, y)\n",
        "    return a * table.column(x) + b\n",
        "\n",
        "def residual(table, x, y):\n",
        "    return table.column(y) - fit(table, x, y)\n",
        "\n",
        "def residual_plot(table, x, y):\n",
        "    x_array = table.column(x)\n",
        "    t = Table().with_columns(\n",
        "            x, x_array,\n",
        "            'residuals', residual(table, x, y)\n",
        "        )\n",
        "    t.scatter(x, 'residuals')\n",
        "    plots.title('Residual Plot')\n"
      ]
    },
    {
      "cell_type": "code",
      "execution_count": null,
      "id": "59576a9d",
      "metadata": {
        "id": "59576a9d"
      },
      "outputs": [],
      "source": [
        "# Question 12: Plot a scatter plot of BMI vs Cholesterol\n",
        "\n",
        "..."
      ]
    },
    {
      "cell_type": "code",
      "execution_count": null,
      "id": "c9e12a22",
      "metadata": {
        "id": "c9e12a22"
      },
      "outputs": [],
      "source": [
        "# Question 13: What is the slope, intercept, and correlation of the regression line that fits the data?\n",
        "\n",
        "..."
      ]
    },
    {
      "cell_type": "markdown",
      "id": "f0128111",
      "metadata": {
        "id": "f0128111"
      },
      "source": [
        "###### Question 13 (continued): What does the slope tell you about the fit of regressoin line data?  Explaine your answer below in 2 sentances.\n",
        "\n",
        "<font color='red'>Double click then replace this sentence with your answer.</font>"
      ]
    },
    {
      "cell_type": "markdown",
      "id": "57e7d4c6",
      "metadata": {
        "id": "57e7d4c6"
      },
      "source": [
        "###### Question 13 (continued): What does the correlation tell you about the fit of regressoin line data?  Explaine your answer below in 2 sentances.\n",
        "\n",
        "<font color='red'>Double click then replace this sentence with your answer.</font>"
      ]
    },
    {
      "cell_type": "code",
      "execution_count": null,
      "id": "f92aa608",
      "metadata": {
        "id": "f92aa608"
      },
      "outputs": [],
      "source": [
        "# Question 13 (b): What would be the predicted_BMI of a person with a cholesterol = 288?\n",
        "\n",
        "predicted_BMI = ...\n",
        "predicted_BMI"
      ]
    },
    {
      "cell_type": "code",
      "execution_count": null,
      "id": "fc9cb7bd",
      "metadata": {
        "id": "fc9cb7bd"
      },
      "outputs": [],
      "source": [
        "# Question 14: Plot the residuals of the regession fit\n",
        "\n",
        "..."
      ]
    },
    {
      "cell_type": "markdown",
      "id": "3aedbbdb",
      "metadata": {
        "id": "3aedbbdb"
      },
      "source": [
        "###### Question 15: Does the above residual plot in Question 14 support a good fit of the data?  Explaine you answer below in two sentances.\n",
        "\n",
        "<font color='red'>Double click then replace this sentence with your answer.</font>"
      ]
    },
    {
      "cell_type": "markdown",
      "id": "6333a04b",
      "metadata": {
        "id": "6333a04b"
      },
      "source": [
        "###### Question 16: Does your answer to Question 15 contradict your answers in Questions 13 (continued)?  Explaine you answer below in two to three sentances.\n",
        "\n",
        "<font color='red'>Double click then replace this sentence with your answer.</font>"
      ]
    },
    {
      "cell_type": "markdown",
      "id": "68809821",
      "metadata": {
        "id": "68809821"
      },
      "source": [
        "###### Question 16: What does the below residual plot tell you about the fit of the underlying data?  Explaine you answer below in two sentances.\n",
        "\n",
        "<img src=\"residual.png\" width=400 height=400 />\n",
        "\n",
        "<font color='red'>Double click then replace this sentence with your answer.</font>"
      ]
    },
    {
      "cell_type": "markdown",
      "id": "cc579e91",
      "metadata": {
        "id": "cc579e91"
      },
      "source": [
        "## The following section tests Classification."
      ]
    },
    {
      "cell_type": "code",
      "execution_count": null,
      "id": "b531e0cd",
      "metadata": {
        "id": "b531e0cd"
      },
      "outputs": [],
      "source": [
        "# Question 17: Plot Cholesterol vs Glucose with different colors representing Diabetes status.\n",
        "\n",
        "..."
      ]
    },
    {
      "cell_type": "markdown",
      "id": "6e5e2210",
      "metadata": {
        "id": "6e5e2210"
      },
      "source": [
        "###### Question 19: Explain in a few sentances the process for creating an k=5 classification of the new_patient in Question 18.\n",
        "\n",
        "<font color='red'>Double click then replace this sentence with your answer.</font>"
      ]
    },
    {
      "cell_type": "markdown",
      "id": "7bc6b0f3",
      "metadata": {
        "id": "7bc6b0f3"
      },
      "source": [
        "###### Question 18: Suppose a new_patient had a Glucose and Cholesterol value indicated by the red x mark in the plot below.  What would the be the predicted diagnostic using a k=3 nearest neigbor method?  What would be the predicted diagnostic using a k=5 nearest neigbor method? \n",
        "\n",
        "<img src=\"diabetes_point.png\" width=600 height=600 />\n",
        "\n",
        "<font color='red'>Double click then replace this sentence with your answer.</font>"
      ]
    },
    {
      "cell_type": "markdown",
      "id": "c7712627",
      "metadata": {
        "id": "c7712627"
      },
      "source": [
        "## Congratulations, this is the end of the exam! Thank you for your hard work and dedication this term.\n",
        "\n",
        "# Submit a Google Colab link to thge Final_Exam Assignement Drop Box in Worldclass."
      ]
    },
    {
      "cell_type": "code",
      "source": [],
      "metadata": {
        "id": "usg2jxMKH6ux"
      },
      "id": "usg2jxMKH6ux",
      "execution_count": null,
      "outputs": []
    }
  ],
  "metadata": {
    "kernelspec": {
      "display_name": "Python 3 (ipykernel)",
      "language": "python",
      "name": "python3"
    },
    "language_info": {
      "codemirror_mode": {
        "name": "ipython",
        "version": 3
      },
      "file_extension": ".py",
      "mimetype": "text/x-python",
      "name": "python",
      "nbconvert_exporter": "python",
      "pygments_lexer": "ipython3",
      "version": "3.7.1"
    },
    "colab": {
      "provenance": [],
      "include_colab_link": true
    }
  },
  "nbformat": 4,
  "nbformat_minor": 5
}